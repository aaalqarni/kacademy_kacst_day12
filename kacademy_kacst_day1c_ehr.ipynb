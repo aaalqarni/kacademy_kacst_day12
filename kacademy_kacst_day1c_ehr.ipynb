{
  "nbformat": 4,
  "nbformat_minor": 0,
  "metadata": {
    "colab": {
      "provenance": []
    },
    "kernelspec": {
      "name": "python3",
      "display_name": "Python 3"
    },
    "language_info": {
      "name": "python"
    },
    "widgets": {
      "application/vnd.jupyter.widget-state+json": {
        "3534d6e8c6814357aa9fc2f7cc2621bd": {
          "model_module": "@jupyter-widgets/controls",
          "model_name": "HBoxModel",
          "model_module_version": "1.5.0",
          "state": {
            "_dom_classes": [],
            "_model_module": "@jupyter-widgets/controls",
            "_model_module_version": "1.5.0",
            "_model_name": "HBoxModel",
            "_view_count": null,
            "_view_module": "@jupyter-widgets/controls",
            "_view_module_version": "1.5.0",
            "_view_name": "HBoxView",
            "box_style": "",
            "children": [
              "IPY_MODEL_4f333770123f413ba920db90fcbaffd6",
              "IPY_MODEL_84d0d6522dc540ac940372e990e35803",
              "IPY_MODEL_64256af05f4b4265b56f2fd39978b386"
            ],
            "layout": "IPY_MODEL_912de91f9ff6421eab88a51a861323b3"
          }
        },
        "4f333770123f413ba920db90fcbaffd6": {
          "model_module": "@jupyter-widgets/controls",
          "model_name": "HTMLModel",
          "model_module_version": "1.5.0",
          "state": {
            "_dom_classes": [],
            "_model_module": "@jupyter-widgets/controls",
            "_model_module_version": "1.5.0",
            "_model_name": "HTMLModel",
            "_view_count": null,
            "_view_module": "@jupyter-widgets/controls",
            "_view_module_version": "1.5.0",
            "_view_name": "HTMLView",
            "description": "",
            "description_tooltip": null,
            "layout": "IPY_MODEL_445c5db8516b45d8acc3b6299a4dae84",
            "placeholder": "​",
            "style": "IPY_MODEL_31dc9ebcf2ba4abfbb33c2479c8c3933",
            "value": "Epoch 0 / 20: 100%"
          }
        },
        "84d0d6522dc540ac940372e990e35803": {
          "model_module": "@jupyter-widgets/controls",
          "model_name": "FloatProgressModel",
          "model_module_version": "1.5.0",
          "state": {
            "_dom_classes": [],
            "_model_module": "@jupyter-widgets/controls",
            "_model_module_version": "1.5.0",
            "_model_name": "FloatProgressModel",
            "_view_count": null,
            "_view_module": "@jupyter-widgets/controls",
            "_view_module_version": "1.5.0",
            "_view_name": "ProgressView",
            "bar_style": "success",
            "description": "",
            "description_tooltip": null,
            "layout": "IPY_MODEL_fefe9ca498cb44929a3553597b64f80c",
            "max": 12,
            "min": 0,
            "orientation": "horizontal",
            "style": "IPY_MODEL_5d246779739b4faca72a5c7238535f14",
            "value": 12
          }
        },
        "64256af05f4b4265b56f2fd39978b386": {
          "model_module": "@jupyter-widgets/controls",
          "model_name": "HTMLModel",
          "model_module_version": "1.5.0",
          "state": {
            "_dom_classes": [],
            "_model_module": "@jupyter-widgets/controls",
            "_model_module_version": "1.5.0",
            "_model_name": "HTMLModel",
            "_view_count": null,
            "_view_module": "@jupyter-widgets/controls",
            "_view_module_version": "1.5.0",
            "_view_name": "HTMLView",
            "description": "",
            "description_tooltip": null,
            "layout": "IPY_MODEL_e64c8ce25e574fcd8b1daa244e269ee8",
            "placeholder": "​",
            "style": "IPY_MODEL_dd65f5e632c54845bb88c3ea909d2b4d",
            "value": " 12/12 [00:00&lt;00:00, 58.75it/s]"
          }
        },
        "912de91f9ff6421eab88a51a861323b3": {
          "model_module": "@jupyter-widgets/base",
          "model_name": "LayoutModel",
          "model_module_version": "1.2.0",
          "state": {
            "_model_module": "@jupyter-widgets/base",
            "_model_module_version": "1.2.0",
            "_model_name": "LayoutModel",
            "_view_count": null,
            "_view_module": "@jupyter-widgets/base",
            "_view_module_version": "1.2.0",
            "_view_name": "LayoutView",
            "align_content": null,
            "align_items": null,
            "align_self": null,
            "border": null,
            "bottom": null,
            "display": null,
            "flex": null,
            "flex_flow": null,
            "grid_area": null,
            "grid_auto_columns": null,
            "grid_auto_flow": null,
            "grid_auto_rows": null,
            "grid_column": null,
            "grid_gap": null,
            "grid_row": null,
            "grid_template_areas": null,
            "grid_template_columns": null,
            "grid_template_rows": null,
            "height": null,
            "justify_content": null,
            "justify_items": null,
            "left": null,
            "margin": null,
            "max_height": null,
            "max_width": null,
            "min_height": null,
            "min_width": null,
            "object_fit": null,
            "object_position": null,
            "order": null,
            "overflow": null,
            "overflow_x": null,
            "overflow_y": null,
            "padding": null,
            "right": null,
            "top": null,
            "visibility": null,
            "width": null
          }
        },
        "445c5db8516b45d8acc3b6299a4dae84": {
          "model_module": "@jupyter-widgets/base",
          "model_name": "LayoutModel",
          "model_module_version": "1.2.0",
          "state": {
            "_model_module": "@jupyter-widgets/base",
            "_model_module_version": "1.2.0",
            "_model_name": "LayoutModel",
            "_view_count": null,
            "_view_module": "@jupyter-widgets/base",
            "_view_module_version": "1.2.0",
            "_view_name": "LayoutView",
            "align_content": null,
            "align_items": null,
            "align_self": null,
            "border": null,
            "bottom": null,
            "display": null,
            "flex": null,
            "flex_flow": null,
            "grid_area": null,
            "grid_auto_columns": null,
            "grid_auto_flow": null,
            "grid_auto_rows": null,
            "grid_column": null,
            "grid_gap": null,
            "grid_row": null,
            "grid_template_areas": null,
            "grid_template_columns": null,
            "grid_template_rows": null,
            "height": null,
            "justify_content": null,
            "justify_items": null,
            "left": null,
            "margin": null,
            "max_height": null,
            "max_width": null,
            "min_height": null,
            "min_width": null,
            "object_fit": null,
            "object_position": null,
            "order": null,
            "overflow": null,
            "overflow_x": null,
            "overflow_y": null,
            "padding": null,
            "right": null,
            "top": null,
            "visibility": null,
            "width": null
          }
        },
        "31dc9ebcf2ba4abfbb33c2479c8c3933": {
          "model_module": "@jupyter-widgets/controls",
          "model_name": "DescriptionStyleModel",
          "model_module_version": "1.5.0",
          "state": {
            "_model_module": "@jupyter-widgets/controls",
            "_model_module_version": "1.5.0",
            "_model_name": "DescriptionStyleModel",
            "_view_count": null,
            "_view_module": "@jupyter-widgets/base",
            "_view_module_version": "1.2.0",
            "_view_name": "StyleView",
            "description_width": ""
          }
        },
        "fefe9ca498cb44929a3553597b64f80c": {
          "model_module": "@jupyter-widgets/base",
          "model_name": "LayoutModel",
          "model_module_version": "1.2.0",
          "state": {
            "_model_module": "@jupyter-widgets/base",
            "_model_module_version": "1.2.0",
            "_model_name": "LayoutModel",
            "_view_count": null,
            "_view_module": "@jupyter-widgets/base",
            "_view_module_version": "1.2.0",
            "_view_name": "LayoutView",
            "align_content": null,
            "align_items": null,
            "align_self": null,
            "border": null,
            "bottom": null,
            "display": null,
            "flex": null,
            "flex_flow": null,
            "grid_area": null,
            "grid_auto_columns": null,
            "grid_auto_flow": null,
            "grid_auto_rows": null,
            "grid_column": null,
            "grid_gap": null,
            "grid_row": null,
            "grid_template_areas": null,
            "grid_template_columns": null,
            "grid_template_rows": null,
            "height": null,
            "justify_content": null,
            "justify_items": null,
            "left": null,
            "margin": null,
            "max_height": null,
            "max_width": null,
            "min_height": null,
            "min_width": null,
            "object_fit": null,
            "object_position": null,
            "order": null,
            "overflow": null,
            "overflow_x": null,
            "overflow_y": null,
            "padding": null,
            "right": null,
            "top": null,
            "visibility": null,
            "width": null
          }
        },
        "5d246779739b4faca72a5c7238535f14": {
          "model_module": "@jupyter-widgets/controls",
          "model_name": "ProgressStyleModel",
          "model_module_version": "1.5.0",
          "state": {
            "_model_module": "@jupyter-widgets/controls",
            "_model_module_version": "1.5.0",
            "_model_name": "ProgressStyleModel",
            "_view_count": null,
            "_view_module": "@jupyter-widgets/base",
            "_view_module_version": "1.2.0",
            "_view_name": "StyleView",
            "bar_color": null,
            "description_width": ""
          }
        },
        "e64c8ce25e574fcd8b1daa244e269ee8": {
          "model_module": "@jupyter-widgets/base",
          "model_name": "LayoutModel",
          "model_module_version": "1.2.0",
          "state": {
            "_model_module": "@jupyter-widgets/base",
            "_model_module_version": "1.2.0",
            "_model_name": "LayoutModel",
            "_view_count": null,
            "_view_module": "@jupyter-widgets/base",
            "_view_module_version": "1.2.0",
            "_view_name": "LayoutView",
            "align_content": null,
            "align_items": null,
            "align_self": null,
            "border": null,
            "bottom": null,
            "display": null,
            "flex": null,
            "flex_flow": null,
            "grid_area": null,
            "grid_auto_columns": null,
            "grid_auto_flow": null,
            "grid_auto_rows": null,
            "grid_column": null,
            "grid_gap": null,
            "grid_row": null,
            "grid_template_areas": null,
            "grid_template_columns": null,
            "grid_template_rows": null,
            "height": null,
            "justify_content": null,
            "justify_items": null,
            "left": null,
            "margin": null,
            "max_height": null,
            "max_width": null,
            "min_height": null,
            "min_width": null,
            "object_fit": null,
            "object_position": null,
            "order": null,
            "overflow": null,
            "overflow_x": null,
            "overflow_y": null,
            "padding": null,
            "right": null,
            "top": null,
            "visibility": null,
            "width": null
          }
        },
        "dd65f5e632c54845bb88c3ea909d2b4d": {
          "model_module": "@jupyter-widgets/controls",
          "model_name": "DescriptionStyleModel",
          "model_module_version": "1.5.0",
          "state": {
            "_model_module": "@jupyter-widgets/controls",
            "_model_module_version": "1.5.0",
            "_model_name": "DescriptionStyleModel",
            "_view_count": null,
            "_view_module": "@jupyter-widgets/base",
            "_view_module_version": "1.2.0",
            "_view_name": "StyleView",
            "description_width": ""
          }
        },
        "3a22dad77d0a43d4b2c8cab7b262a6da": {
          "model_module": "@jupyter-widgets/controls",
          "model_name": "HBoxModel",
          "model_module_version": "1.5.0",
          "state": {
            "_dom_classes": [],
            "_model_module": "@jupyter-widgets/controls",
            "_model_module_version": "1.5.0",
            "_model_name": "HBoxModel",
            "_view_count": null,
            "_view_module": "@jupyter-widgets/controls",
            "_view_module_version": "1.5.0",
            "_view_name": "HBoxView",
            "box_style": "",
            "children": [
              "IPY_MODEL_77290d3182f0497cbad8799ff0db04e0",
              "IPY_MODEL_d945050bf30a4c2f9d6c29281578ad5d",
              "IPY_MODEL_1933b4df1da3474b997a6d3e0eaf0ba7"
            ],
            "layout": "IPY_MODEL_fbb8aa2f5524492ea86cd619b024c104"
          }
        },
        "77290d3182f0497cbad8799ff0db04e0": {
          "model_module": "@jupyter-widgets/controls",
          "model_name": "HTMLModel",
          "model_module_version": "1.5.0",
          "state": {
            "_dom_classes": [],
            "_model_module": "@jupyter-widgets/controls",
            "_model_module_version": "1.5.0",
            "_model_name": "HTMLModel",
            "_view_count": null,
            "_view_module": "@jupyter-widgets/controls",
            "_view_module_version": "1.5.0",
            "_view_name": "HTMLView",
            "description": "",
            "description_tooltip": null,
            "layout": "IPY_MODEL_f45021269d8a4243b97c34aa12b23b75",
            "placeholder": "​",
            "style": "IPY_MODEL_f0f3461f52aa4288957a3beea5d88539",
            "value": "Epoch 1 / 20: 100%"
          }
        },
        "d945050bf30a4c2f9d6c29281578ad5d": {
          "model_module": "@jupyter-widgets/controls",
          "model_name": "FloatProgressModel",
          "model_module_version": "1.5.0",
          "state": {
            "_dom_classes": [],
            "_model_module": "@jupyter-widgets/controls",
            "_model_module_version": "1.5.0",
            "_model_name": "FloatProgressModel",
            "_view_count": null,
            "_view_module": "@jupyter-widgets/controls",
            "_view_module_version": "1.5.0",
            "_view_name": "ProgressView",
            "bar_style": "success",
            "description": "",
            "description_tooltip": null,
            "layout": "IPY_MODEL_4ec8dd2518aa4cc89f5ebc98bd0a598d",
            "max": 12,
            "min": 0,
            "orientation": "horizontal",
            "style": "IPY_MODEL_339293aa0dd648ddabd17d89ea73cbb7",
            "value": 12
          }
        },
        "1933b4df1da3474b997a6d3e0eaf0ba7": {
          "model_module": "@jupyter-widgets/controls",
          "model_name": "HTMLModel",
          "model_module_version": "1.5.0",
          "state": {
            "_dom_classes": [],
            "_model_module": "@jupyter-widgets/controls",
            "_model_module_version": "1.5.0",
            "_model_name": "HTMLModel",
            "_view_count": null,
            "_view_module": "@jupyter-widgets/controls",
            "_view_module_version": "1.5.0",
            "_view_name": "HTMLView",
            "description": "",
            "description_tooltip": null,
            "layout": "IPY_MODEL_39928662e1b94260859f674df270acf0",
            "placeholder": "​",
            "style": "IPY_MODEL_2d01676d3d5a45dd8460b9ba6386bcbf",
            "value": " 12/12 [00:00&lt;00:00, 83.24it/s]"
          }
        },
        "fbb8aa2f5524492ea86cd619b024c104": {
          "model_module": "@jupyter-widgets/base",
          "model_name": "LayoutModel",
          "model_module_version": "1.2.0",
          "state": {
            "_model_module": "@jupyter-widgets/base",
            "_model_module_version": "1.2.0",
            "_model_name": "LayoutModel",
            "_view_count": null,
            "_view_module": "@jupyter-widgets/base",
            "_view_module_version": "1.2.0",
            "_view_name": "LayoutView",
            "align_content": null,
            "align_items": null,
            "align_self": null,
            "border": null,
            "bottom": null,
            "display": null,
            "flex": null,
            "flex_flow": null,
            "grid_area": null,
            "grid_auto_columns": null,
            "grid_auto_flow": null,
            "grid_auto_rows": null,
            "grid_column": null,
            "grid_gap": null,
            "grid_row": null,
            "grid_template_areas": null,
            "grid_template_columns": null,
            "grid_template_rows": null,
            "height": null,
            "justify_content": null,
            "justify_items": null,
            "left": null,
            "margin": null,
            "max_height": null,
            "max_width": null,
            "min_height": null,
            "min_width": null,
            "object_fit": null,
            "object_position": null,
            "order": null,
            "overflow": null,
            "overflow_x": null,
            "overflow_y": null,
            "padding": null,
            "right": null,
            "top": null,
            "visibility": null,
            "width": null
          }
        },
        "f45021269d8a4243b97c34aa12b23b75": {
          "model_module": "@jupyter-widgets/base",
          "model_name": "LayoutModel",
          "model_module_version": "1.2.0",
          "state": {
            "_model_module": "@jupyter-widgets/base",
            "_model_module_version": "1.2.0",
            "_model_name": "LayoutModel",
            "_view_count": null,
            "_view_module": "@jupyter-widgets/base",
            "_view_module_version": "1.2.0",
            "_view_name": "LayoutView",
            "align_content": null,
            "align_items": null,
            "align_self": null,
            "border": null,
            "bottom": null,
            "display": null,
            "flex": null,
            "flex_flow": null,
            "grid_area": null,
            "grid_auto_columns": null,
            "grid_auto_flow": null,
            "grid_auto_rows": null,
            "grid_column": null,
            "grid_gap": null,
            "grid_row": null,
            "grid_template_areas": null,
            "grid_template_columns": null,
            "grid_template_rows": null,
            "height": null,
            "justify_content": null,
            "justify_items": null,
            "left": null,
            "margin": null,
            "max_height": null,
            "max_width": null,
            "min_height": null,
            "min_width": null,
            "object_fit": null,
            "object_position": null,
            "order": null,
            "overflow": null,
            "overflow_x": null,
            "overflow_y": null,
            "padding": null,
            "right": null,
            "top": null,
            "visibility": null,
            "width": null
          }
        },
        "f0f3461f52aa4288957a3beea5d88539": {
          "model_module": "@jupyter-widgets/controls",
          "model_name": "DescriptionStyleModel",
          "model_module_version": "1.5.0",
          "state": {
            "_model_module": "@jupyter-widgets/controls",
            "_model_module_version": "1.5.0",
            "_model_name": "DescriptionStyleModel",
            "_view_count": null,
            "_view_module": "@jupyter-widgets/base",
            "_view_module_version": "1.2.0",
            "_view_name": "StyleView",
            "description_width": ""
          }
        },
        "4ec8dd2518aa4cc89f5ebc98bd0a598d": {
          "model_module": "@jupyter-widgets/base",
          "model_name": "LayoutModel",
          "model_module_version": "1.2.0",
          "state": {
            "_model_module": "@jupyter-widgets/base",
            "_model_module_version": "1.2.0",
            "_model_name": "LayoutModel",
            "_view_count": null,
            "_view_module": "@jupyter-widgets/base",
            "_view_module_version": "1.2.0",
            "_view_name": "LayoutView",
            "align_content": null,
            "align_items": null,
            "align_self": null,
            "border": null,
            "bottom": null,
            "display": null,
            "flex": null,
            "flex_flow": null,
            "grid_area": null,
            "grid_auto_columns": null,
            "grid_auto_flow": null,
            "grid_auto_rows": null,
            "grid_column": null,
            "grid_gap": null,
            "grid_row": null,
            "grid_template_areas": null,
            "grid_template_columns": null,
            "grid_template_rows": null,
            "height": null,
            "justify_content": null,
            "justify_items": null,
            "left": null,
            "margin": null,
            "max_height": null,
            "max_width": null,
            "min_height": null,
            "min_width": null,
            "object_fit": null,
            "object_position": null,
            "order": null,
            "overflow": null,
            "overflow_x": null,
            "overflow_y": null,
            "padding": null,
            "right": null,
            "top": null,
            "visibility": null,
            "width": null
          }
        },
        "339293aa0dd648ddabd17d89ea73cbb7": {
          "model_module": "@jupyter-widgets/controls",
          "model_name": "ProgressStyleModel",
          "model_module_version": "1.5.0",
          "state": {
            "_model_module": "@jupyter-widgets/controls",
            "_model_module_version": "1.5.0",
            "_model_name": "ProgressStyleModel",
            "_view_count": null,
            "_view_module": "@jupyter-widgets/base",
            "_view_module_version": "1.2.0",
            "_view_name": "StyleView",
            "bar_color": null,
            "description_width": ""
          }
        },
        "39928662e1b94260859f674df270acf0": {
          "model_module": "@jupyter-widgets/base",
          "model_name": "LayoutModel",
          "model_module_version": "1.2.0",
          "state": {
            "_model_module": "@jupyter-widgets/base",
            "_model_module_version": "1.2.0",
            "_model_name": "LayoutModel",
            "_view_count": null,
            "_view_module": "@jupyter-widgets/base",
            "_view_module_version": "1.2.0",
            "_view_name": "LayoutView",
            "align_content": null,
            "align_items": null,
            "align_self": null,
            "border": null,
            "bottom": null,
            "display": null,
            "flex": null,
            "flex_flow": null,
            "grid_area": null,
            "grid_auto_columns": null,
            "grid_auto_flow": null,
            "grid_auto_rows": null,
            "grid_column": null,
            "grid_gap": null,
            "grid_row": null,
            "grid_template_areas": null,
            "grid_template_columns": null,
            "grid_template_rows": null,
            "height": null,
            "justify_content": null,
            "justify_items": null,
            "left": null,
            "margin": null,
            "max_height": null,
            "max_width": null,
            "min_height": null,
            "min_width": null,
            "object_fit": null,
            "object_position": null,
            "order": null,
            "overflow": null,
            "overflow_x": null,
            "overflow_y": null,
            "padding": null,
            "right": null,
            "top": null,
            "visibility": null,
            "width": null
          }
        },
        "2d01676d3d5a45dd8460b9ba6386bcbf": {
          "model_module": "@jupyter-widgets/controls",
          "model_name": "DescriptionStyleModel",
          "model_module_version": "1.5.0",
          "state": {
            "_model_module": "@jupyter-widgets/controls",
            "_model_module_version": "1.5.0",
            "_model_name": "DescriptionStyleModel",
            "_view_count": null,
            "_view_module": "@jupyter-widgets/base",
            "_view_module_version": "1.2.0",
            "_view_name": "StyleView",
            "description_width": ""
          }
        },
        "a153eced6f8d4049a0c66728f9b32175": {
          "model_module": "@jupyter-widgets/controls",
          "model_name": "HBoxModel",
          "model_module_version": "1.5.0",
          "state": {
            "_dom_classes": [],
            "_model_module": "@jupyter-widgets/controls",
            "_model_module_version": "1.5.0",
            "_model_name": "HBoxModel",
            "_view_count": null,
            "_view_module": "@jupyter-widgets/controls",
            "_view_module_version": "1.5.0",
            "_view_name": "HBoxView",
            "box_style": "",
            "children": [
              "IPY_MODEL_d0f8fec021814298a5d5f7844125f9d0",
              "IPY_MODEL_ac157c5f0c8f4a36b9ba24c46221d21d",
              "IPY_MODEL_2055955accbd4057ad5aa53cc4cb4f3d"
            ],
            "layout": "IPY_MODEL_fbcba07234b04e909f3b1466b1fc7b1f"
          }
        },
        "d0f8fec021814298a5d5f7844125f9d0": {
          "model_module": "@jupyter-widgets/controls",
          "model_name": "HTMLModel",
          "model_module_version": "1.5.0",
          "state": {
            "_dom_classes": [],
            "_model_module": "@jupyter-widgets/controls",
            "_model_module_version": "1.5.0",
            "_model_name": "HTMLModel",
            "_view_count": null,
            "_view_module": "@jupyter-widgets/controls",
            "_view_module_version": "1.5.0",
            "_view_name": "HTMLView",
            "description": "",
            "description_tooltip": null,
            "layout": "IPY_MODEL_507b42d7f6954debb27135bbadc3e992",
            "placeholder": "​",
            "style": "IPY_MODEL_57e63855ceb647138e0687547bb761c3",
            "value": "Epoch 2 / 20: 100%"
          }
        },
        "ac157c5f0c8f4a36b9ba24c46221d21d": {
          "model_module": "@jupyter-widgets/controls",
          "model_name": "FloatProgressModel",
          "model_module_version": "1.5.0",
          "state": {
            "_dom_classes": [],
            "_model_module": "@jupyter-widgets/controls",
            "_model_module_version": "1.5.0",
            "_model_name": "FloatProgressModel",
            "_view_count": null,
            "_view_module": "@jupyter-widgets/controls",
            "_view_module_version": "1.5.0",
            "_view_name": "ProgressView",
            "bar_style": "success",
            "description": "",
            "description_tooltip": null,
            "layout": "IPY_MODEL_1cdf6c41e78744c38d3d550e5faebd65",
            "max": 12,
            "min": 0,
            "orientation": "horizontal",
            "style": "IPY_MODEL_0d7bc8b189954987b54d3e177dcefb58",
            "value": 12
          }
        },
        "2055955accbd4057ad5aa53cc4cb4f3d": {
          "model_module": "@jupyter-widgets/controls",
          "model_name": "HTMLModel",
          "model_module_version": "1.5.0",
          "state": {
            "_dom_classes": [],
            "_model_module": "@jupyter-widgets/controls",
            "_model_module_version": "1.5.0",
            "_model_name": "HTMLModel",
            "_view_count": null,
            "_view_module": "@jupyter-widgets/controls",
            "_view_module_version": "1.5.0",
            "_view_name": "HTMLView",
            "description": "",
            "description_tooltip": null,
            "layout": "IPY_MODEL_8ff0836a05fd491b840ddff8b224e225",
            "placeholder": "​",
            "style": "IPY_MODEL_e5f455502d0b4c0490b1fbe1dea77314",
            "value": " 12/12 [00:00&lt;00:00, 78.26it/s]"
          }
        },
        "fbcba07234b04e909f3b1466b1fc7b1f": {
          "model_module": "@jupyter-widgets/base",
          "model_name": "LayoutModel",
          "model_module_version": "1.2.0",
          "state": {
            "_model_module": "@jupyter-widgets/base",
            "_model_module_version": "1.2.0",
            "_model_name": "LayoutModel",
            "_view_count": null,
            "_view_module": "@jupyter-widgets/base",
            "_view_module_version": "1.2.0",
            "_view_name": "LayoutView",
            "align_content": null,
            "align_items": null,
            "align_self": null,
            "border": null,
            "bottom": null,
            "display": null,
            "flex": null,
            "flex_flow": null,
            "grid_area": null,
            "grid_auto_columns": null,
            "grid_auto_flow": null,
            "grid_auto_rows": null,
            "grid_column": null,
            "grid_gap": null,
            "grid_row": null,
            "grid_template_areas": null,
            "grid_template_columns": null,
            "grid_template_rows": null,
            "height": null,
            "justify_content": null,
            "justify_items": null,
            "left": null,
            "margin": null,
            "max_height": null,
            "max_width": null,
            "min_height": null,
            "min_width": null,
            "object_fit": null,
            "object_position": null,
            "order": null,
            "overflow": null,
            "overflow_x": null,
            "overflow_y": null,
            "padding": null,
            "right": null,
            "top": null,
            "visibility": null,
            "width": null
          }
        },
        "507b42d7f6954debb27135bbadc3e992": {
          "model_module": "@jupyter-widgets/base",
          "model_name": "LayoutModel",
          "model_module_version": "1.2.0",
          "state": {
            "_model_module": "@jupyter-widgets/base",
            "_model_module_version": "1.2.0",
            "_model_name": "LayoutModel",
            "_view_count": null,
            "_view_module": "@jupyter-widgets/base",
            "_view_module_version": "1.2.0",
            "_view_name": "LayoutView",
            "align_content": null,
            "align_items": null,
            "align_self": null,
            "border": null,
            "bottom": null,
            "display": null,
            "flex": null,
            "flex_flow": null,
            "grid_area": null,
            "grid_auto_columns": null,
            "grid_auto_flow": null,
            "grid_auto_rows": null,
            "grid_column": null,
            "grid_gap": null,
            "grid_row": null,
            "grid_template_areas": null,
            "grid_template_columns": null,
            "grid_template_rows": null,
            "height": null,
            "justify_content": null,
            "justify_items": null,
            "left": null,
            "margin": null,
            "max_height": null,
            "max_width": null,
            "min_height": null,
            "min_width": null,
            "object_fit": null,
            "object_position": null,
            "order": null,
            "overflow": null,
            "overflow_x": null,
            "overflow_y": null,
            "padding": null,
            "right": null,
            "top": null,
            "visibility": null,
            "width": null
          }
        },
        "57e63855ceb647138e0687547bb761c3": {
          "model_module": "@jupyter-widgets/controls",
          "model_name": "DescriptionStyleModel",
          "model_module_version": "1.5.0",
          "state": {
            "_model_module": "@jupyter-widgets/controls",
            "_model_module_version": "1.5.0",
            "_model_name": "DescriptionStyleModel",
            "_view_count": null,
            "_view_module": "@jupyter-widgets/base",
            "_view_module_version": "1.2.0",
            "_view_name": "StyleView",
            "description_width": ""
          }
        },
        "1cdf6c41e78744c38d3d550e5faebd65": {
          "model_module": "@jupyter-widgets/base",
          "model_name": "LayoutModel",
          "model_module_version": "1.2.0",
          "state": {
            "_model_module": "@jupyter-widgets/base",
            "_model_module_version": "1.2.0",
            "_model_name": "LayoutModel",
            "_view_count": null,
            "_view_module": "@jupyter-widgets/base",
            "_view_module_version": "1.2.0",
            "_view_name": "LayoutView",
            "align_content": null,
            "align_items": null,
            "align_self": null,
            "border": null,
            "bottom": null,
            "display": null,
            "flex": null,
            "flex_flow": null,
            "grid_area": null,
            "grid_auto_columns": null,
            "grid_auto_flow": null,
            "grid_auto_rows": null,
            "grid_column": null,
            "grid_gap": null,
            "grid_row": null,
            "grid_template_areas": null,
            "grid_template_columns": null,
            "grid_template_rows": null,
            "height": null,
            "justify_content": null,
            "justify_items": null,
            "left": null,
            "margin": null,
            "max_height": null,
            "max_width": null,
            "min_height": null,
            "min_width": null,
            "object_fit": null,
            "object_position": null,
            "order": null,
            "overflow": null,
            "overflow_x": null,
            "overflow_y": null,
            "padding": null,
            "right": null,
            "top": null,
            "visibility": null,
            "width": null
          }
        },
        "0d7bc8b189954987b54d3e177dcefb58": {
          "model_module": "@jupyter-widgets/controls",
          "model_name": "ProgressStyleModel",
          "model_module_version": "1.5.0",
          "state": {
            "_model_module": "@jupyter-widgets/controls",
            "_model_module_version": "1.5.0",
            "_model_name": "ProgressStyleModel",
            "_view_count": null,
            "_view_module": "@jupyter-widgets/base",
            "_view_module_version": "1.2.0",
            "_view_name": "StyleView",
            "bar_color": null,
            "description_width": ""
          }
        },
        "8ff0836a05fd491b840ddff8b224e225": {
          "model_module": "@jupyter-widgets/base",
          "model_name": "LayoutModel",
          "model_module_version": "1.2.0",
          "state": {
            "_model_module": "@jupyter-widgets/base",
            "_model_module_version": "1.2.0",
            "_model_name": "LayoutModel",
            "_view_count": null,
            "_view_module": "@jupyter-widgets/base",
            "_view_module_version": "1.2.0",
            "_view_name": "LayoutView",
            "align_content": null,
            "align_items": null,
            "align_self": null,
            "border": null,
            "bottom": null,
            "display": null,
            "flex": null,
            "flex_flow": null,
            "grid_area": null,
            "grid_auto_columns": null,
            "grid_auto_flow": null,
            "grid_auto_rows": null,
            "grid_column": null,
            "grid_gap": null,
            "grid_row": null,
            "grid_template_areas": null,
            "grid_template_columns": null,
            "grid_template_rows": null,
            "height": null,
            "justify_content": null,
            "justify_items": null,
            "left": null,
            "margin": null,
            "max_height": null,
            "max_width": null,
            "min_height": null,
            "min_width": null,
            "object_fit": null,
            "object_position": null,
            "order": null,
            "overflow": null,
            "overflow_x": null,
            "overflow_y": null,
            "padding": null,
            "right": null,
            "top": null,
            "visibility": null,
            "width": null
          }
        },
        "e5f455502d0b4c0490b1fbe1dea77314": {
          "model_module": "@jupyter-widgets/controls",
          "model_name": "DescriptionStyleModel",
          "model_module_version": "1.5.0",
          "state": {
            "_model_module": "@jupyter-widgets/controls",
            "_model_module_version": "1.5.0",
            "_model_name": "DescriptionStyleModel",
            "_view_count": null,
            "_view_module": "@jupyter-widgets/base",
            "_view_module_version": "1.2.0",
            "_view_name": "StyleView",
            "description_width": ""
          }
        },
        "8b613f982fb540f98567b892e7dcb3cc": {
          "model_module": "@jupyter-widgets/controls",
          "model_name": "HBoxModel",
          "model_module_version": "1.5.0",
          "state": {
            "_dom_classes": [],
            "_model_module": "@jupyter-widgets/controls",
            "_model_module_version": "1.5.0",
            "_model_name": "HBoxModel",
            "_view_count": null,
            "_view_module": "@jupyter-widgets/controls",
            "_view_module_version": "1.5.0",
            "_view_name": "HBoxView",
            "box_style": "",
            "children": [
              "IPY_MODEL_4fd87f058709452fb326627a403fccf3",
              "IPY_MODEL_56e660299b11459eaecaad292ea0ee19",
              "IPY_MODEL_0c4886dce841481a918b6b491fe4d5fb"
            ],
            "layout": "IPY_MODEL_f3725ad53bee491f94f30a0c67705cad"
          }
        },
        "4fd87f058709452fb326627a403fccf3": {
          "model_module": "@jupyter-widgets/controls",
          "model_name": "HTMLModel",
          "model_module_version": "1.5.0",
          "state": {
            "_dom_classes": [],
            "_model_module": "@jupyter-widgets/controls",
            "_model_module_version": "1.5.0",
            "_model_name": "HTMLModel",
            "_view_count": null,
            "_view_module": "@jupyter-widgets/controls",
            "_view_module_version": "1.5.0",
            "_view_name": "HTMLView",
            "description": "",
            "description_tooltip": null,
            "layout": "IPY_MODEL_8bb5d2d17e454c8d8b8bd0b9feb92f63",
            "placeholder": "​",
            "style": "IPY_MODEL_d01c202fcf0e40e2b60dad8865bb1d4f",
            "value": "Epoch 3 / 20: 100%"
          }
        },
        "56e660299b11459eaecaad292ea0ee19": {
          "model_module": "@jupyter-widgets/controls",
          "model_name": "FloatProgressModel",
          "model_module_version": "1.5.0",
          "state": {
            "_dom_classes": [],
            "_model_module": "@jupyter-widgets/controls",
            "_model_module_version": "1.5.0",
            "_model_name": "FloatProgressModel",
            "_view_count": null,
            "_view_module": "@jupyter-widgets/controls",
            "_view_module_version": "1.5.0",
            "_view_name": "ProgressView",
            "bar_style": "success",
            "description": "",
            "description_tooltip": null,
            "layout": "IPY_MODEL_354f9f43fd64419c80c94809ce41a08d",
            "max": 12,
            "min": 0,
            "orientation": "horizontal",
            "style": "IPY_MODEL_db03694da5fc43c4af1a0cffc1161b6b",
            "value": 12
          }
        },
        "0c4886dce841481a918b6b491fe4d5fb": {
          "model_module": "@jupyter-widgets/controls",
          "model_name": "HTMLModel",
          "model_module_version": "1.5.0",
          "state": {
            "_dom_classes": [],
            "_model_module": "@jupyter-widgets/controls",
            "_model_module_version": "1.5.0",
            "_model_name": "HTMLModel",
            "_view_count": null,
            "_view_module": "@jupyter-widgets/controls",
            "_view_module_version": "1.5.0",
            "_view_name": "HTMLView",
            "description": "",
            "description_tooltip": null,
            "layout": "IPY_MODEL_f24400df333d48ed814e7eed4df9c24c",
            "placeholder": "​",
            "style": "IPY_MODEL_2dbd0fdb273e4a6e80faf4758125cd1e",
            "value": " 12/12 [00:00&lt;00:00, 77.29it/s]"
          }
        },
        "f3725ad53bee491f94f30a0c67705cad": {
          "model_module": "@jupyter-widgets/base",
          "model_name": "LayoutModel",
          "model_module_version": "1.2.0",
          "state": {
            "_model_module": "@jupyter-widgets/base",
            "_model_module_version": "1.2.0",
            "_model_name": "LayoutModel",
            "_view_count": null,
            "_view_module": "@jupyter-widgets/base",
            "_view_module_version": "1.2.0",
            "_view_name": "LayoutView",
            "align_content": null,
            "align_items": null,
            "align_self": null,
            "border": null,
            "bottom": null,
            "display": null,
            "flex": null,
            "flex_flow": null,
            "grid_area": null,
            "grid_auto_columns": null,
            "grid_auto_flow": null,
            "grid_auto_rows": null,
            "grid_column": null,
            "grid_gap": null,
            "grid_row": null,
            "grid_template_areas": null,
            "grid_template_columns": null,
            "grid_template_rows": null,
            "height": null,
            "justify_content": null,
            "justify_items": null,
            "left": null,
            "margin": null,
            "max_height": null,
            "max_width": null,
            "min_height": null,
            "min_width": null,
            "object_fit": null,
            "object_position": null,
            "order": null,
            "overflow": null,
            "overflow_x": null,
            "overflow_y": null,
            "padding": null,
            "right": null,
            "top": null,
            "visibility": null,
            "width": null
          }
        },
        "8bb5d2d17e454c8d8b8bd0b9feb92f63": {
          "model_module": "@jupyter-widgets/base",
          "model_name": "LayoutModel",
          "model_module_version": "1.2.0",
          "state": {
            "_model_module": "@jupyter-widgets/base",
            "_model_module_version": "1.2.0",
            "_model_name": "LayoutModel",
            "_view_count": null,
            "_view_module": "@jupyter-widgets/base",
            "_view_module_version": "1.2.0",
            "_view_name": "LayoutView",
            "align_content": null,
            "align_items": null,
            "align_self": null,
            "border": null,
            "bottom": null,
            "display": null,
            "flex": null,
            "flex_flow": null,
            "grid_area": null,
            "grid_auto_columns": null,
            "grid_auto_flow": null,
            "grid_auto_rows": null,
            "grid_column": null,
            "grid_gap": null,
            "grid_row": null,
            "grid_template_areas": null,
            "grid_template_columns": null,
            "grid_template_rows": null,
            "height": null,
            "justify_content": null,
            "justify_items": null,
            "left": null,
            "margin": null,
            "max_height": null,
            "max_width": null,
            "min_height": null,
            "min_width": null,
            "object_fit": null,
            "object_position": null,
            "order": null,
            "overflow": null,
            "overflow_x": null,
            "overflow_y": null,
            "padding": null,
            "right": null,
            "top": null,
            "visibility": null,
            "width": null
          }
        },
        "d01c202fcf0e40e2b60dad8865bb1d4f": {
          "model_module": "@jupyter-widgets/controls",
          "model_name": "DescriptionStyleModel",
          "model_module_version": "1.5.0",
          "state": {
            "_model_module": "@jupyter-widgets/controls",
            "_model_module_version": "1.5.0",
            "_model_name": "DescriptionStyleModel",
            "_view_count": null,
            "_view_module": "@jupyter-widgets/base",
            "_view_module_version": "1.2.0",
            "_view_name": "StyleView",
            "description_width": ""
          }
        },
        "354f9f43fd64419c80c94809ce41a08d": {
          "model_module": "@jupyter-widgets/base",
          "model_name": "LayoutModel",
          "model_module_version": "1.2.0",
          "state": {
            "_model_module": "@jupyter-widgets/base",
            "_model_module_version": "1.2.0",
            "_model_name": "LayoutModel",
            "_view_count": null,
            "_view_module": "@jupyter-widgets/base",
            "_view_module_version": "1.2.0",
            "_view_name": "LayoutView",
            "align_content": null,
            "align_items": null,
            "align_self": null,
            "border": null,
            "bottom": null,
            "display": null,
            "flex": null,
            "flex_flow": null,
            "grid_area": null,
            "grid_auto_columns": null,
            "grid_auto_flow": null,
            "grid_auto_rows": null,
            "grid_column": null,
            "grid_gap": null,
            "grid_row": null,
            "grid_template_areas": null,
            "grid_template_columns": null,
            "grid_template_rows": null,
            "height": null,
            "justify_content": null,
            "justify_items": null,
            "left": null,
            "margin": null,
            "max_height": null,
            "max_width": null,
            "min_height": null,
            "min_width": null,
            "object_fit": null,
            "object_position": null,
            "order": null,
            "overflow": null,
            "overflow_x": null,
            "overflow_y": null,
            "padding": null,
            "right": null,
            "top": null,
            "visibility": null,
            "width": null
          }
        },
        "db03694da5fc43c4af1a0cffc1161b6b": {
          "model_module": "@jupyter-widgets/controls",
          "model_name": "ProgressStyleModel",
          "model_module_version": "1.5.0",
          "state": {
            "_model_module": "@jupyter-widgets/controls",
            "_model_module_version": "1.5.0",
            "_model_name": "ProgressStyleModel",
            "_view_count": null,
            "_view_module": "@jupyter-widgets/base",
            "_view_module_version": "1.2.0",
            "_view_name": "StyleView",
            "bar_color": null,
            "description_width": ""
          }
        },
        "f24400df333d48ed814e7eed4df9c24c": {
          "model_module": "@jupyter-widgets/base",
          "model_name": "LayoutModel",
          "model_module_version": "1.2.0",
          "state": {
            "_model_module": "@jupyter-widgets/base",
            "_model_module_version": "1.2.0",
            "_model_name": "LayoutModel",
            "_view_count": null,
            "_view_module": "@jupyter-widgets/base",
            "_view_module_version": "1.2.0",
            "_view_name": "LayoutView",
            "align_content": null,
            "align_items": null,
            "align_self": null,
            "border": null,
            "bottom": null,
            "display": null,
            "flex": null,
            "flex_flow": null,
            "grid_area": null,
            "grid_auto_columns": null,
            "grid_auto_flow": null,
            "grid_auto_rows": null,
            "grid_column": null,
            "grid_gap": null,
            "grid_row": null,
            "grid_template_areas": null,
            "grid_template_columns": null,
            "grid_template_rows": null,
            "height": null,
            "justify_content": null,
            "justify_items": null,
            "left": null,
            "margin": null,
            "max_height": null,
            "max_width": null,
            "min_height": null,
            "min_width": null,
            "object_fit": null,
            "object_position": null,
            "order": null,
            "overflow": null,
            "overflow_x": null,
            "overflow_y": null,
            "padding": null,
            "right": null,
            "top": null,
            "visibility": null,
            "width": null
          }
        },
        "2dbd0fdb273e4a6e80faf4758125cd1e": {
          "model_module": "@jupyter-widgets/controls",
          "model_name": "DescriptionStyleModel",
          "model_module_version": "1.5.0",
          "state": {
            "_model_module": "@jupyter-widgets/controls",
            "_model_module_version": "1.5.0",
            "_model_name": "DescriptionStyleModel",
            "_view_count": null,
            "_view_module": "@jupyter-widgets/base",
            "_view_module_version": "1.2.0",
            "_view_name": "StyleView",
            "description_width": ""
          }
        },
        "b4d4ae59bc7a44a899a2db44988171fa": {
          "model_module": "@jupyter-widgets/controls",
          "model_name": "HBoxModel",
          "model_module_version": "1.5.0",
          "state": {
            "_dom_classes": [],
            "_model_module": "@jupyter-widgets/controls",
            "_model_module_version": "1.5.0",
            "_model_name": "HBoxModel",
            "_view_count": null,
            "_view_module": "@jupyter-widgets/controls",
            "_view_module_version": "1.5.0",
            "_view_name": "HBoxView",
            "box_style": "",
            "children": [
              "IPY_MODEL_f06eea122ef647d5ad97f833a2571dd2",
              "IPY_MODEL_762f249705f44a0eb2be601b02e8d740",
              "IPY_MODEL_70262710172d42d5884fc23b7ad1eba3"
            ],
            "layout": "IPY_MODEL_1d5edadae0c647748eb9261fa709f512"
          }
        },
        "f06eea122ef647d5ad97f833a2571dd2": {
          "model_module": "@jupyter-widgets/controls",
          "model_name": "HTMLModel",
          "model_module_version": "1.5.0",
          "state": {
            "_dom_classes": [],
            "_model_module": "@jupyter-widgets/controls",
            "_model_module_version": "1.5.0",
            "_model_name": "HTMLModel",
            "_view_count": null,
            "_view_module": "@jupyter-widgets/controls",
            "_view_module_version": "1.5.0",
            "_view_name": "HTMLView",
            "description": "",
            "description_tooltip": null,
            "layout": "IPY_MODEL_fe02d1b3812b41a88ed04ddf01387554",
            "placeholder": "​",
            "style": "IPY_MODEL_0d4b18641d5e41579f93d8b3c908a8b6",
            "value": "Epoch 4 / 20: 100%"
          }
        },
        "762f249705f44a0eb2be601b02e8d740": {
          "model_module": "@jupyter-widgets/controls",
          "model_name": "FloatProgressModel",
          "model_module_version": "1.5.0",
          "state": {
            "_dom_classes": [],
            "_model_module": "@jupyter-widgets/controls",
            "_model_module_version": "1.5.0",
            "_model_name": "FloatProgressModel",
            "_view_count": null,
            "_view_module": "@jupyter-widgets/controls",
            "_view_module_version": "1.5.0",
            "_view_name": "ProgressView",
            "bar_style": "success",
            "description": "",
            "description_tooltip": null,
            "layout": "IPY_MODEL_9e25e42f01204c48b8a76d4277f9c9df",
            "max": 12,
            "min": 0,
            "orientation": "horizontal",
            "style": "IPY_MODEL_b6143051d7ff4a4ea60f0c68ad2a43d0",
            "value": 12
          }
        },
        "70262710172d42d5884fc23b7ad1eba3": {
          "model_module": "@jupyter-widgets/controls",
          "model_name": "HTMLModel",
          "model_module_version": "1.5.0",
          "state": {
            "_dom_classes": [],
            "_model_module": "@jupyter-widgets/controls",
            "_model_module_version": "1.5.0",
            "_model_name": "HTMLModel",
            "_view_count": null,
            "_view_module": "@jupyter-widgets/controls",
            "_view_module_version": "1.5.0",
            "_view_name": "HTMLView",
            "description": "",
            "description_tooltip": null,
            "layout": "IPY_MODEL_b9147b50273b41d58c86a713666f5ee9",
            "placeholder": "​",
            "style": "IPY_MODEL_5f1762dbe90c48668241cad63f50e35f",
            "value": " 12/12 [00:00&lt;00:00, 75.90it/s]"
          }
        },
        "1d5edadae0c647748eb9261fa709f512": {
          "model_module": "@jupyter-widgets/base",
          "model_name": "LayoutModel",
          "model_module_version": "1.2.0",
          "state": {
            "_model_module": "@jupyter-widgets/base",
            "_model_module_version": "1.2.0",
            "_model_name": "LayoutModel",
            "_view_count": null,
            "_view_module": "@jupyter-widgets/base",
            "_view_module_version": "1.2.0",
            "_view_name": "LayoutView",
            "align_content": null,
            "align_items": null,
            "align_self": null,
            "border": null,
            "bottom": null,
            "display": null,
            "flex": null,
            "flex_flow": null,
            "grid_area": null,
            "grid_auto_columns": null,
            "grid_auto_flow": null,
            "grid_auto_rows": null,
            "grid_column": null,
            "grid_gap": null,
            "grid_row": null,
            "grid_template_areas": null,
            "grid_template_columns": null,
            "grid_template_rows": null,
            "height": null,
            "justify_content": null,
            "justify_items": null,
            "left": null,
            "margin": null,
            "max_height": null,
            "max_width": null,
            "min_height": null,
            "min_width": null,
            "object_fit": null,
            "object_position": null,
            "order": null,
            "overflow": null,
            "overflow_x": null,
            "overflow_y": null,
            "padding": null,
            "right": null,
            "top": null,
            "visibility": null,
            "width": null
          }
        },
        "fe02d1b3812b41a88ed04ddf01387554": {
          "model_module": "@jupyter-widgets/base",
          "model_name": "LayoutModel",
          "model_module_version": "1.2.0",
          "state": {
            "_model_module": "@jupyter-widgets/base",
            "_model_module_version": "1.2.0",
            "_model_name": "LayoutModel",
            "_view_count": null,
            "_view_module": "@jupyter-widgets/base",
            "_view_module_version": "1.2.0",
            "_view_name": "LayoutView",
            "align_content": null,
            "align_items": null,
            "align_self": null,
            "border": null,
            "bottom": null,
            "display": null,
            "flex": null,
            "flex_flow": null,
            "grid_area": null,
            "grid_auto_columns": null,
            "grid_auto_flow": null,
            "grid_auto_rows": null,
            "grid_column": null,
            "grid_gap": null,
            "grid_row": null,
            "grid_template_areas": null,
            "grid_template_columns": null,
            "grid_template_rows": null,
            "height": null,
            "justify_content": null,
            "justify_items": null,
            "left": null,
            "margin": null,
            "max_height": null,
            "max_width": null,
            "min_height": null,
            "min_width": null,
            "object_fit": null,
            "object_position": null,
            "order": null,
            "overflow": null,
            "overflow_x": null,
            "overflow_y": null,
            "padding": null,
            "right": null,
            "top": null,
            "visibility": null,
            "width": null
          }
        },
        "0d4b18641d5e41579f93d8b3c908a8b6": {
          "model_module": "@jupyter-widgets/controls",
          "model_name": "DescriptionStyleModel",
          "model_module_version": "1.5.0",
          "state": {
            "_model_module": "@jupyter-widgets/controls",
            "_model_module_version": "1.5.0",
            "_model_name": "DescriptionStyleModel",
            "_view_count": null,
            "_view_module": "@jupyter-widgets/base",
            "_view_module_version": "1.2.0",
            "_view_name": "StyleView",
            "description_width": ""
          }
        },
        "9e25e42f01204c48b8a76d4277f9c9df": {
          "model_module": "@jupyter-widgets/base",
          "model_name": "LayoutModel",
          "model_module_version": "1.2.0",
          "state": {
            "_model_module": "@jupyter-widgets/base",
            "_model_module_version": "1.2.0",
            "_model_name": "LayoutModel",
            "_view_count": null,
            "_view_module": "@jupyter-widgets/base",
            "_view_module_version": "1.2.0",
            "_view_name": "LayoutView",
            "align_content": null,
            "align_items": null,
            "align_self": null,
            "border": null,
            "bottom": null,
            "display": null,
            "flex": null,
            "flex_flow": null,
            "grid_area": null,
            "grid_auto_columns": null,
            "grid_auto_flow": null,
            "grid_auto_rows": null,
            "grid_column": null,
            "grid_gap": null,
            "grid_row": null,
            "grid_template_areas": null,
            "grid_template_columns": null,
            "grid_template_rows": null,
            "height": null,
            "justify_content": null,
            "justify_items": null,
            "left": null,
            "margin": null,
            "max_height": null,
            "max_width": null,
            "min_height": null,
            "min_width": null,
            "object_fit": null,
            "object_position": null,
            "order": null,
            "overflow": null,
            "overflow_x": null,
            "overflow_y": null,
            "padding": null,
            "right": null,
            "top": null,
            "visibility": null,
            "width": null
          }
        },
        "b6143051d7ff4a4ea60f0c68ad2a43d0": {
          "model_module": "@jupyter-widgets/controls",
          "model_name": "ProgressStyleModel",
          "model_module_version": "1.5.0",
          "state": {
            "_model_module": "@jupyter-widgets/controls",
            "_model_module_version": "1.5.0",
            "_model_name": "ProgressStyleModel",
            "_view_count": null,
            "_view_module": "@jupyter-widgets/base",
            "_view_module_version": "1.2.0",
            "_view_name": "StyleView",
            "bar_color": null,
            "description_width": ""
          }
        },
        "b9147b50273b41d58c86a713666f5ee9": {
          "model_module": "@jupyter-widgets/base",
          "model_name": "LayoutModel",
          "model_module_version": "1.2.0",
          "state": {
            "_model_module": "@jupyter-widgets/base",
            "_model_module_version": "1.2.0",
            "_model_name": "LayoutModel",
            "_view_count": null,
            "_view_module": "@jupyter-widgets/base",
            "_view_module_version": "1.2.0",
            "_view_name": "LayoutView",
            "align_content": null,
            "align_items": null,
            "align_self": null,
            "border": null,
            "bottom": null,
            "display": null,
            "flex": null,
            "flex_flow": null,
            "grid_area": null,
            "grid_auto_columns": null,
            "grid_auto_flow": null,
            "grid_auto_rows": null,
            "grid_column": null,
            "grid_gap": null,
            "grid_row": null,
            "grid_template_areas": null,
            "grid_template_columns": null,
            "grid_template_rows": null,
            "height": null,
            "justify_content": null,
            "justify_items": null,
            "left": null,
            "margin": null,
            "max_height": null,
            "max_width": null,
            "min_height": null,
            "min_width": null,
            "object_fit": null,
            "object_position": null,
            "order": null,
            "overflow": null,
            "overflow_x": null,
            "overflow_y": null,
            "padding": null,
            "right": null,
            "top": null,
            "visibility": null,
            "width": null
          }
        },
        "5f1762dbe90c48668241cad63f50e35f": {
          "model_module": "@jupyter-widgets/controls",
          "model_name": "DescriptionStyleModel",
          "model_module_version": "1.5.0",
          "state": {
            "_model_module": "@jupyter-widgets/controls",
            "_model_module_version": "1.5.0",
            "_model_name": "DescriptionStyleModel",
            "_view_count": null,
            "_view_module": "@jupyter-widgets/base",
            "_view_module_version": "1.2.0",
            "_view_name": "StyleView",
            "description_width": ""
          }
        },
        "031395cef39046deb8e9f3af9463ae8a": {
          "model_module": "@jupyter-widgets/controls",
          "model_name": "HBoxModel",
          "model_module_version": "1.5.0",
          "state": {
            "_dom_classes": [],
            "_model_module": "@jupyter-widgets/controls",
            "_model_module_version": "1.5.0",
            "_model_name": "HBoxModel",
            "_view_count": null,
            "_view_module": "@jupyter-widgets/controls",
            "_view_module_version": "1.5.0",
            "_view_name": "HBoxView",
            "box_style": "",
            "children": [
              "IPY_MODEL_ddb6574f0dfe4adb8b4b7925dcd8cd14",
              "IPY_MODEL_e71714695e304a79bbb228c0407c3733",
              "IPY_MODEL_03856c87d78d42b3a858fff2b1a54347"
            ],
            "layout": "IPY_MODEL_2bc2456a6cfb426a90e6869e238cba16"
          }
        },
        "ddb6574f0dfe4adb8b4b7925dcd8cd14": {
          "model_module": "@jupyter-widgets/controls",
          "model_name": "HTMLModel",
          "model_module_version": "1.5.0",
          "state": {
            "_dom_classes": [],
            "_model_module": "@jupyter-widgets/controls",
            "_model_module_version": "1.5.0",
            "_model_name": "HTMLModel",
            "_view_count": null,
            "_view_module": "@jupyter-widgets/controls",
            "_view_module_version": "1.5.0",
            "_view_name": "HTMLView",
            "description": "",
            "description_tooltip": null,
            "layout": "IPY_MODEL_fc90be7efbea44759dbcbac6bf1617da",
            "placeholder": "​",
            "style": "IPY_MODEL_4a107b82547f4e9e97b552bdc0f88457",
            "value": "Epoch 5 / 20: 100%"
          }
        },
        "e71714695e304a79bbb228c0407c3733": {
          "model_module": "@jupyter-widgets/controls",
          "model_name": "FloatProgressModel",
          "model_module_version": "1.5.0",
          "state": {
            "_dom_classes": [],
            "_model_module": "@jupyter-widgets/controls",
            "_model_module_version": "1.5.0",
            "_model_name": "FloatProgressModel",
            "_view_count": null,
            "_view_module": "@jupyter-widgets/controls",
            "_view_module_version": "1.5.0",
            "_view_name": "ProgressView",
            "bar_style": "success",
            "description": "",
            "description_tooltip": null,
            "layout": "IPY_MODEL_ae75677f1f5f435882a0eb0d6d2e7b5a",
            "max": 12,
            "min": 0,
            "orientation": "horizontal",
            "style": "IPY_MODEL_bca02a7f386d46678048e5afebbd317d",
            "value": 12
          }
        },
        "03856c87d78d42b3a858fff2b1a54347": {
          "model_module": "@jupyter-widgets/controls",
          "model_name": "HTMLModel",
          "model_module_version": "1.5.0",
          "state": {
            "_dom_classes": [],
            "_model_module": "@jupyter-widgets/controls",
            "_model_module_version": "1.5.0",
            "_model_name": "HTMLModel",
            "_view_count": null,
            "_view_module": "@jupyter-widgets/controls",
            "_view_module_version": "1.5.0",
            "_view_name": "HTMLView",
            "description": "",
            "description_tooltip": null,
            "layout": "IPY_MODEL_3d1e849e8b0a4551be1b5f1ab81661c7",
            "placeholder": "​",
            "style": "IPY_MODEL_a260d9798d7c4023b096e9bffc16826f",
            "value": " 12/12 [00:00&lt;00:00, 68.74it/s]"
          }
        },
        "2bc2456a6cfb426a90e6869e238cba16": {
          "model_module": "@jupyter-widgets/base",
          "model_name": "LayoutModel",
          "model_module_version": "1.2.0",
          "state": {
            "_model_module": "@jupyter-widgets/base",
            "_model_module_version": "1.2.0",
            "_model_name": "LayoutModel",
            "_view_count": null,
            "_view_module": "@jupyter-widgets/base",
            "_view_module_version": "1.2.0",
            "_view_name": "LayoutView",
            "align_content": null,
            "align_items": null,
            "align_self": null,
            "border": null,
            "bottom": null,
            "display": null,
            "flex": null,
            "flex_flow": null,
            "grid_area": null,
            "grid_auto_columns": null,
            "grid_auto_flow": null,
            "grid_auto_rows": null,
            "grid_column": null,
            "grid_gap": null,
            "grid_row": null,
            "grid_template_areas": null,
            "grid_template_columns": null,
            "grid_template_rows": null,
            "height": null,
            "justify_content": null,
            "justify_items": null,
            "left": null,
            "margin": null,
            "max_height": null,
            "max_width": null,
            "min_height": null,
            "min_width": null,
            "object_fit": null,
            "object_position": null,
            "order": null,
            "overflow": null,
            "overflow_x": null,
            "overflow_y": null,
            "padding": null,
            "right": null,
            "top": null,
            "visibility": null,
            "width": null
          }
        },
        "fc90be7efbea44759dbcbac6bf1617da": {
          "model_module": "@jupyter-widgets/base",
          "model_name": "LayoutModel",
          "model_module_version": "1.2.0",
          "state": {
            "_model_module": "@jupyter-widgets/base",
            "_model_module_version": "1.2.0",
            "_model_name": "LayoutModel",
            "_view_count": null,
            "_view_module": "@jupyter-widgets/base",
            "_view_module_version": "1.2.0",
            "_view_name": "LayoutView",
            "align_content": null,
            "align_items": null,
            "align_self": null,
            "border": null,
            "bottom": null,
            "display": null,
            "flex": null,
            "flex_flow": null,
            "grid_area": null,
            "grid_auto_columns": null,
            "grid_auto_flow": null,
            "grid_auto_rows": null,
            "grid_column": null,
            "grid_gap": null,
            "grid_row": null,
            "grid_template_areas": null,
            "grid_template_columns": null,
            "grid_template_rows": null,
            "height": null,
            "justify_content": null,
            "justify_items": null,
            "left": null,
            "margin": null,
            "max_height": null,
            "max_width": null,
            "min_height": null,
            "min_width": null,
            "object_fit": null,
            "object_position": null,
            "order": null,
            "overflow": null,
            "overflow_x": null,
            "overflow_y": null,
            "padding": null,
            "right": null,
            "top": null,
            "visibility": null,
            "width": null
          }
        },
        "4a107b82547f4e9e97b552bdc0f88457": {
          "model_module": "@jupyter-widgets/controls",
          "model_name": "DescriptionStyleModel",
          "model_module_version": "1.5.0",
          "state": {
            "_model_module": "@jupyter-widgets/controls",
            "_model_module_version": "1.5.0",
            "_model_name": "DescriptionStyleModel",
            "_view_count": null,
            "_view_module": "@jupyter-widgets/base",
            "_view_module_version": "1.2.0",
            "_view_name": "StyleView",
            "description_width": ""
          }
        },
        "ae75677f1f5f435882a0eb0d6d2e7b5a": {
          "model_module": "@jupyter-widgets/base",
          "model_name": "LayoutModel",
          "model_module_version": "1.2.0",
          "state": {
            "_model_module": "@jupyter-widgets/base",
            "_model_module_version": "1.2.0",
            "_model_name": "LayoutModel",
            "_view_count": null,
            "_view_module": "@jupyter-widgets/base",
            "_view_module_version": "1.2.0",
            "_view_name": "LayoutView",
            "align_content": null,
            "align_items": null,
            "align_self": null,
            "border": null,
            "bottom": null,
            "display": null,
            "flex": null,
            "flex_flow": null,
            "grid_area": null,
            "grid_auto_columns": null,
            "grid_auto_flow": null,
            "grid_auto_rows": null,
            "grid_column": null,
            "grid_gap": null,
            "grid_row": null,
            "grid_template_areas": null,
            "grid_template_columns": null,
            "grid_template_rows": null,
            "height": null,
            "justify_content": null,
            "justify_items": null,
            "left": null,
            "margin": null,
            "max_height": null,
            "max_width": null,
            "min_height": null,
            "min_width": null,
            "object_fit": null,
            "object_position": null,
            "order": null,
            "overflow": null,
            "overflow_x": null,
            "overflow_y": null,
            "padding": null,
            "right": null,
            "top": null,
            "visibility": null,
            "width": null
          }
        },
        "bca02a7f386d46678048e5afebbd317d": {
          "model_module": "@jupyter-widgets/controls",
          "model_name": "ProgressStyleModel",
          "model_module_version": "1.5.0",
          "state": {
            "_model_module": "@jupyter-widgets/controls",
            "_model_module_version": "1.5.0",
            "_model_name": "ProgressStyleModel",
            "_view_count": null,
            "_view_module": "@jupyter-widgets/base",
            "_view_module_version": "1.2.0",
            "_view_name": "StyleView",
            "bar_color": null,
            "description_width": ""
          }
        },
        "3d1e849e8b0a4551be1b5f1ab81661c7": {
          "model_module": "@jupyter-widgets/base",
          "model_name": "LayoutModel",
          "model_module_version": "1.2.0",
          "state": {
            "_model_module": "@jupyter-widgets/base",
            "_model_module_version": "1.2.0",
            "_model_name": "LayoutModel",
            "_view_count": null,
            "_view_module": "@jupyter-widgets/base",
            "_view_module_version": "1.2.0",
            "_view_name": "LayoutView",
            "align_content": null,
            "align_items": null,
            "align_self": null,
            "border": null,
            "bottom": null,
            "display": null,
            "flex": null,
            "flex_flow": null,
            "grid_area": null,
            "grid_auto_columns": null,
            "grid_auto_flow": null,
            "grid_auto_rows": null,
            "grid_column": null,
            "grid_gap": null,
            "grid_row": null,
            "grid_template_areas": null,
            "grid_template_columns": null,
            "grid_template_rows": null,
            "height": null,
            "justify_content": null,
            "justify_items": null,
            "left": null,
            "margin": null,
            "max_height": null,
            "max_width": null,
            "min_height": null,
            "min_width": null,
            "object_fit": null,
            "object_position": null,
            "order": null,
            "overflow": null,
            "overflow_x": null,
            "overflow_y": null,
            "padding": null,
            "right": null,
            "top": null,
            "visibility": null,
            "width": null
          }
        },
        "a260d9798d7c4023b096e9bffc16826f": {
          "model_module": "@jupyter-widgets/controls",
          "model_name": "DescriptionStyleModel",
          "model_module_version": "1.5.0",
          "state": {
            "_model_module": "@jupyter-widgets/controls",
            "_model_module_version": "1.5.0",
            "_model_name": "DescriptionStyleModel",
            "_view_count": null,
            "_view_module": "@jupyter-widgets/base",
            "_view_module_version": "1.2.0",
            "_view_name": "StyleView",
            "description_width": ""
          }
        },
        "4391e8c7c9ac46c0a658646d0f3759c9": {
          "model_module": "@jupyter-widgets/controls",
          "model_name": "HBoxModel",
          "model_module_version": "1.5.0",
          "state": {
            "_dom_classes": [],
            "_model_module": "@jupyter-widgets/controls",
            "_model_module_version": "1.5.0",
            "_model_name": "HBoxModel",
            "_view_count": null,
            "_view_module": "@jupyter-widgets/controls",
            "_view_module_version": "1.5.0",
            "_view_name": "HBoxView",
            "box_style": "",
            "children": [
              "IPY_MODEL_9950a7f5a46d41ac87134c9de1caeee1",
              "IPY_MODEL_96cfcd9efc1c4abc96220fae34871a09",
              "IPY_MODEL_f5d0df96b2794dbdb51367905865a174"
            ],
            "layout": "IPY_MODEL_b6eb4781dffd44c19aacbb40483df68e"
          }
        },
        "9950a7f5a46d41ac87134c9de1caeee1": {
          "model_module": "@jupyter-widgets/controls",
          "model_name": "HTMLModel",
          "model_module_version": "1.5.0",
          "state": {
            "_dom_classes": [],
            "_model_module": "@jupyter-widgets/controls",
            "_model_module_version": "1.5.0",
            "_model_name": "HTMLModel",
            "_view_count": null,
            "_view_module": "@jupyter-widgets/controls",
            "_view_module_version": "1.5.0",
            "_view_name": "HTMLView",
            "description": "",
            "description_tooltip": null,
            "layout": "IPY_MODEL_0f478feda90149569172775f7cc97215",
            "placeholder": "​",
            "style": "IPY_MODEL_bb78cce3123840ffba9aae8e9ab8a290",
            "value": "Epoch 6 / 20: 100%"
          }
        },
        "96cfcd9efc1c4abc96220fae34871a09": {
          "model_module": "@jupyter-widgets/controls",
          "model_name": "FloatProgressModel",
          "model_module_version": "1.5.0",
          "state": {
            "_dom_classes": [],
            "_model_module": "@jupyter-widgets/controls",
            "_model_module_version": "1.5.0",
            "_model_name": "FloatProgressModel",
            "_view_count": null,
            "_view_module": "@jupyter-widgets/controls",
            "_view_module_version": "1.5.0",
            "_view_name": "ProgressView",
            "bar_style": "success",
            "description": "",
            "description_tooltip": null,
            "layout": "IPY_MODEL_fdc96a641375479ead9599f39ca5ab25",
            "max": 12,
            "min": 0,
            "orientation": "horizontal",
            "style": "IPY_MODEL_6a6ed803ba3d4e29a51c338b30cd6c38",
            "value": 12
          }
        },
        "f5d0df96b2794dbdb51367905865a174": {
          "model_module": "@jupyter-widgets/controls",
          "model_name": "HTMLModel",
          "model_module_version": "1.5.0",
          "state": {
            "_dom_classes": [],
            "_model_module": "@jupyter-widgets/controls",
            "_model_module_version": "1.5.0",
            "_model_name": "HTMLModel",
            "_view_count": null,
            "_view_module": "@jupyter-widgets/controls",
            "_view_module_version": "1.5.0",
            "_view_name": "HTMLView",
            "description": "",
            "description_tooltip": null,
            "layout": "IPY_MODEL_441bc3efb67a4ac0b00965387650c43e",
            "placeholder": "​",
            "style": "IPY_MODEL_17a3ce07423940f1acfd66243b93c0e8",
            "value": " 12/12 [00:00&lt;00:00, 78.81it/s]"
          }
        },
        "b6eb4781dffd44c19aacbb40483df68e": {
          "model_module": "@jupyter-widgets/base",
          "model_name": "LayoutModel",
          "model_module_version": "1.2.0",
          "state": {
            "_model_module": "@jupyter-widgets/base",
            "_model_module_version": "1.2.0",
            "_model_name": "LayoutModel",
            "_view_count": null,
            "_view_module": "@jupyter-widgets/base",
            "_view_module_version": "1.2.0",
            "_view_name": "LayoutView",
            "align_content": null,
            "align_items": null,
            "align_self": null,
            "border": null,
            "bottom": null,
            "display": null,
            "flex": null,
            "flex_flow": null,
            "grid_area": null,
            "grid_auto_columns": null,
            "grid_auto_flow": null,
            "grid_auto_rows": null,
            "grid_column": null,
            "grid_gap": null,
            "grid_row": null,
            "grid_template_areas": null,
            "grid_template_columns": null,
            "grid_template_rows": null,
            "height": null,
            "justify_content": null,
            "justify_items": null,
            "left": null,
            "margin": null,
            "max_height": null,
            "max_width": null,
            "min_height": null,
            "min_width": null,
            "object_fit": null,
            "object_position": null,
            "order": null,
            "overflow": null,
            "overflow_x": null,
            "overflow_y": null,
            "padding": null,
            "right": null,
            "top": null,
            "visibility": null,
            "width": null
          }
        },
        "0f478feda90149569172775f7cc97215": {
          "model_module": "@jupyter-widgets/base",
          "model_name": "LayoutModel",
          "model_module_version": "1.2.0",
          "state": {
            "_model_module": "@jupyter-widgets/base",
            "_model_module_version": "1.2.0",
            "_model_name": "LayoutModel",
            "_view_count": null,
            "_view_module": "@jupyter-widgets/base",
            "_view_module_version": "1.2.0",
            "_view_name": "LayoutView",
            "align_content": null,
            "align_items": null,
            "align_self": null,
            "border": null,
            "bottom": null,
            "display": null,
            "flex": null,
            "flex_flow": null,
            "grid_area": null,
            "grid_auto_columns": null,
            "grid_auto_flow": null,
            "grid_auto_rows": null,
            "grid_column": null,
            "grid_gap": null,
            "grid_row": null,
            "grid_template_areas": null,
            "grid_template_columns": null,
            "grid_template_rows": null,
            "height": null,
            "justify_content": null,
            "justify_items": null,
            "left": null,
            "margin": null,
            "max_height": null,
            "max_width": null,
            "min_height": null,
            "min_width": null,
            "object_fit": null,
            "object_position": null,
            "order": null,
            "overflow": null,
            "overflow_x": null,
            "overflow_y": null,
            "padding": null,
            "right": null,
            "top": null,
            "visibility": null,
            "width": null
          }
        },
        "bb78cce3123840ffba9aae8e9ab8a290": {
          "model_module": "@jupyter-widgets/controls",
          "model_name": "DescriptionStyleModel",
          "model_module_version": "1.5.0",
          "state": {
            "_model_module": "@jupyter-widgets/controls",
            "_model_module_version": "1.5.0",
            "_model_name": "DescriptionStyleModel",
            "_view_count": null,
            "_view_module": "@jupyter-widgets/base",
            "_view_module_version": "1.2.0",
            "_view_name": "StyleView",
            "description_width": ""
          }
        },
        "fdc96a641375479ead9599f39ca5ab25": {
          "model_module": "@jupyter-widgets/base",
          "model_name": "LayoutModel",
          "model_module_version": "1.2.0",
          "state": {
            "_model_module": "@jupyter-widgets/base",
            "_model_module_version": "1.2.0",
            "_model_name": "LayoutModel",
            "_view_count": null,
            "_view_module": "@jupyter-widgets/base",
            "_view_module_version": "1.2.0",
            "_view_name": "LayoutView",
            "align_content": null,
            "align_items": null,
            "align_self": null,
            "border": null,
            "bottom": null,
            "display": null,
            "flex": null,
            "flex_flow": null,
            "grid_area": null,
            "grid_auto_columns": null,
            "grid_auto_flow": null,
            "grid_auto_rows": null,
            "grid_column": null,
            "grid_gap": null,
            "grid_row": null,
            "grid_template_areas": null,
            "grid_template_columns": null,
            "grid_template_rows": null,
            "height": null,
            "justify_content": null,
            "justify_items": null,
            "left": null,
            "margin": null,
            "max_height": null,
            "max_width": null,
            "min_height": null,
            "min_width": null,
            "object_fit": null,
            "object_position": null,
            "order": null,
            "overflow": null,
            "overflow_x": null,
            "overflow_y": null,
            "padding": null,
            "right": null,
            "top": null,
            "visibility": null,
            "width": null
          }
        },
        "6a6ed803ba3d4e29a51c338b30cd6c38": {
          "model_module": "@jupyter-widgets/controls",
          "model_name": "ProgressStyleModel",
          "model_module_version": "1.5.0",
          "state": {
            "_model_module": "@jupyter-widgets/controls",
            "_model_module_version": "1.5.0",
            "_model_name": "ProgressStyleModel",
            "_view_count": null,
            "_view_module": "@jupyter-widgets/base",
            "_view_module_version": "1.2.0",
            "_view_name": "StyleView",
            "bar_color": null,
            "description_width": ""
          }
        },
        "441bc3efb67a4ac0b00965387650c43e": {
          "model_module": "@jupyter-widgets/base",
          "model_name": "LayoutModel",
          "model_module_version": "1.2.0",
          "state": {
            "_model_module": "@jupyter-widgets/base",
            "_model_module_version": "1.2.0",
            "_model_name": "LayoutModel",
            "_view_count": null,
            "_view_module": "@jupyter-widgets/base",
            "_view_module_version": "1.2.0",
            "_view_name": "LayoutView",
            "align_content": null,
            "align_items": null,
            "align_self": null,
            "border": null,
            "bottom": null,
            "display": null,
            "flex": null,
            "flex_flow": null,
            "grid_area": null,
            "grid_auto_columns": null,
            "grid_auto_flow": null,
            "grid_auto_rows": null,
            "grid_column": null,
            "grid_gap": null,
            "grid_row": null,
            "grid_template_areas": null,
            "grid_template_columns": null,
            "grid_template_rows": null,
            "height": null,
            "justify_content": null,
            "justify_items": null,
            "left": null,
            "margin": null,
            "max_height": null,
            "max_width": null,
            "min_height": null,
            "min_width": null,
            "object_fit": null,
            "object_position": null,
            "order": null,
            "overflow": null,
            "overflow_x": null,
            "overflow_y": null,
            "padding": null,
            "right": null,
            "top": null,
            "visibility": null,
            "width": null
          }
        },
        "17a3ce07423940f1acfd66243b93c0e8": {
          "model_module": "@jupyter-widgets/controls",
          "model_name": "DescriptionStyleModel",
          "model_module_version": "1.5.0",
          "state": {
            "_model_module": "@jupyter-widgets/controls",
            "_model_module_version": "1.5.0",
            "_model_name": "DescriptionStyleModel",
            "_view_count": null,
            "_view_module": "@jupyter-widgets/base",
            "_view_module_version": "1.2.0",
            "_view_name": "StyleView",
            "description_width": ""
          }
        },
        "6825b14d21c046e6b91bc5b1ab1a21c2": {
          "model_module": "@jupyter-widgets/controls",
          "model_name": "HBoxModel",
          "model_module_version": "1.5.0",
          "state": {
            "_dom_classes": [],
            "_model_module": "@jupyter-widgets/controls",
            "_model_module_version": "1.5.0",
            "_model_name": "HBoxModel",
            "_view_count": null,
            "_view_module": "@jupyter-widgets/controls",
            "_view_module_version": "1.5.0",
            "_view_name": "HBoxView",
            "box_style": "",
            "children": [
              "IPY_MODEL_0d461f3bcc7f486aaa32aeeeff2f783c",
              "IPY_MODEL_6c31964c44ad4eca96f634058976aab4",
              "IPY_MODEL_66a8f858a61646b99fd2498b48eb5cb7"
            ],
            "layout": "IPY_MODEL_13546c4e965747f38ae850e6de5a7a92"
          }
        },
        "0d461f3bcc7f486aaa32aeeeff2f783c": {
          "model_module": "@jupyter-widgets/controls",
          "model_name": "HTMLModel",
          "model_module_version": "1.5.0",
          "state": {
            "_dom_classes": [],
            "_model_module": "@jupyter-widgets/controls",
            "_model_module_version": "1.5.0",
            "_model_name": "HTMLModel",
            "_view_count": null,
            "_view_module": "@jupyter-widgets/controls",
            "_view_module_version": "1.5.0",
            "_view_name": "HTMLView",
            "description": "",
            "description_tooltip": null,
            "layout": "IPY_MODEL_d4057cc8c80c463399d1a0caf36b6a3e",
            "placeholder": "​",
            "style": "IPY_MODEL_e5ad200c4d804704b0a77538cccd9a52",
            "value": "Epoch 7 / 20: 100%"
          }
        },
        "6c31964c44ad4eca96f634058976aab4": {
          "model_module": "@jupyter-widgets/controls",
          "model_name": "FloatProgressModel",
          "model_module_version": "1.5.0",
          "state": {
            "_dom_classes": [],
            "_model_module": "@jupyter-widgets/controls",
            "_model_module_version": "1.5.0",
            "_model_name": "FloatProgressModel",
            "_view_count": null,
            "_view_module": "@jupyter-widgets/controls",
            "_view_module_version": "1.5.0",
            "_view_name": "ProgressView",
            "bar_style": "success",
            "description": "",
            "description_tooltip": null,
            "layout": "IPY_MODEL_3588dbee4d4448639b26387f0dc3c624",
            "max": 12,
            "min": 0,
            "orientation": "horizontal",
            "style": "IPY_MODEL_1256fd2ed62e49d0b466d36a2d6f2355",
            "value": 12
          }
        },
        "66a8f858a61646b99fd2498b48eb5cb7": {
          "model_module": "@jupyter-widgets/controls",
          "model_name": "HTMLModel",
          "model_module_version": "1.5.0",
          "state": {
            "_dom_classes": [],
            "_model_module": "@jupyter-widgets/controls",
            "_model_module_version": "1.5.0",
            "_model_name": "HTMLModel",
            "_view_count": null,
            "_view_module": "@jupyter-widgets/controls",
            "_view_module_version": "1.5.0",
            "_view_name": "HTMLView",
            "description": "",
            "description_tooltip": null,
            "layout": "IPY_MODEL_8e0b4135bf25407181688630f547de87",
            "placeholder": "​",
            "style": "IPY_MODEL_07de2637086e45dabc85929fe35ad8fd",
            "value": " 12/12 [00:00&lt;00:00, 77.96it/s]"
          }
        },
        "13546c4e965747f38ae850e6de5a7a92": {
          "model_module": "@jupyter-widgets/base",
          "model_name": "LayoutModel",
          "model_module_version": "1.2.0",
          "state": {
            "_model_module": "@jupyter-widgets/base",
            "_model_module_version": "1.2.0",
            "_model_name": "LayoutModel",
            "_view_count": null,
            "_view_module": "@jupyter-widgets/base",
            "_view_module_version": "1.2.0",
            "_view_name": "LayoutView",
            "align_content": null,
            "align_items": null,
            "align_self": null,
            "border": null,
            "bottom": null,
            "display": null,
            "flex": null,
            "flex_flow": null,
            "grid_area": null,
            "grid_auto_columns": null,
            "grid_auto_flow": null,
            "grid_auto_rows": null,
            "grid_column": null,
            "grid_gap": null,
            "grid_row": null,
            "grid_template_areas": null,
            "grid_template_columns": null,
            "grid_template_rows": null,
            "height": null,
            "justify_content": null,
            "justify_items": null,
            "left": null,
            "margin": null,
            "max_height": null,
            "max_width": null,
            "min_height": null,
            "min_width": null,
            "object_fit": null,
            "object_position": null,
            "order": null,
            "overflow": null,
            "overflow_x": null,
            "overflow_y": null,
            "padding": null,
            "right": null,
            "top": null,
            "visibility": null,
            "width": null
          }
        },
        "d4057cc8c80c463399d1a0caf36b6a3e": {
          "model_module": "@jupyter-widgets/base",
          "model_name": "LayoutModel",
          "model_module_version": "1.2.0",
          "state": {
            "_model_module": "@jupyter-widgets/base",
            "_model_module_version": "1.2.0",
            "_model_name": "LayoutModel",
            "_view_count": null,
            "_view_module": "@jupyter-widgets/base",
            "_view_module_version": "1.2.0",
            "_view_name": "LayoutView",
            "align_content": null,
            "align_items": null,
            "align_self": null,
            "border": null,
            "bottom": null,
            "display": null,
            "flex": null,
            "flex_flow": null,
            "grid_area": null,
            "grid_auto_columns": null,
            "grid_auto_flow": null,
            "grid_auto_rows": null,
            "grid_column": null,
            "grid_gap": null,
            "grid_row": null,
            "grid_template_areas": null,
            "grid_template_columns": null,
            "grid_template_rows": null,
            "height": null,
            "justify_content": null,
            "justify_items": null,
            "left": null,
            "margin": null,
            "max_height": null,
            "max_width": null,
            "min_height": null,
            "min_width": null,
            "object_fit": null,
            "object_position": null,
            "order": null,
            "overflow": null,
            "overflow_x": null,
            "overflow_y": null,
            "padding": null,
            "right": null,
            "top": null,
            "visibility": null,
            "width": null
          }
        },
        "e5ad200c4d804704b0a77538cccd9a52": {
          "model_module": "@jupyter-widgets/controls",
          "model_name": "DescriptionStyleModel",
          "model_module_version": "1.5.0",
          "state": {
            "_model_module": "@jupyter-widgets/controls",
            "_model_module_version": "1.5.0",
            "_model_name": "DescriptionStyleModel",
            "_view_count": null,
            "_view_module": "@jupyter-widgets/base",
            "_view_module_version": "1.2.0",
            "_view_name": "StyleView",
            "description_width": ""
          }
        },
        "3588dbee4d4448639b26387f0dc3c624": {
          "model_module": "@jupyter-widgets/base",
          "model_name": "LayoutModel",
          "model_module_version": "1.2.0",
          "state": {
            "_model_module": "@jupyter-widgets/base",
            "_model_module_version": "1.2.0",
            "_model_name": "LayoutModel",
            "_view_count": null,
            "_view_module": "@jupyter-widgets/base",
            "_view_module_version": "1.2.0",
            "_view_name": "LayoutView",
            "align_content": null,
            "align_items": null,
            "align_self": null,
            "border": null,
            "bottom": null,
            "display": null,
            "flex": null,
            "flex_flow": null,
            "grid_area": null,
            "grid_auto_columns": null,
            "grid_auto_flow": null,
            "grid_auto_rows": null,
            "grid_column": null,
            "grid_gap": null,
            "grid_row": null,
            "grid_template_areas": null,
            "grid_template_columns": null,
            "grid_template_rows": null,
            "height": null,
            "justify_content": null,
            "justify_items": null,
            "left": null,
            "margin": null,
            "max_height": null,
            "max_width": null,
            "min_height": null,
            "min_width": null,
            "object_fit": null,
            "object_position": null,
            "order": null,
            "overflow": null,
            "overflow_x": null,
            "overflow_y": null,
            "padding": null,
            "right": null,
            "top": null,
            "visibility": null,
            "width": null
          }
        },
        "1256fd2ed62e49d0b466d36a2d6f2355": {
          "model_module": "@jupyter-widgets/controls",
          "model_name": "ProgressStyleModel",
          "model_module_version": "1.5.0",
          "state": {
            "_model_module": "@jupyter-widgets/controls",
            "_model_module_version": "1.5.0",
            "_model_name": "ProgressStyleModel",
            "_view_count": null,
            "_view_module": "@jupyter-widgets/base",
            "_view_module_version": "1.2.0",
            "_view_name": "StyleView",
            "bar_color": null,
            "description_width": ""
          }
        },
        "8e0b4135bf25407181688630f547de87": {
          "model_module": "@jupyter-widgets/base",
          "model_name": "LayoutModel",
          "model_module_version": "1.2.0",
          "state": {
            "_model_module": "@jupyter-widgets/base",
            "_model_module_version": "1.2.0",
            "_model_name": "LayoutModel",
            "_view_count": null,
            "_view_module": "@jupyter-widgets/base",
            "_view_module_version": "1.2.0",
            "_view_name": "LayoutView",
            "align_content": null,
            "align_items": null,
            "align_self": null,
            "border": null,
            "bottom": null,
            "display": null,
            "flex": null,
            "flex_flow": null,
            "grid_area": null,
            "grid_auto_columns": null,
            "grid_auto_flow": null,
            "grid_auto_rows": null,
            "grid_column": null,
            "grid_gap": null,
            "grid_row": null,
            "grid_template_areas": null,
            "grid_template_columns": null,
            "grid_template_rows": null,
            "height": null,
            "justify_content": null,
            "justify_items": null,
            "left": null,
            "margin": null,
            "max_height": null,
            "max_width": null,
            "min_height": null,
            "min_width": null,
            "object_fit": null,
            "object_position": null,
            "order": null,
            "overflow": null,
            "overflow_x": null,
            "overflow_y": null,
            "padding": null,
            "right": null,
            "top": null,
            "visibility": null,
            "width": null
          }
        },
        "07de2637086e45dabc85929fe35ad8fd": {
          "model_module": "@jupyter-widgets/controls",
          "model_name": "DescriptionStyleModel",
          "model_module_version": "1.5.0",
          "state": {
            "_model_module": "@jupyter-widgets/controls",
            "_model_module_version": "1.5.0",
            "_model_name": "DescriptionStyleModel",
            "_view_count": null,
            "_view_module": "@jupyter-widgets/base",
            "_view_module_version": "1.2.0",
            "_view_name": "StyleView",
            "description_width": ""
          }
        },
        "1339e42d875647a7a3a313ee5a66b5da": {
          "model_module": "@jupyter-widgets/controls",
          "model_name": "HBoxModel",
          "model_module_version": "1.5.0",
          "state": {
            "_dom_classes": [],
            "_model_module": "@jupyter-widgets/controls",
            "_model_module_version": "1.5.0",
            "_model_name": "HBoxModel",
            "_view_count": null,
            "_view_module": "@jupyter-widgets/controls",
            "_view_module_version": "1.5.0",
            "_view_name": "HBoxView",
            "box_style": "",
            "children": [
              "IPY_MODEL_e4dd9a189dfc4ef5876325c9939387cd",
              "IPY_MODEL_363d72dc1d5e408797023d0ebbdc5910",
              "IPY_MODEL_3272149d1d8f4c14ac616ddc55f5c5f0"
            ],
            "layout": "IPY_MODEL_99116065825345b188ca634bf3421ff1"
          }
        },
        "e4dd9a189dfc4ef5876325c9939387cd": {
          "model_module": "@jupyter-widgets/controls",
          "model_name": "HTMLModel",
          "model_module_version": "1.5.0",
          "state": {
            "_dom_classes": [],
            "_model_module": "@jupyter-widgets/controls",
            "_model_module_version": "1.5.0",
            "_model_name": "HTMLModel",
            "_view_count": null,
            "_view_module": "@jupyter-widgets/controls",
            "_view_module_version": "1.5.0",
            "_view_name": "HTMLView",
            "description": "",
            "description_tooltip": null,
            "layout": "IPY_MODEL_453b02f05a734cfdb5d6c59003dce823",
            "placeholder": "​",
            "style": "IPY_MODEL_bf0d49f9e1374ddeb7c25022e01a41b0",
            "value": "Epoch 8 / 20: 100%"
          }
        },
        "363d72dc1d5e408797023d0ebbdc5910": {
          "model_module": "@jupyter-widgets/controls",
          "model_name": "FloatProgressModel",
          "model_module_version": "1.5.0",
          "state": {
            "_dom_classes": [],
            "_model_module": "@jupyter-widgets/controls",
            "_model_module_version": "1.5.0",
            "_model_name": "FloatProgressModel",
            "_view_count": null,
            "_view_module": "@jupyter-widgets/controls",
            "_view_module_version": "1.5.0",
            "_view_name": "ProgressView",
            "bar_style": "success",
            "description": "",
            "description_tooltip": null,
            "layout": "IPY_MODEL_f88aa73da44343e08d1074495fe29a4c",
            "max": 12,
            "min": 0,
            "orientation": "horizontal",
            "style": "IPY_MODEL_c21d45dc250a445ca85e8920ceaef191",
            "value": 12
          }
        },
        "3272149d1d8f4c14ac616ddc55f5c5f0": {
          "model_module": "@jupyter-widgets/controls",
          "model_name": "HTMLModel",
          "model_module_version": "1.5.0",
          "state": {
            "_dom_classes": [],
            "_model_module": "@jupyter-widgets/controls",
            "_model_module_version": "1.5.0",
            "_model_name": "HTMLModel",
            "_view_count": null,
            "_view_module": "@jupyter-widgets/controls",
            "_view_module_version": "1.5.0",
            "_view_name": "HTMLView",
            "description": "",
            "description_tooltip": null,
            "layout": "IPY_MODEL_9e8023c3bd8d4d5ea16c9e8e72f3a4c8",
            "placeholder": "​",
            "style": "IPY_MODEL_456e935fe8194bcfb7e51cb456be425c",
            "value": " 12/12 [00:00&lt;00:00, 76.85it/s]"
          }
        },
        "99116065825345b188ca634bf3421ff1": {
          "model_module": "@jupyter-widgets/base",
          "model_name": "LayoutModel",
          "model_module_version": "1.2.0",
          "state": {
            "_model_module": "@jupyter-widgets/base",
            "_model_module_version": "1.2.0",
            "_model_name": "LayoutModel",
            "_view_count": null,
            "_view_module": "@jupyter-widgets/base",
            "_view_module_version": "1.2.0",
            "_view_name": "LayoutView",
            "align_content": null,
            "align_items": null,
            "align_self": null,
            "border": null,
            "bottom": null,
            "display": null,
            "flex": null,
            "flex_flow": null,
            "grid_area": null,
            "grid_auto_columns": null,
            "grid_auto_flow": null,
            "grid_auto_rows": null,
            "grid_column": null,
            "grid_gap": null,
            "grid_row": null,
            "grid_template_areas": null,
            "grid_template_columns": null,
            "grid_template_rows": null,
            "height": null,
            "justify_content": null,
            "justify_items": null,
            "left": null,
            "margin": null,
            "max_height": null,
            "max_width": null,
            "min_height": null,
            "min_width": null,
            "object_fit": null,
            "object_position": null,
            "order": null,
            "overflow": null,
            "overflow_x": null,
            "overflow_y": null,
            "padding": null,
            "right": null,
            "top": null,
            "visibility": null,
            "width": null
          }
        },
        "453b02f05a734cfdb5d6c59003dce823": {
          "model_module": "@jupyter-widgets/base",
          "model_name": "LayoutModel",
          "model_module_version": "1.2.0",
          "state": {
            "_model_module": "@jupyter-widgets/base",
            "_model_module_version": "1.2.0",
            "_model_name": "LayoutModel",
            "_view_count": null,
            "_view_module": "@jupyter-widgets/base",
            "_view_module_version": "1.2.0",
            "_view_name": "LayoutView",
            "align_content": null,
            "align_items": null,
            "align_self": null,
            "border": null,
            "bottom": null,
            "display": null,
            "flex": null,
            "flex_flow": null,
            "grid_area": null,
            "grid_auto_columns": null,
            "grid_auto_flow": null,
            "grid_auto_rows": null,
            "grid_column": null,
            "grid_gap": null,
            "grid_row": null,
            "grid_template_areas": null,
            "grid_template_columns": null,
            "grid_template_rows": null,
            "height": null,
            "justify_content": null,
            "justify_items": null,
            "left": null,
            "margin": null,
            "max_height": null,
            "max_width": null,
            "min_height": null,
            "min_width": null,
            "object_fit": null,
            "object_position": null,
            "order": null,
            "overflow": null,
            "overflow_x": null,
            "overflow_y": null,
            "padding": null,
            "right": null,
            "top": null,
            "visibility": null,
            "width": null
          }
        },
        "bf0d49f9e1374ddeb7c25022e01a41b0": {
          "model_module": "@jupyter-widgets/controls",
          "model_name": "DescriptionStyleModel",
          "model_module_version": "1.5.0",
          "state": {
            "_model_module": "@jupyter-widgets/controls",
            "_model_module_version": "1.5.0",
            "_model_name": "DescriptionStyleModel",
            "_view_count": null,
            "_view_module": "@jupyter-widgets/base",
            "_view_module_version": "1.2.0",
            "_view_name": "StyleView",
            "description_width": ""
          }
        },
        "f88aa73da44343e08d1074495fe29a4c": {
          "model_module": "@jupyter-widgets/base",
          "model_name": "LayoutModel",
          "model_module_version": "1.2.0",
          "state": {
            "_model_module": "@jupyter-widgets/base",
            "_model_module_version": "1.2.0",
            "_model_name": "LayoutModel",
            "_view_count": null,
            "_view_module": "@jupyter-widgets/base",
            "_view_module_version": "1.2.0",
            "_view_name": "LayoutView",
            "align_content": null,
            "align_items": null,
            "align_self": null,
            "border": null,
            "bottom": null,
            "display": null,
            "flex": null,
            "flex_flow": null,
            "grid_area": null,
            "grid_auto_columns": null,
            "grid_auto_flow": null,
            "grid_auto_rows": null,
            "grid_column": null,
            "grid_gap": null,
            "grid_row": null,
            "grid_template_areas": null,
            "grid_template_columns": null,
            "grid_template_rows": null,
            "height": null,
            "justify_content": null,
            "justify_items": null,
            "left": null,
            "margin": null,
            "max_height": null,
            "max_width": null,
            "min_height": null,
            "min_width": null,
            "object_fit": null,
            "object_position": null,
            "order": null,
            "overflow": null,
            "overflow_x": null,
            "overflow_y": null,
            "padding": null,
            "right": null,
            "top": null,
            "visibility": null,
            "width": null
          }
        },
        "c21d45dc250a445ca85e8920ceaef191": {
          "model_module": "@jupyter-widgets/controls",
          "model_name": "ProgressStyleModel",
          "model_module_version": "1.5.0",
          "state": {
            "_model_module": "@jupyter-widgets/controls",
            "_model_module_version": "1.5.0",
            "_model_name": "ProgressStyleModel",
            "_view_count": null,
            "_view_module": "@jupyter-widgets/base",
            "_view_module_version": "1.2.0",
            "_view_name": "StyleView",
            "bar_color": null,
            "description_width": ""
          }
        },
        "9e8023c3bd8d4d5ea16c9e8e72f3a4c8": {
          "model_module": "@jupyter-widgets/base",
          "model_name": "LayoutModel",
          "model_module_version": "1.2.0",
          "state": {
            "_model_module": "@jupyter-widgets/base",
            "_model_module_version": "1.2.0",
            "_model_name": "LayoutModel",
            "_view_count": null,
            "_view_module": "@jupyter-widgets/base",
            "_view_module_version": "1.2.0",
            "_view_name": "LayoutView",
            "align_content": null,
            "align_items": null,
            "align_self": null,
            "border": null,
            "bottom": null,
            "display": null,
            "flex": null,
            "flex_flow": null,
            "grid_area": null,
            "grid_auto_columns": null,
            "grid_auto_flow": null,
            "grid_auto_rows": null,
            "grid_column": null,
            "grid_gap": null,
            "grid_row": null,
            "grid_template_areas": null,
            "grid_template_columns": null,
            "grid_template_rows": null,
            "height": null,
            "justify_content": null,
            "justify_items": null,
            "left": null,
            "margin": null,
            "max_height": null,
            "max_width": null,
            "min_height": null,
            "min_width": null,
            "object_fit": null,
            "object_position": null,
            "order": null,
            "overflow": null,
            "overflow_x": null,
            "overflow_y": null,
            "padding": null,
            "right": null,
            "top": null,
            "visibility": null,
            "width": null
          }
        },
        "456e935fe8194bcfb7e51cb456be425c": {
          "model_module": "@jupyter-widgets/controls",
          "model_name": "DescriptionStyleModel",
          "model_module_version": "1.5.0",
          "state": {
            "_model_module": "@jupyter-widgets/controls",
            "_model_module_version": "1.5.0",
            "_model_name": "DescriptionStyleModel",
            "_view_count": null,
            "_view_module": "@jupyter-widgets/base",
            "_view_module_version": "1.2.0",
            "_view_name": "StyleView",
            "description_width": ""
          }
        },
        "07842568b4e14305bd106477442cfa5b": {
          "model_module": "@jupyter-widgets/controls",
          "model_name": "HBoxModel",
          "model_module_version": "1.5.0",
          "state": {
            "_dom_classes": [],
            "_model_module": "@jupyter-widgets/controls",
            "_model_module_version": "1.5.0",
            "_model_name": "HBoxModel",
            "_view_count": null,
            "_view_module": "@jupyter-widgets/controls",
            "_view_module_version": "1.5.0",
            "_view_name": "HBoxView",
            "box_style": "",
            "children": [
              "IPY_MODEL_5d3c125c9ba144a89eafebd1c704c02c",
              "IPY_MODEL_efc17ac1d31a45d080af6c23488ae8f8",
              "IPY_MODEL_afc24a32867a4249a2a5883f50d9da72"
            ],
            "layout": "IPY_MODEL_e76f2863e74043ca862f658d02fe600d"
          }
        },
        "5d3c125c9ba144a89eafebd1c704c02c": {
          "model_module": "@jupyter-widgets/controls",
          "model_name": "HTMLModel",
          "model_module_version": "1.5.0",
          "state": {
            "_dom_classes": [],
            "_model_module": "@jupyter-widgets/controls",
            "_model_module_version": "1.5.0",
            "_model_name": "HTMLModel",
            "_view_count": null,
            "_view_module": "@jupyter-widgets/controls",
            "_view_module_version": "1.5.0",
            "_view_name": "HTMLView",
            "description": "",
            "description_tooltip": null,
            "layout": "IPY_MODEL_ec5b352afa3a424cb719bc817ccbf5db",
            "placeholder": "​",
            "style": "IPY_MODEL_5e6bc68f17e840afb7556bb0dceb6865",
            "value": "Epoch 9 / 20: 100%"
          }
        },
        "efc17ac1d31a45d080af6c23488ae8f8": {
          "model_module": "@jupyter-widgets/controls",
          "model_name": "FloatProgressModel",
          "model_module_version": "1.5.0",
          "state": {
            "_dom_classes": [],
            "_model_module": "@jupyter-widgets/controls",
            "_model_module_version": "1.5.0",
            "_model_name": "FloatProgressModel",
            "_view_count": null,
            "_view_module": "@jupyter-widgets/controls",
            "_view_module_version": "1.5.0",
            "_view_name": "ProgressView",
            "bar_style": "success",
            "description": "",
            "description_tooltip": null,
            "layout": "IPY_MODEL_45611b441c18408191aa6724f6c234fe",
            "max": 12,
            "min": 0,
            "orientation": "horizontal",
            "style": "IPY_MODEL_8e45caf62acf4a7cb5b6ea099435860e",
            "value": 12
          }
        },
        "afc24a32867a4249a2a5883f50d9da72": {
          "model_module": "@jupyter-widgets/controls",
          "model_name": "HTMLModel",
          "model_module_version": "1.5.0",
          "state": {
            "_dom_classes": [],
            "_model_module": "@jupyter-widgets/controls",
            "_model_module_version": "1.5.0",
            "_model_name": "HTMLModel",
            "_view_count": null,
            "_view_module": "@jupyter-widgets/controls",
            "_view_module_version": "1.5.0",
            "_view_name": "HTMLView",
            "description": "",
            "description_tooltip": null,
            "layout": "IPY_MODEL_85d7c2d5a7754329b366ce8cc7638560",
            "placeholder": "​",
            "style": "IPY_MODEL_e27a27d1ea55431db6441e989af5e142",
            "value": " 12/12 [00:00&lt;00:00, 69.97it/s]"
          }
        },
        "e76f2863e74043ca862f658d02fe600d": {
          "model_module": "@jupyter-widgets/base",
          "model_name": "LayoutModel",
          "model_module_version": "1.2.0",
          "state": {
            "_model_module": "@jupyter-widgets/base",
            "_model_module_version": "1.2.0",
            "_model_name": "LayoutModel",
            "_view_count": null,
            "_view_module": "@jupyter-widgets/base",
            "_view_module_version": "1.2.0",
            "_view_name": "LayoutView",
            "align_content": null,
            "align_items": null,
            "align_self": null,
            "border": null,
            "bottom": null,
            "display": null,
            "flex": null,
            "flex_flow": null,
            "grid_area": null,
            "grid_auto_columns": null,
            "grid_auto_flow": null,
            "grid_auto_rows": null,
            "grid_column": null,
            "grid_gap": null,
            "grid_row": null,
            "grid_template_areas": null,
            "grid_template_columns": null,
            "grid_template_rows": null,
            "height": null,
            "justify_content": null,
            "justify_items": null,
            "left": null,
            "margin": null,
            "max_height": null,
            "max_width": null,
            "min_height": null,
            "min_width": null,
            "object_fit": null,
            "object_position": null,
            "order": null,
            "overflow": null,
            "overflow_x": null,
            "overflow_y": null,
            "padding": null,
            "right": null,
            "top": null,
            "visibility": null,
            "width": null
          }
        },
        "ec5b352afa3a424cb719bc817ccbf5db": {
          "model_module": "@jupyter-widgets/base",
          "model_name": "LayoutModel",
          "model_module_version": "1.2.0",
          "state": {
            "_model_module": "@jupyter-widgets/base",
            "_model_module_version": "1.2.0",
            "_model_name": "LayoutModel",
            "_view_count": null,
            "_view_module": "@jupyter-widgets/base",
            "_view_module_version": "1.2.0",
            "_view_name": "LayoutView",
            "align_content": null,
            "align_items": null,
            "align_self": null,
            "border": null,
            "bottom": null,
            "display": null,
            "flex": null,
            "flex_flow": null,
            "grid_area": null,
            "grid_auto_columns": null,
            "grid_auto_flow": null,
            "grid_auto_rows": null,
            "grid_column": null,
            "grid_gap": null,
            "grid_row": null,
            "grid_template_areas": null,
            "grid_template_columns": null,
            "grid_template_rows": null,
            "height": null,
            "justify_content": null,
            "justify_items": null,
            "left": null,
            "margin": null,
            "max_height": null,
            "max_width": null,
            "min_height": null,
            "min_width": null,
            "object_fit": null,
            "object_position": null,
            "order": null,
            "overflow": null,
            "overflow_x": null,
            "overflow_y": null,
            "padding": null,
            "right": null,
            "top": null,
            "visibility": null,
            "width": null
          }
        },
        "5e6bc68f17e840afb7556bb0dceb6865": {
          "model_module": "@jupyter-widgets/controls",
          "model_name": "DescriptionStyleModel",
          "model_module_version": "1.5.0",
          "state": {
            "_model_module": "@jupyter-widgets/controls",
            "_model_module_version": "1.5.0",
            "_model_name": "DescriptionStyleModel",
            "_view_count": null,
            "_view_module": "@jupyter-widgets/base",
            "_view_module_version": "1.2.0",
            "_view_name": "StyleView",
            "description_width": ""
          }
        },
        "45611b441c18408191aa6724f6c234fe": {
          "model_module": "@jupyter-widgets/base",
          "model_name": "LayoutModel",
          "model_module_version": "1.2.0",
          "state": {
            "_model_module": "@jupyter-widgets/base",
            "_model_module_version": "1.2.0",
            "_model_name": "LayoutModel",
            "_view_count": null,
            "_view_module": "@jupyter-widgets/base",
            "_view_module_version": "1.2.0",
            "_view_name": "LayoutView",
            "align_content": null,
            "align_items": null,
            "align_self": null,
            "border": null,
            "bottom": null,
            "display": null,
            "flex": null,
            "flex_flow": null,
            "grid_area": null,
            "grid_auto_columns": null,
            "grid_auto_flow": null,
            "grid_auto_rows": null,
            "grid_column": null,
            "grid_gap": null,
            "grid_row": null,
            "grid_template_areas": null,
            "grid_template_columns": null,
            "grid_template_rows": null,
            "height": null,
            "justify_content": null,
            "justify_items": null,
            "left": null,
            "margin": null,
            "max_height": null,
            "max_width": null,
            "min_height": null,
            "min_width": null,
            "object_fit": null,
            "object_position": null,
            "order": null,
            "overflow": null,
            "overflow_x": null,
            "overflow_y": null,
            "padding": null,
            "right": null,
            "top": null,
            "visibility": null,
            "width": null
          }
        },
        "8e45caf62acf4a7cb5b6ea099435860e": {
          "model_module": "@jupyter-widgets/controls",
          "model_name": "ProgressStyleModel",
          "model_module_version": "1.5.0",
          "state": {
            "_model_module": "@jupyter-widgets/controls",
            "_model_module_version": "1.5.0",
            "_model_name": "ProgressStyleModel",
            "_view_count": null,
            "_view_module": "@jupyter-widgets/base",
            "_view_module_version": "1.2.0",
            "_view_name": "StyleView",
            "bar_color": null,
            "description_width": ""
          }
        },
        "85d7c2d5a7754329b366ce8cc7638560": {
          "model_module": "@jupyter-widgets/base",
          "model_name": "LayoutModel",
          "model_module_version": "1.2.0",
          "state": {
            "_model_module": "@jupyter-widgets/base",
            "_model_module_version": "1.2.0",
            "_model_name": "LayoutModel",
            "_view_count": null,
            "_view_module": "@jupyter-widgets/base",
            "_view_module_version": "1.2.0",
            "_view_name": "LayoutView",
            "align_content": null,
            "align_items": null,
            "align_self": null,
            "border": null,
            "bottom": null,
            "display": null,
            "flex": null,
            "flex_flow": null,
            "grid_area": null,
            "grid_auto_columns": null,
            "grid_auto_flow": null,
            "grid_auto_rows": null,
            "grid_column": null,
            "grid_gap": null,
            "grid_row": null,
            "grid_template_areas": null,
            "grid_template_columns": null,
            "grid_template_rows": null,
            "height": null,
            "justify_content": null,
            "justify_items": null,
            "left": null,
            "margin": null,
            "max_height": null,
            "max_width": null,
            "min_height": null,
            "min_width": null,
            "object_fit": null,
            "object_position": null,
            "order": null,
            "overflow": null,
            "overflow_x": null,
            "overflow_y": null,
            "padding": null,
            "right": null,
            "top": null,
            "visibility": null,
            "width": null
          }
        },
        "e27a27d1ea55431db6441e989af5e142": {
          "model_module": "@jupyter-widgets/controls",
          "model_name": "DescriptionStyleModel",
          "model_module_version": "1.5.0",
          "state": {
            "_model_module": "@jupyter-widgets/controls",
            "_model_module_version": "1.5.0",
            "_model_name": "DescriptionStyleModel",
            "_view_count": null,
            "_view_module": "@jupyter-widgets/base",
            "_view_module_version": "1.2.0",
            "_view_name": "StyleView",
            "description_width": ""
          }
        },
        "30c344cc8faf4a23a92105e20bbf7519": {
          "model_module": "@jupyter-widgets/controls",
          "model_name": "HBoxModel",
          "model_module_version": "1.5.0",
          "state": {
            "_dom_classes": [],
            "_model_module": "@jupyter-widgets/controls",
            "_model_module_version": "1.5.0",
            "_model_name": "HBoxModel",
            "_view_count": null,
            "_view_module": "@jupyter-widgets/controls",
            "_view_module_version": "1.5.0",
            "_view_name": "HBoxView",
            "box_style": "",
            "children": [
              "IPY_MODEL_85995338b791404785723a10000d4569",
              "IPY_MODEL_54ad7830680b4afcbed176be5fc3f07d",
              "IPY_MODEL_ccb08f326076438e80cd2ed67d79bcf1"
            ],
            "layout": "IPY_MODEL_2aafcdd214d14537bbb8fc1672cda3ce"
          }
        },
        "85995338b791404785723a10000d4569": {
          "model_module": "@jupyter-widgets/controls",
          "model_name": "HTMLModel",
          "model_module_version": "1.5.0",
          "state": {
            "_dom_classes": [],
            "_model_module": "@jupyter-widgets/controls",
            "_model_module_version": "1.5.0",
            "_model_name": "HTMLModel",
            "_view_count": null,
            "_view_module": "@jupyter-widgets/controls",
            "_view_module_version": "1.5.0",
            "_view_name": "HTMLView",
            "description": "",
            "description_tooltip": null,
            "layout": "IPY_MODEL_b949a0fd41d84823a3c5bde6afa4909a",
            "placeholder": "​",
            "style": "IPY_MODEL_f45d6ade5a9e4206b827baf4a6276792",
            "value": "Epoch 10 / 20: 100%"
          }
        },
        "54ad7830680b4afcbed176be5fc3f07d": {
          "model_module": "@jupyter-widgets/controls",
          "model_name": "FloatProgressModel",
          "model_module_version": "1.5.0",
          "state": {
            "_dom_classes": [],
            "_model_module": "@jupyter-widgets/controls",
            "_model_module_version": "1.5.0",
            "_model_name": "FloatProgressModel",
            "_view_count": null,
            "_view_module": "@jupyter-widgets/controls",
            "_view_module_version": "1.5.0",
            "_view_name": "ProgressView",
            "bar_style": "success",
            "description": "",
            "description_tooltip": null,
            "layout": "IPY_MODEL_0579b94b1b75437ea86e06a1f324f5bf",
            "max": 12,
            "min": 0,
            "orientation": "horizontal",
            "style": "IPY_MODEL_e8c5ce00bb9b422c8737bfc4c812d727",
            "value": 12
          }
        },
        "ccb08f326076438e80cd2ed67d79bcf1": {
          "model_module": "@jupyter-widgets/controls",
          "model_name": "HTMLModel",
          "model_module_version": "1.5.0",
          "state": {
            "_dom_classes": [],
            "_model_module": "@jupyter-widgets/controls",
            "_model_module_version": "1.5.0",
            "_model_name": "HTMLModel",
            "_view_count": null,
            "_view_module": "@jupyter-widgets/controls",
            "_view_module_version": "1.5.0",
            "_view_name": "HTMLView",
            "description": "",
            "description_tooltip": null,
            "layout": "IPY_MODEL_173d3631fde648a0ae3f65254567853c",
            "placeholder": "​",
            "style": "IPY_MODEL_c48ed3e39dd348ddadaa0709d0afa11f",
            "value": " 12/12 [00:00&lt;00:00, 67.81it/s]"
          }
        },
        "2aafcdd214d14537bbb8fc1672cda3ce": {
          "model_module": "@jupyter-widgets/base",
          "model_name": "LayoutModel",
          "model_module_version": "1.2.0",
          "state": {
            "_model_module": "@jupyter-widgets/base",
            "_model_module_version": "1.2.0",
            "_model_name": "LayoutModel",
            "_view_count": null,
            "_view_module": "@jupyter-widgets/base",
            "_view_module_version": "1.2.0",
            "_view_name": "LayoutView",
            "align_content": null,
            "align_items": null,
            "align_self": null,
            "border": null,
            "bottom": null,
            "display": null,
            "flex": null,
            "flex_flow": null,
            "grid_area": null,
            "grid_auto_columns": null,
            "grid_auto_flow": null,
            "grid_auto_rows": null,
            "grid_column": null,
            "grid_gap": null,
            "grid_row": null,
            "grid_template_areas": null,
            "grid_template_columns": null,
            "grid_template_rows": null,
            "height": null,
            "justify_content": null,
            "justify_items": null,
            "left": null,
            "margin": null,
            "max_height": null,
            "max_width": null,
            "min_height": null,
            "min_width": null,
            "object_fit": null,
            "object_position": null,
            "order": null,
            "overflow": null,
            "overflow_x": null,
            "overflow_y": null,
            "padding": null,
            "right": null,
            "top": null,
            "visibility": null,
            "width": null
          }
        },
        "b949a0fd41d84823a3c5bde6afa4909a": {
          "model_module": "@jupyter-widgets/base",
          "model_name": "LayoutModel",
          "model_module_version": "1.2.0",
          "state": {
            "_model_module": "@jupyter-widgets/base",
            "_model_module_version": "1.2.0",
            "_model_name": "LayoutModel",
            "_view_count": null,
            "_view_module": "@jupyter-widgets/base",
            "_view_module_version": "1.2.0",
            "_view_name": "LayoutView",
            "align_content": null,
            "align_items": null,
            "align_self": null,
            "border": null,
            "bottom": null,
            "display": null,
            "flex": null,
            "flex_flow": null,
            "grid_area": null,
            "grid_auto_columns": null,
            "grid_auto_flow": null,
            "grid_auto_rows": null,
            "grid_column": null,
            "grid_gap": null,
            "grid_row": null,
            "grid_template_areas": null,
            "grid_template_columns": null,
            "grid_template_rows": null,
            "height": null,
            "justify_content": null,
            "justify_items": null,
            "left": null,
            "margin": null,
            "max_height": null,
            "max_width": null,
            "min_height": null,
            "min_width": null,
            "object_fit": null,
            "object_position": null,
            "order": null,
            "overflow": null,
            "overflow_x": null,
            "overflow_y": null,
            "padding": null,
            "right": null,
            "top": null,
            "visibility": null,
            "width": null
          }
        },
        "f45d6ade5a9e4206b827baf4a6276792": {
          "model_module": "@jupyter-widgets/controls",
          "model_name": "DescriptionStyleModel",
          "model_module_version": "1.5.0",
          "state": {
            "_model_module": "@jupyter-widgets/controls",
            "_model_module_version": "1.5.0",
            "_model_name": "DescriptionStyleModel",
            "_view_count": null,
            "_view_module": "@jupyter-widgets/base",
            "_view_module_version": "1.2.0",
            "_view_name": "StyleView",
            "description_width": ""
          }
        },
        "0579b94b1b75437ea86e06a1f324f5bf": {
          "model_module": "@jupyter-widgets/base",
          "model_name": "LayoutModel",
          "model_module_version": "1.2.0",
          "state": {
            "_model_module": "@jupyter-widgets/base",
            "_model_module_version": "1.2.0",
            "_model_name": "LayoutModel",
            "_view_count": null,
            "_view_module": "@jupyter-widgets/base",
            "_view_module_version": "1.2.0",
            "_view_name": "LayoutView",
            "align_content": null,
            "align_items": null,
            "align_self": null,
            "border": null,
            "bottom": null,
            "display": null,
            "flex": null,
            "flex_flow": null,
            "grid_area": null,
            "grid_auto_columns": null,
            "grid_auto_flow": null,
            "grid_auto_rows": null,
            "grid_column": null,
            "grid_gap": null,
            "grid_row": null,
            "grid_template_areas": null,
            "grid_template_columns": null,
            "grid_template_rows": null,
            "height": null,
            "justify_content": null,
            "justify_items": null,
            "left": null,
            "margin": null,
            "max_height": null,
            "max_width": null,
            "min_height": null,
            "min_width": null,
            "object_fit": null,
            "object_position": null,
            "order": null,
            "overflow": null,
            "overflow_x": null,
            "overflow_y": null,
            "padding": null,
            "right": null,
            "top": null,
            "visibility": null,
            "width": null
          }
        },
        "e8c5ce00bb9b422c8737bfc4c812d727": {
          "model_module": "@jupyter-widgets/controls",
          "model_name": "ProgressStyleModel",
          "model_module_version": "1.5.0",
          "state": {
            "_model_module": "@jupyter-widgets/controls",
            "_model_module_version": "1.5.0",
            "_model_name": "ProgressStyleModel",
            "_view_count": null,
            "_view_module": "@jupyter-widgets/base",
            "_view_module_version": "1.2.0",
            "_view_name": "StyleView",
            "bar_color": null,
            "description_width": ""
          }
        },
        "173d3631fde648a0ae3f65254567853c": {
          "model_module": "@jupyter-widgets/base",
          "model_name": "LayoutModel",
          "model_module_version": "1.2.0",
          "state": {
            "_model_module": "@jupyter-widgets/base",
            "_model_module_version": "1.2.0",
            "_model_name": "LayoutModel",
            "_view_count": null,
            "_view_module": "@jupyter-widgets/base",
            "_view_module_version": "1.2.0",
            "_view_name": "LayoutView",
            "align_content": null,
            "align_items": null,
            "align_self": null,
            "border": null,
            "bottom": null,
            "display": null,
            "flex": null,
            "flex_flow": null,
            "grid_area": null,
            "grid_auto_columns": null,
            "grid_auto_flow": null,
            "grid_auto_rows": null,
            "grid_column": null,
            "grid_gap": null,
            "grid_row": null,
            "grid_template_areas": null,
            "grid_template_columns": null,
            "grid_template_rows": null,
            "height": null,
            "justify_content": null,
            "justify_items": null,
            "left": null,
            "margin": null,
            "max_height": null,
            "max_width": null,
            "min_height": null,
            "min_width": null,
            "object_fit": null,
            "object_position": null,
            "order": null,
            "overflow": null,
            "overflow_x": null,
            "overflow_y": null,
            "padding": null,
            "right": null,
            "top": null,
            "visibility": null,
            "width": null
          }
        },
        "c48ed3e39dd348ddadaa0709d0afa11f": {
          "model_module": "@jupyter-widgets/controls",
          "model_name": "DescriptionStyleModel",
          "model_module_version": "1.5.0",
          "state": {
            "_model_module": "@jupyter-widgets/controls",
            "_model_module_version": "1.5.0",
            "_model_name": "DescriptionStyleModel",
            "_view_count": null,
            "_view_module": "@jupyter-widgets/base",
            "_view_module_version": "1.2.0",
            "_view_name": "StyleView",
            "description_width": ""
          }
        },
        "a303b65b49ee4bf4bb0cc4ca108059fe": {
          "model_module": "@jupyter-widgets/controls",
          "model_name": "HBoxModel",
          "model_module_version": "1.5.0",
          "state": {
            "_dom_classes": [],
            "_model_module": "@jupyter-widgets/controls",
            "_model_module_version": "1.5.0",
            "_model_name": "HBoxModel",
            "_view_count": null,
            "_view_module": "@jupyter-widgets/controls",
            "_view_module_version": "1.5.0",
            "_view_name": "HBoxView",
            "box_style": "",
            "children": [
              "IPY_MODEL_fa7f454c060c46ecae3b06e7ab48158f",
              "IPY_MODEL_655d4f83d18a417ebadfc2b31fd11b44",
              "IPY_MODEL_21d9273b724b4542ad65f0a9613469f0"
            ],
            "layout": "IPY_MODEL_8d205e54618744158738eee06b16e15c"
          }
        },
        "fa7f454c060c46ecae3b06e7ab48158f": {
          "model_module": "@jupyter-widgets/controls",
          "model_name": "HTMLModel",
          "model_module_version": "1.5.0",
          "state": {
            "_dom_classes": [],
            "_model_module": "@jupyter-widgets/controls",
            "_model_module_version": "1.5.0",
            "_model_name": "HTMLModel",
            "_view_count": null,
            "_view_module": "@jupyter-widgets/controls",
            "_view_module_version": "1.5.0",
            "_view_name": "HTMLView",
            "description": "",
            "description_tooltip": null,
            "layout": "IPY_MODEL_ece415b2ef7244fea518c5b062b6eb09",
            "placeholder": "​",
            "style": "IPY_MODEL_e17d995a41ab46cfbbe9ae9419429961",
            "value": "Epoch 11 / 20: 100%"
          }
        },
        "655d4f83d18a417ebadfc2b31fd11b44": {
          "model_module": "@jupyter-widgets/controls",
          "model_name": "FloatProgressModel",
          "model_module_version": "1.5.0",
          "state": {
            "_dom_classes": [],
            "_model_module": "@jupyter-widgets/controls",
            "_model_module_version": "1.5.0",
            "_model_name": "FloatProgressModel",
            "_view_count": null,
            "_view_module": "@jupyter-widgets/controls",
            "_view_module_version": "1.5.0",
            "_view_name": "ProgressView",
            "bar_style": "success",
            "description": "",
            "description_tooltip": null,
            "layout": "IPY_MODEL_f5c5de52c2044384bba8bf402f35248d",
            "max": 12,
            "min": 0,
            "orientation": "horizontal",
            "style": "IPY_MODEL_0a249b9734ae40aab119b2b36ad8a791",
            "value": 12
          }
        },
        "21d9273b724b4542ad65f0a9613469f0": {
          "model_module": "@jupyter-widgets/controls",
          "model_name": "HTMLModel",
          "model_module_version": "1.5.0",
          "state": {
            "_dom_classes": [],
            "_model_module": "@jupyter-widgets/controls",
            "_model_module_version": "1.5.0",
            "_model_name": "HTMLModel",
            "_view_count": null,
            "_view_module": "@jupyter-widgets/controls",
            "_view_module_version": "1.5.0",
            "_view_name": "HTMLView",
            "description": "",
            "description_tooltip": null,
            "layout": "IPY_MODEL_23db0a3ffa924ed4b089ac68fbe828bc",
            "placeholder": "​",
            "style": "IPY_MODEL_1f971b5518ae4ed89e6d1630d0dede5f",
            "value": " 12/12 [00:00&lt;00:00, 65.36it/s]"
          }
        },
        "8d205e54618744158738eee06b16e15c": {
          "model_module": "@jupyter-widgets/base",
          "model_name": "LayoutModel",
          "model_module_version": "1.2.0",
          "state": {
            "_model_module": "@jupyter-widgets/base",
            "_model_module_version": "1.2.0",
            "_model_name": "LayoutModel",
            "_view_count": null,
            "_view_module": "@jupyter-widgets/base",
            "_view_module_version": "1.2.0",
            "_view_name": "LayoutView",
            "align_content": null,
            "align_items": null,
            "align_self": null,
            "border": null,
            "bottom": null,
            "display": null,
            "flex": null,
            "flex_flow": null,
            "grid_area": null,
            "grid_auto_columns": null,
            "grid_auto_flow": null,
            "grid_auto_rows": null,
            "grid_column": null,
            "grid_gap": null,
            "grid_row": null,
            "grid_template_areas": null,
            "grid_template_columns": null,
            "grid_template_rows": null,
            "height": null,
            "justify_content": null,
            "justify_items": null,
            "left": null,
            "margin": null,
            "max_height": null,
            "max_width": null,
            "min_height": null,
            "min_width": null,
            "object_fit": null,
            "object_position": null,
            "order": null,
            "overflow": null,
            "overflow_x": null,
            "overflow_y": null,
            "padding": null,
            "right": null,
            "top": null,
            "visibility": null,
            "width": null
          }
        },
        "ece415b2ef7244fea518c5b062b6eb09": {
          "model_module": "@jupyter-widgets/base",
          "model_name": "LayoutModel",
          "model_module_version": "1.2.0",
          "state": {
            "_model_module": "@jupyter-widgets/base",
            "_model_module_version": "1.2.0",
            "_model_name": "LayoutModel",
            "_view_count": null,
            "_view_module": "@jupyter-widgets/base",
            "_view_module_version": "1.2.0",
            "_view_name": "LayoutView",
            "align_content": null,
            "align_items": null,
            "align_self": null,
            "border": null,
            "bottom": null,
            "display": null,
            "flex": null,
            "flex_flow": null,
            "grid_area": null,
            "grid_auto_columns": null,
            "grid_auto_flow": null,
            "grid_auto_rows": null,
            "grid_column": null,
            "grid_gap": null,
            "grid_row": null,
            "grid_template_areas": null,
            "grid_template_columns": null,
            "grid_template_rows": null,
            "height": null,
            "justify_content": null,
            "justify_items": null,
            "left": null,
            "margin": null,
            "max_height": null,
            "max_width": null,
            "min_height": null,
            "min_width": null,
            "object_fit": null,
            "object_position": null,
            "order": null,
            "overflow": null,
            "overflow_x": null,
            "overflow_y": null,
            "padding": null,
            "right": null,
            "top": null,
            "visibility": null,
            "width": null
          }
        },
        "e17d995a41ab46cfbbe9ae9419429961": {
          "model_module": "@jupyter-widgets/controls",
          "model_name": "DescriptionStyleModel",
          "model_module_version": "1.5.0",
          "state": {
            "_model_module": "@jupyter-widgets/controls",
            "_model_module_version": "1.5.0",
            "_model_name": "DescriptionStyleModel",
            "_view_count": null,
            "_view_module": "@jupyter-widgets/base",
            "_view_module_version": "1.2.0",
            "_view_name": "StyleView",
            "description_width": ""
          }
        },
        "f5c5de52c2044384bba8bf402f35248d": {
          "model_module": "@jupyter-widgets/base",
          "model_name": "LayoutModel",
          "model_module_version": "1.2.0",
          "state": {
            "_model_module": "@jupyter-widgets/base",
            "_model_module_version": "1.2.0",
            "_model_name": "LayoutModel",
            "_view_count": null,
            "_view_module": "@jupyter-widgets/base",
            "_view_module_version": "1.2.0",
            "_view_name": "LayoutView",
            "align_content": null,
            "align_items": null,
            "align_self": null,
            "border": null,
            "bottom": null,
            "display": null,
            "flex": null,
            "flex_flow": null,
            "grid_area": null,
            "grid_auto_columns": null,
            "grid_auto_flow": null,
            "grid_auto_rows": null,
            "grid_column": null,
            "grid_gap": null,
            "grid_row": null,
            "grid_template_areas": null,
            "grid_template_columns": null,
            "grid_template_rows": null,
            "height": null,
            "justify_content": null,
            "justify_items": null,
            "left": null,
            "margin": null,
            "max_height": null,
            "max_width": null,
            "min_height": null,
            "min_width": null,
            "object_fit": null,
            "object_position": null,
            "order": null,
            "overflow": null,
            "overflow_x": null,
            "overflow_y": null,
            "padding": null,
            "right": null,
            "top": null,
            "visibility": null,
            "width": null
          }
        },
        "0a249b9734ae40aab119b2b36ad8a791": {
          "model_module": "@jupyter-widgets/controls",
          "model_name": "ProgressStyleModel",
          "model_module_version": "1.5.0",
          "state": {
            "_model_module": "@jupyter-widgets/controls",
            "_model_module_version": "1.5.0",
            "_model_name": "ProgressStyleModel",
            "_view_count": null,
            "_view_module": "@jupyter-widgets/base",
            "_view_module_version": "1.2.0",
            "_view_name": "StyleView",
            "bar_color": null,
            "description_width": ""
          }
        },
        "23db0a3ffa924ed4b089ac68fbe828bc": {
          "model_module": "@jupyter-widgets/base",
          "model_name": "LayoutModel",
          "model_module_version": "1.2.0",
          "state": {
            "_model_module": "@jupyter-widgets/base",
            "_model_module_version": "1.2.0",
            "_model_name": "LayoutModel",
            "_view_count": null,
            "_view_module": "@jupyter-widgets/base",
            "_view_module_version": "1.2.0",
            "_view_name": "LayoutView",
            "align_content": null,
            "align_items": null,
            "align_self": null,
            "border": null,
            "bottom": null,
            "display": null,
            "flex": null,
            "flex_flow": null,
            "grid_area": null,
            "grid_auto_columns": null,
            "grid_auto_flow": null,
            "grid_auto_rows": null,
            "grid_column": null,
            "grid_gap": null,
            "grid_row": null,
            "grid_template_areas": null,
            "grid_template_columns": null,
            "grid_template_rows": null,
            "height": null,
            "justify_content": null,
            "justify_items": null,
            "left": null,
            "margin": null,
            "max_height": null,
            "max_width": null,
            "min_height": null,
            "min_width": null,
            "object_fit": null,
            "object_position": null,
            "order": null,
            "overflow": null,
            "overflow_x": null,
            "overflow_y": null,
            "padding": null,
            "right": null,
            "top": null,
            "visibility": null,
            "width": null
          }
        },
        "1f971b5518ae4ed89e6d1630d0dede5f": {
          "model_module": "@jupyter-widgets/controls",
          "model_name": "DescriptionStyleModel",
          "model_module_version": "1.5.0",
          "state": {
            "_model_module": "@jupyter-widgets/controls",
            "_model_module_version": "1.5.0",
            "_model_name": "DescriptionStyleModel",
            "_view_count": null,
            "_view_module": "@jupyter-widgets/base",
            "_view_module_version": "1.2.0",
            "_view_name": "StyleView",
            "description_width": ""
          }
        },
        "7c206dcd40ec454e93f6a2e209e61917": {
          "model_module": "@jupyter-widgets/controls",
          "model_name": "HBoxModel",
          "model_module_version": "1.5.0",
          "state": {
            "_dom_classes": [],
            "_model_module": "@jupyter-widgets/controls",
            "_model_module_version": "1.5.0",
            "_model_name": "HBoxModel",
            "_view_count": null,
            "_view_module": "@jupyter-widgets/controls",
            "_view_module_version": "1.5.0",
            "_view_name": "HBoxView",
            "box_style": "",
            "children": [
              "IPY_MODEL_404d5746624b46ee8ddd89ba0bc20c7d",
              "IPY_MODEL_1d7194b1bfa24a83b78cb925d2c3a2f9",
              "IPY_MODEL_601003f041ce4a389ad0f2aee48af80d"
            ],
            "layout": "IPY_MODEL_cc9dd07561b84ae9ae139bc79b6cc247"
          }
        },
        "404d5746624b46ee8ddd89ba0bc20c7d": {
          "model_module": "@jupyter-widgets/controls",
          "model_name": "HTMLModel",
          "model_module_version": "1.5.0",
          "state": {
            "_dom_classes": [],
            "_model_module": "@jupyter-widgets/controls",
            "_model_module_version": "1.5.0",
            "_model_name": "HTMLModel",
            "_view_count": null,
            "_view_module": "@jupyter-widgets/controls",
            "_view_module_version": "1.5.0",
            "_view_name": "HTMLView",
            "description": "",
            "description_tooltip": null,
            "layout": "IPY_MODEL_89d934b1046044a394bc0c26d20e605f",
            "placeholder": "​",
            "style": "IPY_MODEL_4703c44717f04163be1fe7a75bf7f709",
            "value": "Epoch 12 / 20: 100%"
          }
        },
        "1d7194b1bfa24a83b78cb925d2c3a2f9": {
          "model_module": "@jupyter-widgets/controls",
          "model_name": "FloatProgressModel",
          "model_module_version": "1.5.0",
          "state": {
            "_dom_classes": [],
            "_model_module": "@jupyter-widgets/controls",
            "_model_module_version": "1.5.0",
            "_model_name": "FloatProgressModel",
            "_view_count": null,
            "_view_module": "@jupyter-widgets/controls",
            "_view_module_version": "1.5.0",
            "_view_name": "ProgressView",
            "bar_style": "success",
            "description": "",
            "description_tooltip": null,
            "layout": "IPY_MODEL_fbb272b47af14022b02a1d3e5bfa59fb",
            "max": 12,
            "min": 0,
            "orientation": "horizontal",
            "style": "IPY_MODEL_23e6ebc5b9dc40719885dfdec5487ab5",
            "value": 12
          }
        },
        "601003f041ce4a389ad0f2aee48af80d": {
          "model_module": "@jupyter-widgets/controls",
          "model_name": "HTMLModel",
          "model_module_version": "1.5.0",
          "state": {
            "_dom_classes": [],
            "_model_module": "@jupyter-widgets/controls",
            "_model_module_version": "1.5.0",
            "_model_name": "HTMLModel",
            "_view_count": null,
            "_view_module": "@jupyter-widgets/controls",
            "_view_module_version": "1.5.0",
            "_view_name": "HTMLView",
            "description": "",
            "description_tooltip": null,
            "layout": "IPY_MODEL_8de8af86b95548bfa6852d22502ec126",
            "placeholder": "​",
            "style": "IPY_MODEL_b3e83d8a83e5455cb922a1da041e08f4",
            "value": " 12/12 [00:00&lt;00:00, 66.82it/s]"
          }
        },
        "cc9dd07561b84ae9ae139bc79b6cc247": {
          "model_module": "@jupyter-widgets/base",
          "model_name": "LayoutModel",
          "model_module_version": "1.2.0",
          "state": {
            "_model_module": "@jupyter-widgets/base",
            "_model_module_version": "1.2.0",
            "_model_name": "LayoutModel",
            "_view_count": null,
            "_view_module": "@jupyter-widgets/base",
            "_view_module_version": "1.2.0",
            "_view_name": "LayoutView",
            "align_content": null,
            "align_items": null,
            "align_self": null,
            "border": null,
            "bottom": null,
            "display": null,
            "flex": null,
            "flex_flow": null,
            "grid_area": null,
            "grid_auto_columns": null,
            "grid_auto_flow": null,
            "grid_auto_rows": null,
            "grid_column": null,
            "grid_gap": null,
            "grid_row": null,
            "grid_template_areas": null,
            "grid_template_columns": null,
            "grid_template_rows": null,
            "height": null,
            "justify_content": null,
            "justify_items": null,
            "left": null,
            "margin": null,
            "max_height": null,
            "max_width": null,
            "min_height": null,
            "min_width": null,
            "object_fit": null,
            "object_position": null,
            "order": null,
            "overflow": null,
            "overflow_x": null,
            "overflow_y": null,
            "padding": null,
            "right": null,
            "top": null,
            "visibility": null,
            "width": null
          }
        },
        "89d934b1046044a394bc0c26d20e605f": {
          "model_module": "@jupyter-widgets/base",
          "model_name": "LayoutModel",
          "model_module_version": "1.2.0",
          "state": {
            "_model_module": "@jupyter-widgets/base",
            "_model_module_version": "1.2.0",
            "_model_name": "LayoutModel",
            "_view_count": null,
            "_view_module": "@jupyter-widgets/base",
            "_view_module_version": "1.2.0",
            "_view_name": "LayoutView",
            "align_content": null,
            "align_items": null,
            "align_self": null,
            "border": null,
            "bottom": null,
            "display": null,
            "flex": null,
            "flex_flow": null,
            "grid_area": null,
            "grid_auto_columns": null,
            "grid_auto_flow": null,
            "grid_auto_rows": null,
            "grid_column": null,
            "grid_gap": null,
            "grid_row": null,
            "grid_template_areas": null,
            "grid_template_columns": null,
            "grid_template_rows": null,
            "height": null,
            "justify_content": null,
            "justify_items": null,
            "left": null,
            "margin": null,
            "max_height": null,
            "max_width": null,
            "min_height": null,
            "min_width": null,
            "object_fit": null,
            "object_position": null,
            "order": null,
            "overflow": null,
            "overflow_x": null,
            "overflow_y": null,
            "padding": null,
            "right": null,
            "top": null,
            "visibility": null,
            "width": null
          }
        },
        "4703c44717f04163be1fe7a75bf7f709": {
          "model_module": "@jupyter-widgets/controls",
          "model_name": "DescriptionStyleModel",
          "model_module_version": "1.5.0",
          "state": {
            "_model_module": "@jupyter-widgets/controls",
            "_model_module_version": "1.5.0",
            "_model_name": "DescriptionStyleModel",
            "_view_count": null,
            "_view_module": "@jupyter-widgets/base",
            "_view_module_version": "1.2.0",
            "_view_name": "StyleView",
            "description_width": ""
          }
        },
        "fbb272b47af14022b02a1d3e5bfa59fb": {
          "model_module": "@jupyter-widgets/base",
          "model_name": "LayoutModel",
          "model_module_version": "1.2.0",
          "state": {
            "_model_module": "@jupyter-widgets/base",
            "_model_module_version": "1.2.0",
            "_model_name": "LayoutModel",
            "_view_count": null,
            "_view_module": "@jupyter-widgets/base",
            "_view_module_version": "1.2.0",
            "_view_name": "LayoutView",
            "align_content": null,
            "align_items": null,
            "align_self": null,
            "border": null,
            "bottom": null,
            "display": null,
            "flex": null,
            "flex_flow": null,
            "grid_area": null,
            "grid_auto_columns": null,
            "grid_auto_flow": null,
            "grid_auto_rows": null,
            "grid_column": null,
            "grid_gap": null,
            "grid_row": null,
            "grid_template_areas": null,
            "grid_template_columns": null,
            "grid_template_rows": null,
            "height": null,
            "justify_content": null,
            "justify_items": null,
            "left": null,
            "margin": null,
            "max_height": null,
            "max_width": null,
            "min_height": null,
            "min_width": null,
            "object_fit": null,
            "object_position": null,
            "order": null,
            "overflow": null,
            "overflow_x": null,
            "overflow_y": null,
            "padding": null,
            "right": null,
            "top": null,
            "visibility": null,
            "width": null
          }
        },
        "23e6ebc5b9dc40719885dfdec5487ab5": {
          "model_module": "@jupyter-widgets/controls",
          "model_name": "ProgressStyleModel",
          "model_module_version": "1.5.0",
          "state": {
            "_model_module": "@jupyter-widgets/controls",
            "_model_module_version": "1.5.0",
            "_model_name": "ProgressStyleModel",
            "_view_count": null,
            "_view_module": "@jupyter-widgets/base",
            "_view_module_version": "1.2.0",
            "_view_name": "StyleView",
            "bar_color": null,
            "description_width": ""
          }
        },
        "8de8af86b95548bfa6852d22502ec126": {
          "model_module": "@jupyter-widgets/base",
          "model_name": "LayoutModel",
          "model_module_version": "1.2.0",
          "state": {
            "_model_module": "@jupyter-widgets/base",
            "_model_module_version": "1.2.0",
            "_model_name": "LayoutModel",
            "_view_count": null,
            "_view_module": "@jupyter-widgets/base",
            "_view_module_version": "1.2.0",
            "_view_name": "LayoutView",
            "align_content": null,
            "align_items": null,
            "align_self": null,
            "border": null,
            "bottom": null,
            "display": null,
            "flex": null,
            "flex_flow": null,
            "grid_area": null,
            "grid_auto_columns": null,
            "grid_auto_flow": null,
            "grid_auto_rows": null,
            "grid_column": null,
            "grid_gap": null,
            "grid_row": null,
            "grid_template_areas": null,
            "grid_template_columns": null,
            "grid_template_rows": null,
            "height": null,
            "justify_content": null,
            "justify_items": null,
            "left": null,
            "margin": null,
            "max_height": null,
            "max_width": null,
            "min_height": null,
            "min_width": null,
            "object_fit": null,
            "object_position": null,
            "order": null,
            "overflow": null,
            "overflow_x": null,
            "overflow_y": null,
            "padding": null,
            "right": null,
            "top": null,
            "visibility": null,
            "width": null
          }
        },
        "b3e83d8a83e5455cb922a1da041e08f4": {
          "model_module": "@jupyter-widgets/controls",
          "model_name": "DescriptionStyleModel",
          "model_module_version": "1.5.0",
          "state": {
            "_model_module": "@jupyter-widgets/controls",
            "_model_module_version": "1.5.0",
            "_model_name": "DescriptionStyleModel",
            "_view_count": null,
            "_view_module": "@jupyter-widgets/base",
            "_view_module_version": "1.2.0",
            "_view_name": "StyleView",
            "description_width": ""
          }
        },
        "dbf1df4034f4400f9a2a882d07c8051f": {
          "model_module": "@jupyter-widgets/controls",
          "model_name": "HBoxModel",
          "model_module_version": "1.5.0",
          "state": {
            "_dom_classes": [],
            "_model_module": "@jupyter-widgets/controls",
            "_model_module_version": "1.5.0",
            "_model_name": "HBoxModel",
            "_view_count": null,
            "_view_module": "@jupyter-widgets/controls",
            "_view_module_version": "1.5.0",
            "_view_name": "HBoxView",
            "box_style": "",
            "children": [
              "IPY_MODEL_9db4236efec8483eac49fa149a12c415",
              "IPY_MODEL_d98254b8cf164bc99d33bc77d5fe06a8",
              "IPY_MODEL_7cd4b7559c3e43ceb308749ae10324af"
            ],
            "layout": "IPY_MODEL_c1b6bee74455438691bce7e7f457e74f"
          }
        },
        "9db4236efec8483eac49fa149a12c415": {
          "model_module": "@jupyter-widgets/controls",
          "model_name": "HTMLModel",
          "model_module_version": "1.5.0",
          "state": {
            "_dom_classes": [],
            "_model_module": "@jupyter-widgets/controls",
            "_model_module_version": "1.5.0",
            "_model_name": "HTMLModel",
            "_view_count": null,
            "_view_module": "@jupyter-widgets/controls",
            "_view_module_version": "1.5.0",
            "_view_name": "HTMLView",
            "description": "",
            "description_tooltip": null,
            "layout": "IPY_MODEL_b4b6cc2a2e9245dfb10887eb6d225597",
            "placeholder": "​",
            "style": "IPY_MODEL_dc9f752f348a46b9befeb3d8c1b2ba4d",
            "value": "Epoch 13 / 20: 100%"
          }
        },
        "d98254b8cf164bc99d33bc77d5fe06a8": {
          "model_module": "@jupyter-widgets/controls",
          "model_name": "FloatProgressModel",
          "model_module_version": "1.5.0",
          "state": {
            "_dom_classes": [],
            "_model_module": "@jupyter-widgets/controls",
            "_model_module_version": "1.5.0",
            "_model_name": "FloatProgressModel",
            "_view_count": null,
            "_view_module": "@jupyter-widgets/controls",
            "_view_module_version": "1.5.0",
            "_view_name": "ProgressView",
            "bar_style": "success",
            "description": "",
            "description_tooltip": null,
            "layout": "IPY_MODEL_ddfd6a568af44d329452584722a13029",
            "max": 12,
            "min": 0,
            "orientation": "horizontal",
            "style": "IPY_MODEL_b1722ab2fd5948169a01a4ff0cbf44f8",
            "value": 12
          }
        },
        "7cd4b7559c3e43ceb308749ae10324af": {
          "model_module": "@jupyter-widgets/controls",
          "model_name": "HTMLModel",
          "model_module_version": "1.5.0",
          "state": {
            "_dom_classes": [],
            "_model_module": "@jupyter-widgets/controls",
            "_model_module_version": "1.5.0",
            "_model_name": "HTMLModel",
            "_view_count": null,
            "_view_module": "@jupyter-widgets/controls",
            "_view_module_version": "1.5.0",
            "_view_name": "HTMLView",
            "description": "",
            "description_tooltip": null,
            "layout": "IPY_MODEL_6fde09c0c2ea4829ba297ecdc6ecf221",
            "placeholder": "​",
            "style": "IPY_MODEL_2330296d4d884d1f86b033947f37272a",
            "value": " 12/12 [00:00&lt;00:00, 64.80it/s]"
          }
        },
        "c1b6bee74455438691bce7e7f457e74f": {
          "model_module": "@jupyter-widgets/base",
          "model_name": "LayoutModel",
          "model_module_version": "1.2.0",
          "state": {
            "_model_module": "@jupyter-widgets/base",
            "_model_module_version": "1.2.0",
            "_model_name": "LayoutModel",
            "_view_count": null,
            "_view_module": "@jupyter-widgets/base",
            "_view_module_version": "1.2.0",
            "_view_name": "LayoutView",
            "align_content": null,
            "align_items": null,
            "align_self": null,
            "border": null,
            "bottom": null,
            "display": null,
            "flex": null,
            "flex_flow": null,
            "grid_area": null,
            "grid_auto_columns": null,
            "grid_auto_flow": null,
            "grid_auto_rows": null,
            "grid_column": null,
            "grid_gap": null,
            "grid_row": null,
            "grid_template_areas": null,
            "grid_template_columns": null,
            "grid_template_rows": null,
            "height": null,
            "justify_content": null,
            "justify_items": null,
            "left": null,
            "margin": null,
            "max_height": null,
            "max_width": null,
            "min_height": null,
            "min_width": null,
            "object_fit": null,
            "object_position": null,
            "order": null,
            "overflow": null,
            "overflow_x": null,
            "overflow_y": null,
            "padding": null,
            "right": null,
            "top": null,
            "visibility": null,
            "width": null
          }
        },
        "b4b6cc2a2e9245dfb10887eb6d225597": {
          "model_module": "@jupyter-widgets/base",
          "model_name": "LayoutModel",
          "model_module_version": "1.2.0",
          "state": {
            "_model_module": "@jupyter-widgets/base",
            "_model_module_version": "1.2.0",
            "_model_name": "LayoutModel",
            "_view_count": null,
            "_view_module": "@jupyter-widgets/base",
            "_view_module_version": "1.2.0",
            "_view_name": "LayoutView",
            "align_content": null,
            "align_items": null,
            "align_self": null,
            "border": null,
            "bottom": null,
            "display": null,
            "flex": null,
            "flex_flow": null,
            "grid_area": null,
            "grid_auto_columns": null,
            "grid_auto_flow": null,
            "grid_auto_rows": null,
            "grid_column": null,
            "grid_gap": null,
            "grid_row": null,
            "grid_template_areas": null,
            "grid_template_columns": null,
            "grid_template_rows": null,
            "height": null,
            "justify_content": null,
            "justify_items": null,
            "left": null,
            "margin": null,
            "max_height": null,
            "max_width": null,
            "min_height": null,
            "min_width": null,
            "object_fit": null,
            "object_position": null,
            "order": null,
            "overflow": null,
            "overflow_x": null,
            "overflow_y": null,
            "padding": null,
            "right": null,
            "top": null,
            "visibility": null,
            "width": null
          }
        },
        "dc9f752f348a46b9befeb3d8c1b2ba4d": {
          "model_module": "@jupyter-widgets/controls",
          "model_name": "DescriptionStyleModel",
          "model_module_version": "1.5.0",
          "state": {
            "_model_module": "@jupyter-widgets/controls",
            "_model_module_version": "1.5.0",
            "_model_name": "DescriptionStyleModel",
            "_view_count": null,
            "_view_module": "@jupyter-widgets/base",
            "_view_module_version": "1.2.0",
            "_view_name": "StyleView",
            "description_width": ""
          }
        },
        "ddfd6a568af44d329452584722a13029": {
          "model_module": "@jupyter-widgets/base",
          "model_name": "LayoutModel",
          "model_module_version": "1.2.0",
          "state": {
            "_model_module": "@jupyter-widgets/base",
            "_model_module_version": "1.2.0",
            "_model_name": "LayoutModel",
            "_view_count": null,
            "_view_module": "@jupyter-widgets/base",
            "_view_module_version": "1.2.0",
            "_view_name": "LayoutView",
            "align_content": null,
            "align_items": null,
            "align_self": null,
            "border": null,
            "bottom": null,
            "display": null,
            "flex": null,
            "flex_flow": null,
            "grid_area": null,
            "grid_auto_columns": null,
            "grid_auto_flow": null,
            "grid_auto_rows": null,
            "grid_column": null,
            "grid_gap": null,
            "grid_row": null,
            "grid_template_areas": null,
            "grid_template_columns": null,
            "grid_template_rows": null,
            "height": null,
            "justify_content": null,
            "justify_items": null,
            "left": null,
            "margin": null,
            "max_height": null,
            "max_width": null,
            "min_height": null,
            "min_width": null,
            "object_fit": null,
            "object_position": null,
            "order": null,
            "overflow": null,
            "overflow_x": null,
            "overflow_y": null,
            "padding": null,
            "right": null,
            "top": null,
            "visibility": null,
            "width": null
          }
        },
        "b1722ab2fd5948169a01a4ff0cbf44f8": {
          "model_module": "@jupyter-widgets/controls",
          "model_name": "ProgressStyleModel",
          "model_module_version": "1.5.0",
          "state": {
            "_model_module": "@jupyter-widgets/controls",
            "_model_module_version": "1.5.0",
            "_model_name": "ProgressStyleModel",
            "_view_count": null,
            "_view_module": "@jupyter-widgets/base",
            "_view_module_version": "1.2.0",
            "_view_name": "StyleView",
            "bar_color": null,
            "description_width": ""
          }
        },
        "6fde09c0c2ea4829ba297ecdc6ecf221": {
          "model_module": "@jupyter-widgets/base",
          "model_name": "LayoutModel",
          "model_module_version": "1.2.0",
          "state": {
            "_model_module": "@jupyter-widgets/base",
            "_model_module_version": "1.2.0",
            "_model_name": "LayoutModel",
            "_view_count": null,
            "_view_module": "@jupyter-widgets/base",
            "_view_module_version": "1.2.0",
            "_view_name": "LayoutView",
            "align_content": null,
            "align_items": null,
            "align_self": null,
            "border": null,
            "bottom": null,
            "display": null,
            "flex": null,
            "flex_flow": null,
            "grid_area": null,
            "grid_auto_columns": null,
            "grid_auto_flow": null,
            "grid_auto_rows": null,
            "grid_column": null,
            "grid_gap": null,
            "grid_row": null,
            "grid_template_areas": null,
            "grid_template_columns": null,
            "grid_template_rows": null,
            "height": null,
            "justify_content": null,
            "justify_items": null,
            "left": null,
            "margin": null,
            "max_height": null,
            "max_width": null,
            "min_height": null,
            "min_width": null,
            "object_fit": null,
            "object_position": null,
            "order": null,
            "overflow": null,
            "overflow_x": null,
            "overflow_y": null,
            "padding": null,
            "right": null,
            "top": null,
            "visibility": null,
            "width": null
          }
        },
        "2330296d4d884d1f86b033947f37272a": {
          "model_module": "@jupyter-widgets/controls",
          "model_name": "DescriptionStyleModel",
          "model_module_version": "1.5.0",
          "state": {
            "_model_module": "@jupyter-widgets/controls",
            "_model_module_version": "1.5.0",
            "_model_name": "DescriptionStyleModel",
            "_view_count": null,
            "_view_module": "@jupyter-widgets/base",
            "_view_module_version": "1.2.0",
            "_view_name": "StyleView",
            "description_width": ""
          }
        },
        "92a33584f3b043edbfdcaf153b93db34": {
          "model_module": "@jupyter-widgets/controls",
          "model_name": "HBoxModel",
          "model_module_version": "1.5.0",
          "state": {
            "_dom_classes": [],
            "_model_module": "@jupyter-widgets/controls",
            "_model_module_version": "1.5.0",
            "_model_name": "HBoxModel",
            "_view_count": null,
            "_view_module": "@jupyter-widgets/controls",
            "_view_module_version": "1.5.0",
            "_view_name": "HBoxView",
            "box_style": "",
            "children": [
              "IPY_MODEL_d7949592a14248baa9b80755e5abea42",
              "IPY_MODEL_c2de0123acd1414cbdffbe1711043ced",
              "IPY_MODEL_86ca4d794a9145b9abf452b3febc7c02"
            ],
            "layout": "IPY_MODEL_6e0672e9447445ae9780b7c5d8a088b7"
          }
        },
        "d7949592a14248baa9b80755e5abea42": {
          "model_module": "@jupyter-widgets/controls",
          "model_name": "HTMLModel",
          "model_module_version": "1.5.0",
          "state": {
            "_dom_classes": [],
            "_model_module": "@jupyter-widgets/controls",
            "_model_module_version": "1.5.0",
            "_model_name": "HTMLModel",
            "_view_count": null,
            "_view_module": "@jupyter-widgets/controls",
            "_view_module_version": "1.5.0",
            "_view_name": "HTMLView",
            "description": "",
            "description_tooltip": null,
            "layout": "IPY_MODEL_62de6a0d19c043dab27aea230fcaa1b6",
            "placeholder": "​",
            "style": "IPY_MODEL_526821805bb34548b3d4372cf05180d5",
            "value": "Epoch 14 / 20: 100%"
          }
        },
        "c2de0123acd1414cbdffbe1711043ced": {
          "model_module": "@jupyter-widgets/controls",
          "model_name": "FloatProgressModel",
          "model_module_version": "1.5.0",
          "state": {
            "_dom_classes": [],
            "_model_module": "@jupyter-widgets/controls",
            "_model_module_version": "1.5.0",
            "_model_name": "FloatProgressModel",
            "_view_count": null,
            "_view_module": "@jupyter-widgets/controls",
            "_view_module_version": "1.5.0",
            "_view_name": "ProgressView",
            "bar_style": "success",
            "description": "",
            "description_tooltip": null,
            "layout": "IPY_MODEL_402c0118682243ca8522ea978a9b8f1f",
            "max": 12,
            "min": 0,
            "orientation": "horizontal",
            "style": "IPY_MODEL_1a957d71a1ef41a28a3c3f6838467a38",
            "value": 12
          }
        },
        "86ca4d794a9145b9abf452b3febc7c02": {
          "model_module": "@jupyter-widgets/controls",
          "model_name": "HTMLModel",
          "model_module_version": "1.5.0",
          "state": {
            "_dom_classes": [],
            "_model_module": "@jupyter-widgets/controls",
            "_model_module_version": "1.5.0",
            "_model_name": "HTMLModel",
            "_view_count": null,
            "_view_module": "@jupyter-widgets/controls",
            "_view_module_version": "1.5.0",
            "_view_name": "HTMLView",
            "description": "",
            "description_tooltip": null,
            "layout": "IPY_MODEL_ebd7640771d248b5bcdbe679bbfabcfc",
            "placeholder": "​",
            "style": "IPY_MODEL_23985487bc694a18b58ce9354f3b86b2",
            "value": " 12/12 [00:00&lt;00:00, 66.09it/s]"
          }
        },
        "6e0672e9447445ae9780b7c5d8a088b7": {
          "model_module": "@jupyter-widgets/base",
          "model_name": "LayoutModel",
          "model_module_version": "1.2.0",
          "state": {
            "_model_module": "@jupyter-widgets/base",
            "_model_module_version": "1.2.0",
            "_model_name": "LayoutModel",
            "_view_count": null,
            "_view_module": "@jupyter-widgets/base",
            "_view_module_version": "1.2.0",
            "_view_name": "LayoutView",
            "align_content": null,
            "align_items": null,
            "align_self": null,
            "border": null,
            "bottom": null,
            "display": null,
            "flex": null,
            "flex_flow": null,
            "grid_area": null,
            "grid_auto_columns": null,
            "grid_auto_flow": null,
            "grid_auto_rows": null,
            "grid_column": null,
            "grid_gap": null,
            "grid_row": null,
            "grid_template_areas": null,
            "grid_template_columns": null,
            "grid_template_rows": null,
            "height": null,
            "justify_content": null,
            "justify_items": null,
            "left": null,
            "margin": null,
            "max_height": null,
            "max_width": null,
            "min_height": null,
            "min_width": null,
            "object_fit": null,
            "object_position": null,
            "order": null,
            "overflow": null,
            "overflow_x": null,
            "overflow_y": null,
            "padding": null,
            "right": null,
            "top": null,
            "visibility": null,
            "width": null
          }
        },
        "62de6a0d19c043dab27aea230fcaa1b6": {
          "model_module": "@jupyter-widgets/base",
          "model_name": "LayoutModel",
          "model_module_version": "1.2.0",
          "state": {
            "_model_module": "@jupyter-widgets/base",
            "_model_module_version": "1.2.0",
            "_model_name": "LayoutModel",
            "_view_count": null,
            "_view_module": "@jupyter-widgets/base",
            "_view_module_version": "1.2.0",
            "_view_name": "LayoutView",
            "align_content": null,
            "align_items": null,
            "align_self": null,
            "border": null,
            "bottom": null,
            "display": null,
            "flex": null,
            "flex_flow": null,
            "grid_area": null,
            "grid_auto_columns": null,
            "grid_auto_flow": null,
            "grid_auto_rows": null,
            "grid_column": null,
            "grid_gap": null,
            "grid_row": null,
            "grid_template_areas": null,
            "grid_template_columns": null,
            "grid_template_rows": null,
            "height": null,
            "justify_content": null,
            "justify_items": null,
            "left": null,
            "margin": null,
            "max_height": null,
            "max_width": null,
            "min_height": null,
            "min_width": null,
            "object_fit": null,
            "object_position": null,
            "order": null,
            "overflow": null,
            "overflow_x": null,
            "overflow_y": null,
            "padding": null,
            "right": null,
            "top": null,
            "visibility": null,
            "width": null
          }
        },
        "526821805bb34548b3d4372cf05180d5": {
          "model_module": "@jupyter-widgets/controls",
          "model_name": "DescriptionStyleModel",
          "model_module_version": "1.5.0",
          "state": {
            "_model_module": "@jupyter-widgets/controls",
            "_model_module_version": "1.5.0",
            "_model_name": "DescriptionStyleModel",
            "_view_count": null,
            "_view_module": "@jupyter-widgets/base",
            "_view_module_version": "1.2.0",
            "_view_name": "StyleView",
            "description_width": ""
          }
        },
        "402c0118682243ca8522ea978a9b8f1f": {
          "model_module": "@jupyter-widgets/base",
          "model_name": "LayoutModel",
          "model_module_version": "1.2.0",
          "state": {
            "_model_module": "@jupyter-widgets/base",
            "_model_module_version": "1.2.0",
            "_model_name": "LayoutModel",
            "_view_count": null,
            "_view_module": "@jupyter-widgets/base",
            "_view_module_version": "1.2.0",
            "_view_name": "LayoutView",
            "align_content": null,
            "align_items": null,
            "align_self": null,
            "border": null,
            "bottom": null,
            "display": null,
            "flex": null,
            "flex_flow": null,
            "grid_area": null,
            "grid_auto_columns": null,
            "grid_auto_flow": null,
            "grid_auto_rows": null,
            "grid_column": null,
            "grid_gap": null,
            "grid_row": null,
            "grid_template_areas": null,
            "grid_template_columns": null,
            "grid_template_rows": null,
            "height": null,
            "justify_content": null,
            "justify_items": null,
            "left": null,
            "margin": null,
            "max_height": null,
            "max_width": null,
            "min_height": null,
            "min_width": null,
            "object_fit": null,
            "object_position": null,
            "order": null,
            "overflow": null,
            "overflow_x": null,
            "overflow_y": null,
            "padding": null,
            "right": null,
            "top": null,
            "visibility": null,
            "width": null
          }
        },
        "1a957d71a1ef41a28a3c3f6838467a38": {
          "model_module": "@jupyter-widgets/controls",
          "model_name": "ProgressStyleModel",
          "model_module_version": "1.5.0",
          "state": {
            "_model_module": "@jupyter-widgets/controls",
            "_model_module_version": "1.5.0",
            "_model_name": "ProgressStyleModel",
            "_view_count": null,
            "_view_module": "@jupyter-widgets/base",
            "_view_module_version": "1.2.0",
            "_view_name": "StyleView",
            "bar_color": null,
            "description_width": ""
          }
        },
        "ebd7640771d248b5bcdbe679bbfabcfc": {
          "model_module": "@jupyter-widgets/base",
          "model_name": "LayoutModel",
          "model_module_version": "1.2.0",
          "state": {
            "_model_module": "@jupyter-widgets/base",
            "_model_module_version": "1.2.0",
            "_model_name": "LayoutModel",
            "_view_count": null,
            "_view_module": "@jupyter-widgets/base",
            "_view_module_version": "1.2.0",
            "_view_name": "LayoutView",
            "align_content": null,
            "align_items": null,
            "align_self": null,
            "border": null,
            "bottom": null,
            "display": null,
            "flex": null,
            "flex_flow": null,
            "grid_area": null,
            "grid_auto_columns": null,
            "grid_auto_flow": null,
            "grid_auto_rows": null,
            "grid_column": null,
            "grid_gap": null,
            "grid_row": null,
            "grid_template_areas": null,
            "grid_template_columns": null,
            "grid_template_rows": null,
            "height": null,
            "justify_content": null,
            "justify_items": null,
            "left": null,
            "margin": null,
            "max_height": null,
            "max_width": null,
            "min_height": null,
            "min_width": null,
            "object_fit": null,
            "object_position": null,
            "order": null,
            "overflow": null,
            "overflow_x": null,
            "overflow_y": null,
            "padding": null,
            "right": null,
            "top": null,
            "visibility": null,
            "width": null
          }
        },
        "23985487bc694a18b58ce9354f3b86b2": {
          "model_module": "@jupyter-widgets/controls",
          "model_name": "DescriptionStyleModel",
          "model_module_version": "1.5.0",
          "state": {
            "_model_module": "@jupyter-widgets/controls",
            "_model_module_version": "1.5.0",
            "_model_name": "DescriptionStyleModel",
            "_view_count": null,
            "_view_module": "@jupyter-widgets/base",
            "_view_module_version": "1.2.0",
            "_view_name": "StyleView",
            "description_width": ""
          }
        },
        "8293cf2266a64ae380c40f325ff76e08": {
          "model_module": "@jupyter-widgets/controls",
          "model_name": "HBoxModel",
          "model_module_version": "1.5.0",
          "state": {
            "_dom_classes": [],
            "_model_module": "@jupyter-widgets/controls",
            "_model_module_version": "1.5.0",
            "_model_name": "HBoxModel",
            "_view_count": null,
            "_view_module": "@jupyter-widgets/controls",
            "_view_module_version": "1.5.0",
            "_view_name": "HBoxView",
            "box_style": "",
            "children": [
              "IPY_MODEL_00853878bfc74da2aa0feeb24a080976",
              "IPY_MODEL_c4f9c2b4b4c3413e91302cce936c1b04",
              "IPY_MODEL_643a0401264042fa9332a7d783252a1f"
            ],
            "layout": "IPY_MODEL_407f7ef957c24e48b473b7b2cd6226a6"
          }
        },
        "00853878bfc74da2aa0feeb24a080976": {
          "model_module": "@jupyter-widgets/controls",
          "model_name": "HTMLModel",
          "model_module_version": "1.5.0",
          "state": {
            "_dom_classes": [],
            "_model_module": "@jupyter-widgets/controls",
            "_model_module_version": "1.5.0",
            "_model_name": "HTMLModel",
            "_view_count": null,
            "_view_module": "@jupyter-widgets/controls",
            "_view_module_version": "1.5.0",
            "_view_name": "HTMLView",
            "description": "",
            "description_tooltip": null,
            "layout": "IPY_MODEL_a8154c8cf7f243759e01001be6c2b6d2",
            "placeholder": "​",
            "style": "IPY_MODEL_e9932c955f434e589956c0df59a52fb1",
            "value": "Epoch 15 / 20: 100%"
          }
        },
        "c4f9c2b4b4c3413e91302cce936c1b04": {
          "model_module": "@jupyter-widgets/controls",
          "model_name": "FloatProgressModel",
          "model_module_version": "1.5.0",
          "state": {
            "_dom_classes": [],
            "_model_module": "@jupyter-widgets/controls",
            "_model_module_version": "1.5.0",
            "_model_name": "FloatProgressModel",
            "_view_count": null,
            "_view_module": "@jupyter-widgets/controls",
            "_view_module_version": "1.5.0",
            "_view_name": "ProgressView",
            "bar_style": "success",
            "description": "",
            "description_tooltip": null,
            "layout": "IPY_MODEL_86eb02b691c7465b8eae861d939c3811",
            "max": 12,
            "min": 0,
            "orientation": "horizontal",
            "style": "IPY_MODEL_87f1bb9803bb43819b53e9f5bbb1c484",
            "value": 12
          }
        },
        "643a0401264042fa9332a7d783252a1f": {
          "model_module": "@jupyter-widgets/controls",
          "model_name": "HTMLModel",
          "model_module_version": "1.5.0",
          "state": {
            "_dom_classes": [],
            "_model_module": "@jupyter-widgets/controls",
            "_model_module_version": "1.5.0",
            "_model_name": "HTMLModel",
            "_view_count": null,
            "_view_module": "@jupyter-widgets/controls",
            "_view_module_version": "1.5.0",
            "_view_name": "HTMLView",
            "description": "",
            "description_tooltip": null,
            "layout": "IPY_MODEL_e913514189274dcf9f200f4a2bdbb8b9",
            "placeholder": "​",
            "style": "IPY_MODEL_36a84b5516cf48798b7f8eb907e52e4c",
            "value": " 12/12 [00:00&lt;00:00, 67.86it/s]"
          }
        },
        "407f7ef957c24e48b473b7b2cd6226a6": {
          "model_module": "@jupyter-widgets/base",
          "model_name": "LayoutModel",
          "model_module_version": "1.2.0",
          "state": {
            "_model_module": "@jupyter-widgets/base",
            "_model_module_version": "1.2.0",
            "_model_name": "LayoutModel",
            "_view_count": null,
            "_view_module": "@jupyter-widgets/base",
            "_view_module_version": "1.2.0",
            "_view_name": "LayoutView",
            "align_content": null,
            "align_items": null,
            "align_self": null,
            "border": null,
            "bottom": null,
            "display": null,
            "flex": null,
            "flex_flow": null,
            "grid_area": null,
            "grid_auto_columns": null,
            "grid_auto_flow": null,
            "grid_auto_rows": null,
            "grid_column": null,
            "grid_gap": null,
            "grid_row": null,
            "grid_template_areas": null,
            "grid_template_columns": null,
            "grid_template_rows": null,
            "height": null,
            "justify_content": null,
            "justify_items": null,
            "left": null,
            "margin": null,
            "max_height": null,
            "max_width": null,
            "min_height": null,
            "min_width": null,
            "object_fit": null,
            "object_position": null,
            "order": null,
            "overflow": null,
            "overflow_x": null,
            "overflow_y": null,
            "padding": null,
            "right": null,
            "top": null,
            "visibility": null,
            "width": null
          }
        },
        "a8154c8cf7f243759e01001be6c2b6d2": {
          "model_module": "@jupyter-widgets/base",
          "model_name": "LayoutModel",
          "model_module_version": "1.2.0",
          "state": {
            "_model_module": "@jupyter-widgets/base",
            "_model_module_version": "1.2.0",
            "_model_name": "LayoutModel",
            "_view_count": null,
            "_view_module": "@jupyter-widgets/base",
            "_view_module_version": "1.2.0",
            "_view_name": "LayoutView",
            "align_content": null,
            "align_items": null,
            "align_self": null,
            "border": null,
            "bottom": null,
            "display": null,
            "flex": null,
            "flex_flow": null,
            "grid_area": null,
            "grid_auto_columns": null,
            "grid_auto_flow": null,
            "grid_auto_rows": null,
            "grid_column": null,
            "grid_gap": null,
            "grid_row": null,
            "grid_template_areas": null,
            "grid_template_columns": null,
            "grid_template_rows": null,
            "height": null,
            "justify_content": null,
            "justify_items": null,
            "left": null,
            "margin": null,
            "max_height": null,
            "max_width": null,
            "min_height": null,
            "min_width": null,
            "object_fit": null,
            "object_position": null,
            "order": null,
            "overflow": null,
            "overflow_x": null,
            "overflow_y": null,
            "padding": null,
            "right": null,
            "top": null,
            "visibility": null,
            "width": null
          }
        },
        "e9932c955f434e589956c0df59a52fb1": {
          "model_module": "@jupyter-widgets/controls",
          "model_name": "DescriptionStyleModel",
          "model_module_version": "1.5.0",
          "state": {
            "_model_module": "@jupyter-widgets/controls",
            "_model_module_version": "1.5.0",
            "_model_name": "DescriptionStyleModel",
            "_view_count": null,
            "_view_module": "@jupyter-widgets/base",
            "_view_module_version": "1.2.0",
            "_view_name": "StyleView",
            "description_width": ""
          }
        },
        "86eb02b691c7465b8eae861d939c3811": {
          "model_module": "@jupyter-widgets/base",
          "model_name": "LayoutModel",
          "model_module_version": "1.2.0",
          "state": {
            "_model_module": "@jupyter-widgets/base",
            "_model_module_version": "1.2.0",
            "_model_name": "LayoutModel",
            "_view_count": null,
            "_view_module": "@jupyter-widgets/base",
            "_view_module_version": "1.2.0",
            "_view_name": "LayoutView",
            "align_content": null,
            "align_items": null,
            "align_self": null,
            "border": null,
            "bottom": null,
            "display": null,
            "flex": null,
            "flex_flow": null,
            "grid_area": null,
            "grid_auto_columns": null,
            "grid_auto_flow": null,
            "grid_auto_rows": null,
            "grid_column": null,
            "grid_gap": null,
            "grid_row": null,
            "grid_template_areas": null,
            "grid_template_columns": null,
            "grid_template_rows": null,
            "height": null,
            "justify_content": null,
            "justify_items": null,
            "left": null,
            "margin": null,
            "max_height": null,
            "max_width": null,
            "min_height": null,
            "min_width": null,
            "object_fit": null,
            "object_position": null,
            "order": null,
            "overflow": null,
            "overflow_x": null,
            "overflow_y": null,
            "padding": null,
            "right": null,
            "top": null,
            "visibility": null,
            "width": null
          }
        },
        "87f1bb9803bb43819b53e9f5bbb1c484": {
          "model_module": "@jupyter-widgets/controls",
          "model_name": "ProgressStyleModel",
          "model_module_version": "1.5.0",
          "state": {
            "_model_module": "@jupyter-widgets/controls",
            "_model_module_version": "1.5.0",
            "_model_name": "ProgressStyleModel",
            "_view_count": null,
            "_view_module": "@jupyter-widgets/base",
            "_view_module_version": "1.2.0",
            "_view_name": "StyleView",
            "bar_color": null,
            "description_width": ""
          }
        },
        "e913514189274dcf9f200f4a2bdbb8b9": {
          "model_module": "@jupyter-widgets/base",
          "model_name": "LayoutModel",
          "model_module_version": "1.2.0",
          "state": {
            "_model_module": "@jupyter-widgets/base",
            "_model_module_version": "1.2.0",
            "_model_name": "LayoutModel",
            "_view_count": null,
            "_view_module": "@jupyter-widgets/base",
            "_view_module_version": "1.2.0",
            "_view_name": "LayoutView",
            "align_content": null,
            "align_items": null,
            "align_self": null,
            "border": null,
            "bottom": null,
            "display": null,
            "flex": null,
            "flex_flow": null,
            "grid_area": null,
            "grid_auto_columns": null,
            "grid_auto_flow": null,
            "grid_auto_rows": null,
            "grid_column": null,
            "grid_gap": null,
            "grid_row": null,
            "grid_template_areas": null,
            "grid_template_columns": null,
            "grid_template_rows": null,
            "height": null,
            "justify_content": null,
            "justify_items": null,
            "left": null,
            "margin": null,
            "max_height": null,
            "max_width": null,
            "min_height": null,
            "min_width": null,
            "object_fit": null,
            "object_position": null,
            "order": null,
            "overflow": null,
            "overflow_x": null,
            "overflow_y": null,
            "padding": null,
            "right": null,
            "top": null,
            "visibility": null,
            "width": null
          }
        },
        "36a84b5516cf48798b7f8eb907e52e4c": {
          "model_module": "@jupyter-widgets/controls",
          "model_name": "DescriptionStyleModel",
          "model_module_version": "1.5.0",
          "state": {
            "_model_module": "@jupyter-widgets/controls",
            "_model_module_version": "1.5.0",
            "_model_name": "DescriptionStyleModel",
            "_view_count": null,
            "_view_module": "@jupyter-widgets/base",
            "_view_module_version": "1.2.0",
            "_view_name": "StyleView",
            "description_width": ""
          }
        },
        "e31e4f2f7b1f45f69910259115b5e2d6": {
          "model_module": "@jupyter-widgets/controls",
          "model_name": "HBoxModel",
          "model_module_version": "1.5.0",
          "state": {
            "_dom_classes": [],
            "_model_module": "@jupyter-widgets/controls",
            "_model_module_version": "1.5.0",
            "_model_name": "HBoxModel",
            "_view_count": null,
            "_view_module": "@jupyter-widgets/controls",
            "_view_module_version": "1.5.0",
            "_view_name": "HBoxView",
            "box_style": "",
            "children": [
              "IPY_MODEL_9e5c115c005b4bc8a29d62168da4cbb8",
              "IPY_MODEL_787caa7f2b8b45768ecb1a533d9670e7",
              "IPY_MODEL_db8a15e2e6984ea4b42de0cf14a86cb8"
            ],
            "layout": "IPY_MODEL_3c91615a202b4d94931f4c74679fadd8"
          }
        },
        "9e5c115c005b4bc8a29d62168da4cbb8": {
          "model_module": "@jupyter-widgets/controls",
          "model_name": "HTMLModel",
          "model_module_version": "1.5.0",
          "state": {
            "_dom_classes": [],
            "_model_module": "@jupyter-widgets/controls",
            "_model_module_version": "1.5.0",
            "_model_name": "HTMLModel",
            "_view_count": null,
            "_view_module": "@jupyter-widgets/controls",
            "_view_module_version": "1.5.0",
            "_view_name": "HTMLView",
            "description": "",
            "description_tooltip": null,
            "layout": "IPY_MODEL_917230c650194f14a32010e553da9017",
            "placeholder": "​",
            "style": "IPY_MODEL_605e4b69e6a2495b9494146832c5b490",
            "value": "Epoch 16 / 20: 100%"
          }
        },
        "787caa7f2b8b45768ecb1a533d9670e7": {
          "model_module": "@jupyter-widgets/controls",
          "model_name": "FloatProgressModel",
          "model_module_version": "1.5.0",
          "state": {
            "_dom_classes": [],
            "_model_module": "@jupyter-widgets/controls",
            "_model_module_version": "1.5.0",
            "_model_name": "FloatProgressModel",
            "_view_count": null,
            "_view_module": "@jupyter-widgets/controls",
            "_view_module_version": "1.5.0",
            "_view_name": "ProgressView",
            "bar_style": "success",
            "description": "",
            "description_tooltip": null,
            "layout": "IPY_MODEL_824355fd14e24412a84450646ca25487",
            "max": 12,
            "min": 0,
            "orientation": "horizontal",
            "style": "IPY_MODEL_008429d052744ff1a5207db81c9efb6c",
            "value": 12
          }
        },
        "db8a15e2e6984ea4b42de0cf14a86cb8": {
          "model_module": "@jupyter-widgets/controls",
          "model_name": "HTMLModel",
          "model_module_version": "1.5.0",
          "state": {
            "_dom_classes": [],
            "_model_module": "@jupyter-widgets/controls",
            "_model_module_version": "1.5.0",
            "_model_name": "HTMLModel",
            "_view_count": null,
            "_view_module": "@jupyter-widgets/controls",
            "_view_module_version": "1.5.0",
            "_view_name": "HTMLView",
            "description": "",
            "description_tooltip": null,
            "layout": "IPY_MODEL_f5f2dca5a41546dface05041dea92814",
            "placeholder": "​",
            "style": "IPY_MODEL_121e12f39b244da7aeed490fd1b0edbf",
            "value": " 12/12 [00:00&lt;00:00, 55.45it/s]"
          }
        },
        "3c91615a202b4d94931f4c74679fadd8": {
          "model_module": "@jupyter-widgets/base",
          "model_name": "LayoutModel",
          "model_module_version": "1.2.0",
          "state": {
            "_model_module": "@jupyter-widgets/base",
            "_model_module_version": "1.2.0",
            "_model_name": "LayoutModel",
            "_view_count": null,
            "_view_module": "@jupyter-widgets/base",
            "_view_module_version": "1.2.0",
            "_view_name": "LayoutView",
            "align_content": null,
            "align_items": null,
            "align_self": null,
            "border": null,
            "bottom": null,
            "display": null,
            "flex": null,
            "flex_flow": null,
            "grid_area": null,
            "grid_auto_columns": null,
            "grid_auto_flow": null,
            "grid_auto_rows": null,
            "grid_column": null,
            "grid_gap": null,
            "grid_row": null,
            "grid_template_areas": null,
            "grid_template_columns": null,
            "grid_template_rows": null,
            "height": null,
            "justify_content": null,
            "justify_items": null,
            "left": null,
            "margin": null,
            "max_height": null,
            "max_width": null,
            "min_height": null,
            "min_width": null,
            "object_fit": null,
            "object_position": null,
            "order": null,
            "overflow": null,
            "overflow_x": null,
            "overflow_y": null,
            "padding": null,
            "right": null,
            "top": null,
            "visibility": null,
            "width": null
          }
        },
        "917230c650194f14a32010e553da9017": {
          "model_module": "@jupyter-widgets/base",
          "model_name": "LayoutModel",
          "model_module_version": "1.2.0",
          "state": {
            "_model_module": "@jupyter-widgets/base",
            "_model_module_version": "1.2.0",
            "_model_name": "LayoutModel",
            "_view_count": null,
            "_view_module": "@jupyter-widgets/base",
            "_view_module_version": "1.2.0",
            "_view_name": "LayoutView",
            "align_content": null,
            "align_items": null,
            "align_self": null,
            "border": null,
            "bottom": null,
            "display": null,
            "flex": null,
            "flex_flow": null,
            "grid_area": null,
            "grid_auto_columns": null,
            "grid_auto_flow": null,
            "grid_auto_rows": null,
            "grid_column": null,
            "grid_gap": null,
            "grid_row": null,
            "grid_template_areas": null,
            "grid_template_columns": null,
            "grid_template_rows": null,
            "height": null,
            "justify_content": null,
            "justify_items": null,
            "left": null,
            "margin": null,
            "max_height": null,
            "max_width": null,
            "min_height": null,
            "min_width": null,
            "object_fit": null,
            "object_position": null,
            "order": null,
            "overflow": null,
            "overflow_x": null,
            "overflow_y": null,
            "padding": null,
            "right": null,
            "top": null,
            "visibility": null,
            "width": null
          }
        },
        "605e4b69e6a2495b9494146832c5b490": {
          "model_module": "@jupyter-widgets/controls",
          "model_name": "DescriptionStyleModel",
          "model_module_version": "1.5.0",
          "state": {
            "_model_module": "@jupyter-widgets/controls",
            "_model_module_version": "1.5.0",
            "_model_name": "DescriptionStyleModel",
            "_view_count": null,
            "_view_module": "@jupyter-widgets/base",
            "_view_module_version": "1.2.0",
            "_view_name": "StyleView",
            "description_width": ""
          }
        },
        "824355fd14e24412a84450646ca25487": {
          "model_module": "@jupyter-widgets/base",
          "model_name": "LayoutModel",
          "model_module_version": "1.2.0",
          "state": {
            "_model_module": "@jupyter-widgets/base",
            "_model_module_version": "1.2.0",
            "_model_name": "LayoutModel",
            "_view_count": null,
            "_view_module": "@jupyter-widgets/base",
            "_view_module_version": "1.2.0",
            "_view_name": "LayoutView",
            "align_content": null,
            "align_items": null,
            "align_self": null,
            "border": null,
            "bottom": null,
            "display": null,
            "flex": null,
            "flex_flow": null,
            "grid_area": null,
            "grid_auto_columns": null,
            "grid_auto_flow": null,
            "grid_auto_rows": null,
            "grid_column": null,
            "grid_gap": null,
            "grid_row": null,
            "grid_template_areas": null,
            "grid_template_columns": null,
            "grid_template_rows": null,
            "height": null,
            "justify_content": null,
            "justify_items": null,
            "left": null,
            "margin": null,
            "max_height": null,
            "max_width": null,
            "min_height": null,
            "min_width": null,
            "object_fit": null,
            "object_position": null,
            "order": null,
            "overflow": null,
            "overflow_x": null,
            "overflow_y": null,
            "padding": null,
            "right": null,
            "top": null,
            "visibility": null,
            "width": null
          }
        },
        "008429d052744ff1a5207db81c9efb6c": {
          "model_module": "@jupyter-widgets/controls",
          "model_name": "ProgressStyleModel",
          "model_module_version": "1.5.0",
          "state": {
            "_model_module": "@jupyter-widgets/controls",
            "_model_module_version": "1.5.0",
            "_model_name": "ProgressStyleModel",
            "_view_count": null,
            "_view_module": "@jupyter-widgets/base",
            "_view_module_version": "1.2.0",
            "_view_name": "StyleView",
            "bar_color": null,
            "description_width": ""
          }
        },
        "f5f2dca5a41546dface05041dea92814": {
          "model_module": "@jupyter-widgets/base",
          "model_name": "LayoutModel",
          "model_module_version": "1.2.0",
          "state": {
            "_model_module": "@jupyter-widgets/base",
            "_model_module_version": "1.2.0",
            "_model_name": "LayoutModel",
            "_view_count": null,
            "_view_module": "@jupyter-widgets/base",
            "_view_module_version": "1.2.0",
            "_view_name": "LayoutView",
            "align_content": null,
            "align_items": null,
            "align_self": null,
            "border": null,
            "bottom": null,
            "display": null,
            "flex": null,
            "flex_flow": null,
            "grid_area": null,
            "grid_auto_columns": null,
            "grid_auto_flow": null,
            "grid_auto_rows": null,
            "grid_column": null,
            "grid_gap": null,
            "grid_row": null,
            "grid_template_areas": null,
            "grid_template_columns": null,
            "grid_template_rows": null,
            "height": null,
            "justify_content": null,
            "justify_items": null,
            "left": null,
            "margin": null,
            "max_height": null,
            "max_width": null,
            "min_height": null,
            "min_width": null,
            "object_fit": null,
            "object_position": null,
            "order": null,
            "overflow": null,
            "overflow_x": null,
            "overflow_y": null,
            "padding": null,
            "right": null,
            "top": null,
            "visibility": null,
            "width": null
          }
        },
        "121e12f39b244da7aeed490fd1b0edbf": {
          "model_module": "@jupyter-widgets/controls",
          "model_name": "DescriptionStyleModel",
          "model_module_version": "1.5.0",
          "state": {
            "_model_module": "@jupyter-widgets/controls",
            "_model_module_version": "1.5.0",
            "_model_name": "DescriptionStyleModel",
            "_view_count": null,
            "_view_module": "@jupyter-widgets/base",
            "_view_module_version": "1.2.0",
            "_view_name": "StyleView",
            "description_width": ""
          }
        },
        "08b4cccbcb1a4d39bca312bb84d7c46b": {
          "model_module": "@jupyter-widgets/controls",
          "model_name": "HBoxModel",
          "model_module_version": "1.5.0",
          "state": {
            "_dom_classes": [],
            "_model_module": "@jupyter-widgets/controls",
            "_model_module_version": "1.5.0",
            "_model_name": "HBoxModel",
            "_view_count": null,
            "_view_module": "@jupyter-widgets/controls",
            "_view_module_version": "1.5.0",
            "_view_name": "HBoxView",
            "box_style": "",
            "children": [
              "IPY_MODEL_7a330f7f75e64fbdafd0c2a0e1128425",
              "IPY_MODEL_34e1cf96a1ab4e3082c82ad6f061dfc4",
              "IPY_MODEL_7803bde7ea7f4c0f974ad61df76eeca5"
            ],
            "layout": "IPY_MODEL_73b6e021af484f6bb81608269eef4d76"
          }
        },
        "7a330f7f75e64fbdafd0c2a0e1128425": {
          "model_module": "@jupyter-widgets/controls",
          "model_name": "HTMLModel",
          "model_module_version": "1.5.0",
          "state": {
            "_dom_classes": [],
            "_model_module": "@jupyter-widgets/controls",
            "_model_module_version": "1.5.0",
            "_model_name": "HTMLModel",
            "_view_count": null,
            "_view_module": "@jupyter-widgets/controls",
            "_view_module_version": "1.5.0",
            "_view_name": "HTMLView",
            "description": "",
            "description_tooltip": null,
            "layout": "IPY_MODEL_f8b2f8a6c3b84503a41f69b367640cab",
            "placeholder": "​",
            "style": "IPY_MODEL_0e645d0d283f440f9933eabe3e7ae67e",
            "value": "Epoch 17 / 20: 100%"
          }
        },
        "34e1cf96a1ab4e3082c82ad6f061dfc4": {
          "model_module": "@jupyter-widgets/controls",
          "model_name": "FloatProgressModel",
          "model_module_version": "1.5.0",
          "state": {
            "_dom_classes": [],
            "_model_module": "@jupyter-widgets/controls",
            "_model_module_version": "1.5.0",
            "_model_name": "FloatProgressModel",
            "_view_count": null,
            "_view_module": "@jupyter-widgets/controls",
            "_view_module_version": "1.5.0",
            "_view_name": "ProgressView",
            "bar_style": "success",
            "description": "",
            "description_tooltip": null,
            "layout": "IPY_MODEL_63bb95be0375419c9fb1180e40f4b52f",
            "max": 12,
            "min": 0,
            "orientation": "horizontal",
            "style": "IPY_MODEL_720f259e9daf40c7a4e3a832475f1a45",
            "value": 12
          }
        },
        "7803bde7ea7f4c0f974ad61df76eeca5": {
          "model_module": "@jupyter-widgets/controls",
          "model_name": "HTMLModel",
          "model_module_version": "1.5.0",
          "state": {
            "_dom_classes": [],
            "_model_module": "@jupyter-widgets/controls",
            "_model_module_version": "1.5.0",
            "_model_name": "HTMLModel",
            "_view_count": null,
            "_view_module": "@jupyter-widgets/controls",
            "_view_module_version": "1.5.0",
            "_view_name": "HTMLView",
            "description": "",
            "description_tooltip": null,
            "layout": "IPY_MODEL_29bc2e8ec6fb47edbf4c679c3edc9fd7",
            "placeholder": "​",
            "style": "IPY_MODEL_6c97fd89cf554a58b19e9493d71d2813",
            "value": " 12/12 [00:00&lt;00:00, 62.76it/s]"
          }
        },
        "73b6e021af484f6bb81608269eef4d76": {
          "model_module": "@jupyter-widgets/base",
          "model_name": "LayoutModel",
          "model_module_version": "1.2.0",
          "state": {
            "_model_module": "@jupyter-widgets/base",
            "_model_module_version": "1.2.0",
            "_model_name": "LayoutModel",
            "_view_count": null,
            "_view_module": "@jupyter-widgets/base",
            "_view_module_version": "1.2.0",
            "_view_name": "LayoutView",
            "align_content": null,
            "align_items": null,
            "align_self": null,
            "border": null,
            "bottom": null,
            "display": null,
            "flex": null,
            "flex_flow": null,
            "grid_area": null,
            "grid_auto_columns": null,
            "grid_auto_flow": null,
            "grid_auto_rows": null,
            "grid_column": null,
            "grid_gap": null,
            "grid_row": null,
            "grid_template_areas": null,
            "grid_template_columns": null,
            "grid_template_rows": null,
            "height": null,
            "justify_content": null,
            "justify_items": null,
            "left": null,
            "margin": null,
            "max_height": null,
            "max_width": null,
            "min_height": null,
            "min_width": null,
            "object_fit": null,
            "object_position": null,
            "order": null,
            "overflow": null,
            "overflow_x": null,
            "overflow_y": null,
            "padding": null,
            "right": null,
            "top": null,
            "visibility": null,
            "width": null
          }
        },
        "f8b2f8a6c3b84503a41f69b367640cab": {
          "model_module": "@jupyter-widgets/base",
          "model_name": "LayoutModel",
          "model_module_version": "1.2.0",
          "state": {
            "_model_module": "@jupyter-widgets/base",
            "_model_module_version": "1.2.0",
            "_model_name": "LayoutModel",
            "_view_count": null,
            "_view_module": "@jupyter-widgets/base",
            "_view_module_version": "1.2.0",
            "_view_name": "LayoutView",
            "align_content": null,
            "align_items": null,
            "align_self": null,
            "border": null,
            "bottom": null,
            "display": null,
            "flex": null,
            "flex_flow": null,
            "grid_area": null,
            "grid_auto_columns": null,
            "grid_auto_flow": null,
            "grid_auto_rows": null,
            "grid_column": null,
            "grid_gap": null,
            "grid_row": null,
            "grid_template_areas": null,
            "grid_template_columns": null,
            "grid_template_rows": null,
            "height": null,
            "justify_content": null,
            "justify_items": null,
            "left": null,
            "margin": null,
            "max_height": null,
            "max_width": null,
            "min_height": null,
            "min_width": null,
            "object_fit": null,
            "object_position": null,
            "order": null,
            "overflow": null,
            "overflow_x": null,
            "overflow_y": null,
            "padding": null,
            "right": null,
            "top": null,
            "visibility": null,
            "width": null
          }
        },
        "0e645d0d283f440f9933eabe3e7ae67e": {
          "model_module": "@jupyter-widgets/controls",
          "model_name": "DescriptionStyleModel",
          "model_module_version": "1.5.0",
          "state": {
            "_model_module": "@jupyter-widgets/controls",
            "_model_module_version": "1.5.0",
            "_model_name": "DescriptionStyleModel",
            "_view_count": null,
            "_view_module": "@jupyter-widgets/base",
            "_view_module_version": "1.2.0",
            "_view_name": "StyleView",
            "description_width": ""
          }
        },
        "63bb95be0375419c9fb1180e40f4b52f": {
          "model_module": "@jupyter-widgets/base",
          "model_name": "LayoutModel",
          "model_module_version": "1.2.0",
          "state": {
            "_model_module": "@jupyter-widgets/base",
            "_model_module_version": "1.2.0",
            "_model_name": "LayoutModel",
            "_view_count": null,
            "_view_module": "@jupyter-widgets/base",
            "_view_module_version": "1.2.0",
            "_view_name": "LayoutView",
            "align_content": null,
            "align_items": null,
            "align_self": null,
            "border": null,
            "bottom": null,
            "display": null,
            "flex": null,
            "flex_flow": null,
            "grid_area": null,
            "grid_auto_columns": null,
            "grid_auto_flow": null,
            "grid_auto_rows": null,
            "grid_column": null,
            "grid_gap": null,
            "grid_row": null,
            "grid_template_areas": null,
            "grid_template_columns": null,
            "grid_template_rows": null,
            "height": null,
            "justify_content": null,
            "justify_items": null,
            "left": null,
            "margin": null,
            "max_height": null,
            "max_width": null,
            "min_height": null,
            "min_width": null,
            "object_fit": null,
            "object_position": null,
            "order": null,
            "overflow": null,
            "overflow_x": null,
            "overflow_y": null,
            "padding": null,
            "right": null,
            "top": null,
            "visibility": null,
            "width": null
          }
        },
        "720f259e9daf40c7a4e3a832475f1a45": {
          "model_module": "@jupyter-widgets/controls",
          "model_name": "ProgressStyleModel",
          "model_module_version": "1.5.0",
          "state": {
            "_model_module": "@jupyter-widgets/controls",
            "_model_module_version": "1.5.0",
            "_model_name": "ProgressStyleModel",
            "_view_count": null,
            "_view_module": "@jupyter-widgets/base",
            "_view_module_version": "1.2.0",
            "_view_name": "StyleView",
            "bar_color": null,
            "description_width": ""
          }
        },
        "29bc2e8ec6fb47edbf4c679c3edc9fd7": {
          "model_module": "@jupyter-widgets/base",
          "model_name": "LayoutModel",
          "model_module_version": "1.2.0",
          "state": {
            "_model_module": "@jupyter-widgets/base",
            "_model_module_version": "1.2.0",
            "_model_name": "LayoutModel",
            "_view_count": null,
            "_view_module": "@jupyter-widgets/base",
            "_view_module_version": "1.2.0",
            "_view_name": "LayoutView",
            "align_content": null,
            "align_items": null,
            "align_self": null,
            "border": null,
            "bottom": null,
            "display": null,
            "flex": null,
            "flex_flow": null,
            "grid_area": null,
            "grid_auto_columns": null,
            "grid_auto_flow": null,
            "grid_auto_rows": null,
            "grid_column": null,
            "grid_gap": null,
            "grid_row": null,
            "grid_template_areas": null,
            "grid_template_columns": null,
            "grid_template_rows": null,
            "height": null,
            "justify_content": null,
            "justify_items": null,
            "left": null,
            "margin": null,
            "max_height": null,
            "max_width": null,
            "min_height": null,
            "min_width": null,
            "object_fit": null,
            "object_position": null,
            "order": null,
            "overflow": null,
            "overflow_x": null,
            "overflow_y": null,
            "padding": null,
            "right": null,
            "top": null,
            "visibility": null,
            "width": null
          }
        },
        "6c97fd89cf554a58b19e9493d71d2813": {
          "model_module": "@jupyter-widgets/controls",
          "model_name": "DescriptionStyleModel",
          "model_module_version": "1.5.0",
          "state": {
            "_model_module": "@jupyter-widgets/controls",
            "_model_module_version": "1.5.0",
            "_model_name": "DescriptionStyleModel",
            "_view_count": null,
            "_view_module": "@jupyter-widgets/base",
            "_view_module_version": "1.2.0",
            "_view_name": "StyleView",
            "description_width": ""
          }
        },
        "74ecad5ecb364100a3d9e8aa4b2257bc": {
          "model_module": "@jupyter-widgets/controls",
          "model_name": "HBoxModel",
          "model_module_version": "1.5.0",
          "state": {
            "_dom_classes": [],
            "_model_module": "@jupyter-widgets/controls",
            "_model_module_version": "1.5.0",
            "_model_name": "HBoxModel",
            "_view_count": null,
            "_view_module": "@jupyter-widgets/controls",
            "_view_module_version": "1.5.0",
            "_view_name": "HBoxView",
            "box_style": "",
            "children": [
              "IPY_MODEL_4c586c39d7244b33a426c0b3302d83e4",
              "IPY_MODEL_8a094fb29be84cb0a93609f8a91f16e2",
              "IPY_MODEL_f7ba0494f1394734918577b74b0437e5"
            ],
            "layout": "IPY_MODEL_7112791eab9d44f7873d6637a4f7a91d"
          }
        },
        "4c586c39d7244b33a426c0b3302d83e4": {
          "model_module": "@jupyter-widgets/controls",
          "model_name": "HTMLModel",
          "model_module_version": "1.5.0",
          "state": {
            "_dom_classes": [],
            "_model_module": "@jupyter-widgets/controls",
            "_model_module_version": "1.5.0",
            "_model_name": "HTMLModel",
            "_view_count": null,
            "_view_module": "@jupyter-widgets/controls",
            "_view_module_version": "1.5.0",
            "_view_name": "HTMLView",
            "description": "",
            "description_tooltip": null,
            "layout": "IPY_MODEL_07f86803bcbd4231ad3bd9a699723cd5",
            "placeholder": "​",
            "style": "IPY_MODEL_5a30980dc41d419b9e37e38ef3854605",
            "value": "Epoch 18 / 20: 100%"
          }
        },
        "8a094fb29be84cb0a93609f8a91f16e2": {
          "model_module": "@jupyter-widgets/controls",
          "model_name": "FloatProgressModel",
          "model_module_version": "1.5.0",
          "state": {
            "_dom_classes": [],
            "_model_module": "@jupyter-widgets/controls",
            "_model_module_version": "1.5.0",
            "_model_name": "FloatProgressModel",
            "_view_count": null,
            "_view_module": "@jupyter-widgets/controls",
            "_view_module_version": "1.5.0",
            "_view_name": "ProgressView",
            "bar_style": "success",
            "description": "",
            "description_tooltip": null,
            "layout": "IPY_MODEL_c6f8bc04a4084e7db8d7aef52be81bbd",
            "max": 12,
            "min": 0,
            "orientation": "horizontal",
            "style": "IPY_MODEL_e79993d70dae49748e9cb85d735844cb",
            "value": 12
          }
        },
        "f7ba0494f1394734918577b74b0437e5": {
          "model_module": "@jupyter-widgets/controls",
          "model_name": "HTMLModel",
          "model_module_version": "1.5.0",
          "state": {
            "_dom_classes": [],
            "_model_module": "@jupyter-widgets/controls",
            "_model_module_version": "1.5.0",
            "_model_name": "HTMLModel",
            "_view_count": null,
            "_view_module": "@jupyter-widgets/controls",
            "_view_module_version": "1.5.0",
            "_view_name": "HTMLView",
            "description": "",
            "description_tooltip": null,
            "layout": "IPY_MODEL_b5d3082276d2456b95f9be26edd4cea5",
            "placeholder": "​",
            "style": "IPY_MODEL_0d907e5158594852b9c73fe22c4ae5b4",
            "value": " 12/12 [00:00&lt;00:00, 56.56it/s]"
          }
        },
        "7112791eab9d44f7873d6637a4f7a91d": {
          "model_module": "@jupyter-widgets/base",
          "model_name": "LayoutModel",
          "model_module_version": "1.2.0",
          "state": {
            "_model_module": "@jupyter-widgets/base",
            "_model_module_version": "1.2.0",
            "_model_name": "LayoutModel",
            "_view_count": null,
            "_view_module": "@jupyter-widgets/base",
            "_view_module_version": "1.2.0",
            "_view_name": "LayoutView",
            "align_content": null,
            "align_items": null,
            "align_self": null,
            "border": null,
            "bottom": null,
            "display": null,
            "flex": null,
            "flex_flow": null,
            "grid_area": null,
            "grid_auto_columns": null,
            "grid_auto_flow": null,
            "grid_auto_rows": null,
            "grid_column": null,
            "grid_gap": null,
            "grid_row": null,
            "grid_template_areas": null,
            "grid_template_columns": null,
            "grid_template_rows": null,
            "height": null,
            "justify_content": null,
            "justify_items": null,
            "left": null,
            "margin": null,
            "max_height": null,
            "max_width": null,
            "min_height": null,
            "min_width": null,
            "object_fit": null,
            "object_position": null,
            "order": null,
            "overflow": null,
            "overflow_x": null,
            "overflow_y": null,
            "padding": null,
            "right": null,
            "top": null,
            "visibility": null,
            "width": null
          }
        },
        "07f86803bcbd4231ad3bd9a699723cd5": {
          "model_module": "@jupyter-widgets/base",
          "model_name": "LayoutModel",
          "model_module_version": "1.2.0",
          "state": {
            "_model_module": "@jupyter-widgets/base",
            "_model_module_version": "1.2.0",
            "_model_name": "LayoutModel",
            "_view_count": null,
            "_view_module": "@jupyter-widgets/base",
            "_view_module_version": "1.2.0",
            "_view_name": "LayoutView",
            "align_content": null,
            "align_items": null,
            "align_self": null,
            "border": null,
            "bottom": null,
            "display": null,
            "flex": null,
            "flex_flow": null,
            "grid_area": null,
            "grid_auto_columns": null,
            "grid_auto_flow": null,
            "grid_auto_rows": null,
            "grid_column": null,
            "grid_gap": null,
            "grid_row": null,
            "grid_template_areas": null,
            "grid_template_columns": null,
            "grid_template_rows": null,
            "height": null,
            "justify_content": null,
            "justify_items": null,
            "left": null,
            "margin": null,
            "max_height": null,
            "max_width": null,
            "min_height": null,
            "min_width": null,
            "object_fit": null,
            "object_position": null,
            "order": null,
            "overflow": null,
            "overflow_x": null,
            "overflow_y": null,
            "padding": null,
            "right": null,
            "top": null,
            "visibility": null,
            "width": null
          }
        },
        "5a30980dc41d419b9e37e38ef3854605": {
          "model_module": "@jupyter-widgets/controls",
          "model_name": "DescriptionStyleModel",
          "model_module_version": "1.5.0",
          "state": {
            "_model_module": "@jupyter-widgets/controls",
            "_model_module_version": "1.5.0",
            "_model_name": "DescriptionStyleModel",
            "_view_count": null,
            "_view_module": "@jupyter-widgets/base",
            "_view_module_version": "1.2.0",
            "_view_name": "StyleView",
            "description_width": ""
          }
        },
        "c6f8bc04a4084e7db8d7aef52be81bbd": {
          "model_module": "@jupyter-widgets/base",
          "model_name": "LayoutModel",
          "model_module_version": "1.2.0",
          "state": {
            "_model_module": "@jupyter-widgets/base",
            "_model_module_version": "1.2.0",
            "_model_name": "LayoutModel",
            "_view_count": null,
            "_view_module": "@jupyter-widgets/base",
            "_view_module_version": "1.2.0",
            "_view_name": "LayoutView",
            "align_content": null,
            "align_items": null,
            "align_self": null,
            "border": null,
            "bottom": null,
            "display": null,
            "flex": null,
            "flex_flow": null,
            "grid_area": null,
            "grid_auto_columns": null,
            "grid_auto_flow": null,
            "grid_auto_rows": null,
            "grid_column": null,
            "grid_gap": null,
            "grid_row": null,
            "grid_template_areas": null,
            "grid_template_columns": null,
            "grid_template_rows": null,
            "height": null,
            "justify_content": null,
            "justify_items": null,
            "left": null,
            "margin": null,
            "max_height": null,
            "max_width": null,
            "min_height": null,
            "min_width": null,
            "object_fit": null,
            "object_position": null,
            "order": null,
            "overflow": null,
            "overflow_x": null,
            "overflow_y": null,
            "padding": null,
            "right": null,
            "top": null,
            "visibility": null,
            "width": null
          }
        },
        "e79993d70dae49748e9cb85d735844cb": {
          "model_module": "@jupyter-widgets/controls",
          "model_name": "ProgressStyleModel",
          "model_module_version": "1.5.0",
          "state": {
            "_model_module": "@jupyter-widgets/controls",
            "_model_module_version": "1.5.0",
            "_model_name": "ProgressStyleModel",
            "_view_count": null,
            "_view_module": "@jupyter-widgets/base",
            "_view_module_version": "1.2.0",
            "_view_name": "StyleView",
            "bar_color": null,
            "description_width": ""
          }
        },
        "b5d3082276d2456b95f9be26edd4cea5": {
          "model_module": "@jupyter-widgets/base",
          "model_name": "LayoutModel",
          "model_module_version": "1.2.0",
          "state": {
            "_model_module": "@jupyter-widgets/base",
            "_model_module_version": "1.2.0",
            "_model_name": "LayoutModel",
            "_view_count": null,
            "_view_module": "@jupyter-widgets/base",
            "_view_module_version": "1.2.0",
            "_view_name": "LayoutView",
            "align_content": null,
            "align_items": null,
            "align_self": null,
            "border": null,
            "bottom": null,
            "display": null,
            "flex": null,
            "flex_flow": null,
            "grid_area": null,
            "grid_auto_columns": null,
            "grid_auto_flow": null,
            "grid_auto_rows": null,
            "grid_column": null,
            "grid_gap": null,
            "grid_row": null,
            "grid_template_areas": null,
            "grid_template_columns": null,
            "grid_template_rows": null,
            "height": null,
            "justify_content": null,
            "justify_items": null,
            "left": null,
            "margin": null,
            "max_height": null,
            "max_width": null,
            "min_height": null,
            "min_width": null,
            "object_fit": null,
            "object_position": null,
            "order": null,
            "overflow": null,
            "overflow_x": null,
            "overflow_y": null,
            "padding": null,
            "right": null,
            "top": null,
            "visibility": null,
            "width": null
          }
        },
        "0d907e5158594852b9c73fe22c4ae5b4": {
          "model_module": "@jupyter-widgets/controls",
          "model_name": "DescriptionStyleModel",
          "model_module_version": "1.5.0",
          "state": {
            "_model_module": "@jupyter-widgets/controls",
            "_model_module_version": "1.5.0",
            "_model_name": "DescriptionStyleModel",
            "_view_count": null,
            "_view_module": "@jupyter-widgets/base",
            "_view_module_version": "1.2.0",
            "_view_name": "StyleView",
            "description_width": ""
          }
        },
        "c6eef231fd7b46e180ffb964d943589b": {
          "model_module": "@jupyter-widgets/controls",
          "model_name": "HBoxModel",
          "model_module_version": "1.5.0",
          "state": {
            "_dom_classes": [],
            "_model_module": "@jupyter-widgets/controls",
            "_model_module_version": "1.5.0",
            "_model_name": "HBoxModel",
            "_view_count": null,
            "_view_module": "@jupyter-widgets/controls",
            "_view_module_version": "1.5.0",
            "_view_name": "HBoxView",
            "box_style": "",
            "children": [
              "IPY_MODEL_7ab0d67d7c3b4354adfe1643dfb3ee17",
              "IPY_MODEL_d14541f2043144488725045c473c5451",
              "IPY_MODEL_6524d7ca646b4740930be3ec372f9a19"
            ],
            "layout": "IPY_MODEL_0350d1f91868409abb527a6aea22876a"
          }
        },
        "7ab0d67d7c3b4354adfe1643dfb3ee17": {
          "model_module": "@jupyter-widgets/controls",
          "model_name": "HTMLModel",
          "model_module_version": "1.5.0",
          "state": {
            "_dom_classes": [],
            "_model_module": "@jupyter-widgets/controls",
            "_model_module_version": "1.5.0",
            "_model_name": "HTMLModel",
            "_view_count": null,
            "_view_module": "@jupyter-widgets/controls",
            "_view_module_version": "1.5.0",
            "_view_name": "HTMLView",
            "description": "",
            "description_tooltip": null,
            "layout": "IPY_MODEL_4e84cd7d216b427398206e3414c32cf8",
            "placeholder": "​",
            "style": "IPY_MODEL_51e4e9ed2ac540b2a83a97fcac883e02",
            "value": "Epoch 19 / 20: 100%"
          }
        },
        "d14541f2043144488725045c473c5451": {
          "model_module": "@jupyter-widgets/controls",
          "model_name": "FloatProgressModel",
          "model_module_version": "1.5.0",
          "state": {
            "_dom_classes": [],
            "_model_module": "@jupyter-widgets/controls",
            "_model_module_version": "1.5.0",
            "_model_name": "FloatProgressModel",
            "_view_count": null,
            "_view_module": "@jupyter-widgets/controls",
            "_view_module_version": "1.5.0",
            "_view_name": "ProgressView",
            "bar_style": "success",
            "description": "",
            "description_tooltip": null,
            "layout": "IPY_MODEL_888d6a55178543119d0e278630b36781",
            "max": 12,
            "min": 0,
            "orientation": "horizontal",
            "style": "IPY_MODEL_07354511badb48639be220be2459c7c9",
            "value": 12
          }
        },
        "6524d7ca646b4740930be3ec372f9a19": {
          "model_module": "@jupyter-widgets/controls",
          "model_name": "HTMLModel",
          "model_module_version": "1.5.0",
          "state": {
            "_dom_classes": [],
            "_model_module": "@jupyter-widgets/controls",
            "_model_module_version": "1.5.0",
            "_model_name": "HTMLModel",
            "_view_count": null,
            "_view_module": "@jupyter-widgets/controls",
            "_view_module_version": "1.5.0",
            "_view_name": "HTMLView",
            "description": "",
            "description_tooltip": null,
            "layout": "IPY_MODEL_5b42bb7a8511414ab743f787aef187e9",
            "placeholder": "​",
            "style": "IPY_MODEL_75ba7f73cb9e4ad7a1b312bae1fb9e2d",
            "value": " 12/12 [00:00&lt;00:00, 64.28it/s]"
          }
        },
        "0350d1f91868409abb527a6aea22876a": {
          "model_module": "@jupyter-widgets/base",
          "model_name": "LayoutModel",
          "model_module_version": "1.2.0",
          "state": {
            "_model_module": "@jupyter-widgets/base",
            "_model_module_version": "1.2.0",
            "_model_name": "LayoutModel",
            "_view_count": null,
            "_view_module": "@jupyter-widgets/base",
            "_view_module_version": "1.2.0",
            "_view_name": "LayoutView",
            "align_content": null,
            "align_items": null,
            "align_self": null,
            "border": null,
            "bottom": null,
            "display": null,
            "flex": null,
            "flex_flow": null,
            "grid_area": null,
            "grid_auto_columns": null,
            "grid_auto_flow": null,
            "grid_auto_rows": null,
            "grid_column": null,
            "grid_gap": null,
            "grid_row": null,
            "grid_template_areas": null,
            "grid_template_columns": null,
            "grid_template_rows": null,
            "height": null,
            "justify_content": null,
            "justify_items": null,
            "left": null,
            "margin": null,
            "max_height": null,
            "max_width": null,
            "min_height": null,
            "min_width": null,
            "object_fit": null,
            "object_position": null,
            "order": null,
            "overflow": null,
            "overflow_x": null,
            "overflow_y": null,
            "padding": null,
            "right": null,
            "top": null,
            "visibility": null,
            "width": null
          }
        },
        "4e84cd7d216b427398206e3414c32cf8": {
          "model_module": "@jupyter-widgets/base",
          "model_name": "LayoutModel",
          "model_module_version": "1.2.0",
          "state": {
            "_model_module": "@jupyter-widgets/base",
            "_model_module_version": "1.2.0",
            "_model_name": "LayoutModel",
            "_view_count": null,
            "_view_module": "@jupyter-widgets/base",
            "_view_module_version": "1.2.0",
            "_view_name": "LayoutView",
            "align_content": null,
            "align_items": null,
            "align_self": null,
            "border": null,
            "bottom": null,
            "display": null,
            "flex": null,
            "flex_flow": null,
            "grid_area": null,
            "grid_auto_columns": null,
            "grid_auto_flow": null,
            "grid_auto_rows": null,
            "grid_column": null,
            "grid_gap": null,
            "grid_row": null,
            "grid_template_areas": null,
            "grid_template_columns": null,
            "grid_template_rows": null,
            "height": null,
            "justify_content": null,
            "justify_items": null,
            "left": null,
            "margin": null,
            "max_height": null,
            "max_width": null,
            "min_height": null,
            "min_width": null,
            "object_fit": null,
            "object_position": null,
            "order": null,
            "overflow": null,
            "overflow_x": null,
            "overflow_y": null,
            "padding": null,
            "right": null,
            "top": null,
            "visibility": null,
            "width": null
          }
        },
        "51e4e9ed2ac540b2a83a97fcac883e02": {
          "model_module": "@jupyter-widgets/controls",
          "model_name": "DescriptionStyleModel",
          "model_module_version": "1.5.0",
          "state": {
            "_model_module": "@jupyter-widgets/controls",
            "_model_module_version": "1.5.0",
            "_model_name": "DescriptionStyleModel",
            "_view_count": null,
            "_view_module": "@jupyter-widgets/base",
            "_view_module_version": "1.2.0",
            "_view_name": "StyleView",
            "description_width": ""
          }
        },
        "888d6a55178543119d0e278630b36781": {
          "model_module": "@jupyter-widgets/base",
          "model_name": "LayoutModel",
          "model_module_version": "1.2.0",
          "state": {
            "_model_module": "@jupyter-widgets/base",
            "_model_module_version": "1.2.0",
            "_model_name": "LayoutModel",
            "_view_count": null,
            "_view_module": "@jupyter-widgets/base",
            "_view_module_version": "1.2.0",
            "_view_name": "LayoutView",
            "align_content": null,
            "align_items": null,
            "align_self": null,
            "border": null,
            "bottom": null,
            "display": null,
            "flex": null,
            "flex_flow": null,
            "grid_area": null,
            "grid_auto_columns": null,
            "grid_auto_flow": null,
            "grid_auto_rows": null,
            "grid_column": null,
            "grid_gap": null,
            "grid_row": null,
            "grid_template_areas": null,
            "grid_template_columns": null,
            "grid_template_rows": null,
            "height": null,
            "justify_content": null,
            "justify_items": null,
            "left": null,
            "margin": null,
            "max_height": null,
            "max_width": null,
            "min_height": null,
            "min_width": null,
            "object_fit": null,
            "object_position": null,
            "order": null,
            "overflow": null,
            "overflow_x": null,
            "overflow_y": null,
            "padding": null,
            "right": null,
            "top": null,
            "visibility": null,
            "width": null
          }
        },
        "07354511badb48639be220be2459c7c9": {
          "model_module": "@jupyter-widgets/controls",
          "model_name": "ProgressStyleModel",
          "model_module_version": "1.5.0",
          "state": {
            "_model_module": "@jupyter-widgets/controls",
            "_model_module_version": "1.5.0",
            "_model_name": "ProgressStyleModel",
            "_view_count": null,
            "_view_module": "@jupyter-widgets/base",
            "_view_module_version": "1.2.0",
            "_view_name": "StyleView",
            "bar_color": null,
            "description_width": ""
          }
        },
        "5b42bb7a8511414ab743f787aef187e9": {
          "model_module": "@jupyter-widgets/base",
          "model_name": "LayoutModel",
          "model_module_version": "1.2.0",
          "state": {
            "_model_module": "@jupyter-widgets/base",
            "_model_module_version": "1.2.0",
            "_model_name": "LayoutModel",
            "_view_count": null,
            "_view_module": "@jupyter-widgets/base",
            "_view_module_version": "1.2.0",
            "_view_name": "LayoutView",
            "align_content": null,
            "align_items": null,
            "align_self": null,
            "border": null,
            "bottom": null,
            "display": null,
            "flex": null,
            "flex_flow": null,
            "grid_area": null,
            "grid_auto_columns": null,
            "grid_auto_flow": null,
            "grid_auto_rows": null,
            "grid_column": null,
            "grid_gap": null,
            "grid_row": null,
            "grid_template_areas": null,
            "grid_template_columns": null,
            "grid_template_rows": null,
            "height": null,
            "justify_content": null,
            "justify_items": null,
            "left": null,
            "margin": null,
            "max_height": null,
            "max_width": null,
            "min_height": null,
            "min_width": null,
            "object_fit": null,
            "object_position": null,
            "order": null,
            "overflow": null,
            "overflow_x": null,
            "overflow_y": null,
            "padding": null,
            "right": null,
            "top": null,
            "visibility": null,
            "width": null
          }
        },
        "75ba7f73cb9e4ad7a1b312bae1fb9e2d": {
          "model_module": "@jupyter-widgets/controls",
          "model_name": "DescriptionStyleModel",
          "model_module_version": "1.5.0",
          "state": {
            "_model_module": "@jupyter-widgets/controls",
            "_model_module_version": "1.5.0",
            "_model_name": "DescriptionStyleModel",
            "_view_count": null,
            "_view_module": "@jupyter-widgets/base",
            "_view_module_version": "1.2.0",
            "_view_name": "StyleView",
            "description_width": ""
          }
        }
      }
    }
  },
  "cells": [
    {
      "cell_type": "markdown",
      "source": [
        "# **Introduction to PyTorch** - MLP and MNIST\n",
        "\n",
        "**AI in Medicine, KACST 2023**\n",
        "\n",
        "**Code by Ricardo Henao**  \n",
        "\n",
        "**June 11, 2023**  \n",
        "\n",
        "> In this notebook, we're going to gain familiarity with the PyTorch deep learning framework by building PyTorch models to perform handwritten digit classification."
      ],
      "metadata": {
        "id": "YDBdvOOpAbHr"
      }
    },
    {
      "cell_type": "markdown",
      "source": [
        "## **0. Packages required**\n",
        "\n",
        "In this example we will be using EHR synthetic data from [pyhealth](https://github.com/sunlabuiuc/PyHealth), so we are installing the package first "
      ],
      "metadata": {
        "id": "cRRUPUccAnL8"
      }
    },
    {
      "cell_type": "code",
      "source": [
        "!pip install pyhealth"
      ],
      "metadata": {
        "colab": {
          "base_uri": "https://localhost:8080/"
        },
        "id": "nqgEj3NDA2jf",
        "outputId": "586ffb4c-db4e-44f1-d04e-415f8dfabc9c"
      },
      "execution_count": 2,
      "outputs": [
        {
          "output_type": "stream",
          "name": "stdout",
          "text": [
            "Looking in indexes: https://pypi.org/simple, https://us-python.pkg.dev/colab-wheels/public/simple/\n",
            "Collecting pyhealth\n",
            "  Downloading pyhealth-1.1.4-py2.py3-none-any.whl (226 kB)\n",
            "\u001b[2K     \u001b[90m━━━━━━━━━━━━━━━━━━━━━━━━━━━━━━━━━━━━━━\u001b[0m \u001b[32m226.3/226.3 kB\u001b[0m \u001b[31m16.8 MB/s\u001b[0m eta \u001b[36m0:00:00\u001b[0m\n",
            "\u001b[?25hRequirement already satisfied: torch>=1.8.0 in /usr/local/lib/python3.10/dist-packages (from pyhealth) (2.0.1+cu118)\n",
            "Collecting rdkit>=2022.03.4 (from pyhealth)\n",
            "  Downloading rdkit-2023.3.1-cp310-cp310-manylinux_2_17_x86_64.manylinux2014_x86_64.whl (29.7 MB)\n",
            "\u001b[2K     \u001b[90m━━━━━━━━━━━━━━━━━━━━━━━━━━━━━━━━━━━━━━━━\u001b[0m \u001b[32m29.7/29.7 MB\u001b[0m \u001b[31m68.1 MB/s\u001b[0m eta \u001b[36m0:00:00\u001b[0m\n",
            "\u001b[?25hRequirement already satisfied: scikit-learn>=0.24.2 in /usr/local/lib/python3.10/dist-packages (from pyhealth) (1.2.2)\n",
            "Requirement already satisfied: networkx>=2.6.3 in /usr/local/lib/python3.10/dist-packages (from pyhealth) (3.1)\n",
            "Requirement already satisfied: pandas<2,>=1.3.2 in /usr/local/lib/python3.10/dist-packages (from pyhealth) (1.5.3)\n",
            "Collecting pandarallel>=1.5.3 (from pyhealth)\n",
            "  Downloading pandarallel-1.6.5.tar.gz (14 kB)\n",
            "  Preparing metadata (setup.py) ... \u001b[?25l\u001b[?25hdone\n",
            "Collecting mne>=1.0.3 (from pyhealth)\n",
            "  Downloading mne-1.4.2-py3-none-any.whl (7.7 MB)\n",
            "\u001b[2K     \u001b[90m━━━━━━━━━━━━━━━━━━━━━━━━━━━━━━━━━━━━━━━━\u001b[0m \u001b[32m7.7/7.7 MB\u001b[0m \u001b[31m136.6 MB/s\u001b[0m eta \u001b[36m0:00:00\u001b[0m\n",
            "\u001b[?25hRequirement already satisfied: urllib3<=1.26.15 in /usr/local/lib/python3.10/dist-packages (from pyhealth) (1.26.15)\n",
            "Requirement already satisfied: numpy in /usr/local/lib/python3.10/dist-packages (from pyhealth) (1.22.4)\n",
            "Requirement already satisfied: tqdm in /usr/local/lib/python3.10/dist-packages (from pyhealth) (4.65.0)\n",
            "Requirement already satisfied: scipy>=1.6.3 in /usr/local/lib/python3.10/dist-packages (from mne>=1.0.3->pyhealth) (1.10.1)\n",
            "Requirement already satisfied: matplotlib>=3.4.0 in /usr/local/lib/python3.10/dist-packages (from mne>=1.0.3->pyhealth) (3.7.1)\n",
            "Requirement already satisfied: pooch>=1.5 in /usr/local/lib/python3.10/dist-packages (from mne>=1.0.3->pyhealth) (1.6.0)\n",
            "Requirement already satisfied: decorator in /usr/local/lib/python3.10/dist-packages (from mne>=1.0.3->pyhealth) (4.4.2)\n",
            "Requirement already satisfied: packaging in /usr/local/lib/python3.10/dist-packages (from mne>=1.0.3->pyhealth) (23.1)\n",
            "Requirement already satisfied: jinja2 in /usr/local/lib/python3.10/dist-packages (from mne>=1.0.3->pyhealth) (3.1.2)\n",
            "Collecting dill>=0.3.1 (from pandarallel>=1.5.3->pyhealth)\n",
            "  Downloading dill-0.3.6-py3-none-any.whl (110 kB)\n",
            "\u001b[2K     \u001b[90m━━━━━━━━━━━━━━━━━━━━━━━━━━━━━━━━━━━━━━\u001b[0m \u001b[32m110.5/110.5 kB\u001b[0m \u001b[31m16.7 MB/s\u001b[0m eta \u001b[36m0:00:00\u001b[0m\n",
            "\u001b[?25hRequirement already satisfied: psutil in /usr/local/lib/python3.10/dist-packages (from pandarallel>=1.5.3->pyhealth) (5.9.5)\n",
            "Requirement already satisfied: python-dateutil>=2.8.1 in /usr/local/lib/python3.10/dist-packages (from pandas<2,>=1.3.2->pyhealth) (2.8.2)\n",
            "Requirement already satisfied: pytz>=2020.1 in /usr/local/lib/python3.10/dist-packages (from pandas<2,>=1.3.2->pyhealth) (2022.7.1)\n",
            "Requirement already satisfied: Pillow in /usr/local/lib/python3.10/dist-packages (from rdkit>=2022.03.4->pyhealth) (8.4.0)\n",
            "Requirement already satisfied: joblib>=1.1.1 in /usr/local/lib/python3.10/dist-packages (from scikit-learn>=0.24.2->pyhealth) (1.2.0)\n",
            "Requirement already satisfied: threadpoolctl>=2.0.0 in /usr/local/lib/python3.10/dist-packages (from scikit-learn>=0.24.2->pyhealth) (3.1.0)\n",
            "Requirement already satisfied: filelock in /usr/local/lib/python3.10/dist-packages (from torch>=1.8.0->pyhealth) (3.12.0)\n",
            "Requirement already satisfied: typing-extensions in /usr/local/lib/python3.10/dist-packages (from torch>=1.8.0->pyhealth) (4.5.0)\n",
            "Requirement already satisfied: sympy in /usr/local/lib/python3.10/dist-packages (from torch>=1.8.0->pyhealth) (1.11.1)\n",
            "Requirement already satisfied: triton==2.0.0 in /usr/local/lib/python3.10/dist-packages (from torch>=1.8.0->pyhealth) (2.0.0)\n",
            "Requirement already satisfied: cmake in /usr/local/lib/python3.10/dist-packages (from triton==2.0.0->torch>=1.8.0->pyhealth) (3.25.2)\n",
            "Requirement already satisfied: lit in /usr/local/lib/python3.10/dist-packages (from triton==2.0.0->torch>=1.8.0->pyhealth) (16.0.5)\n",
            "Requirement already satisfied: contourpy>=1.0.1 in /usr/local/lib/python3.10/dist-packages (from matplotlib>=3.4.0->mne>=1.0.3->pyhealth) (1.0.7)\n",
            "Requirement already satisfied: cycler>=0.10 in /usr/local/lib/python3.10/dist-packages (from matplotlib>=3.4.0->mne>=1.0.3->pyhealth) (0.11.0)\n",
            "Requirement already satisfied: fonttools>=4.22.0 in /usr/local/lib/python3.10/dist-packages (from matplotlib>=3.4.0->mne>=1.0.3->pyhealth) (4.39.3)\n",
            "Requirement already satisfied: kiwisolver>=1.0.1 in /usr/local/lib/python3.10/dist-packages (from matplotlib>=3.4.0->mne>=1.0.3->pyhealth) (1.4.4)\n",
            "Requirement already satisfied: pyparsing>=2.3.1 in /usr/local/lib/python3.10/dist-packages (from matplotlib>=3.4.0->mne>=1.0.3->pyhealth) (3.0.9)\n",
            "Requirement already satisfied: appdirs>=1.3.0 in /usr/local/lib/python3.10/dist-packages (from pooch>=1.5->mne>=1.0.3->pyhealth) (1.4.4)\n",
            "Requirement already satisfied: requests>=2.19.0 in /usr/local/lib/python3.10/dist-packages (from pooch>=1.5->mne>=1.0.3->pyhealth) (2.27.1)\n",
            "Requirement already satisfied: six>=1.5 in /usr/local/lib/python3.10/dist-packages (from python-dateutil>=2.8.1->pandas<2,>=1.3.2->pyhealth) (1.16.0)\n",
            "Requirement already satisfied: MarkupSafe>=2.0 in /usr/local/lib/python3.10/dist-packages (from jinja2->mne>=1.0.3->pyhealth) (2.1.2)\n",
            "Requirement already satisfied: mpmath>=0.19 in /usr/local/lib/python3.10/dist-packages (from sympy->torch>=1.8.0->pyhealth) (1.3.0)\n",
            "Requirement already satisfied: certifi>=2017.4.17 in /usr/local/lib/python3.10/dist-packages (from requests>=2.19.0->pooch>=1.5->mne>=1.0.3->pyhealth) (2022.12.7)\n",
            "Requirement already satisfied: charset-normalizer~=2.0.0 in /usr/local/lib/python3.10/dist-packages (from requests>=2.19.0->pooch>=1.5->mne>=1.0.3->pyhealth) (2.0.12)\n",
            "Requirement already satisfied: idna<4,>=2.5 in /usr/local/lib/python3.10/dist-packages (from requests>=2.19.0->pooch>=1.5->mne>=1.0.3->pyhealth) (3.4)\n",
            "Building wheels for collected packages: pandarallel\n",
            "  Building wheel for pandarallel (setup.py) ... \u001b[?25l\u001b[?25hdone\n",
            "  Created wheel for pandarallel: filename=pandarallel-1.6.5-py3-none-any.whl size=16677 sha256=356a0966df8cff601dd9f0e872d91d1fa867741e6b0199510fa5ff59b66bb097\n",
            "  Stored in directory: /root/.cache/pip/wheels/50/4f/1e/34e057bb868842209f1623f195b74fd7eda229308a7352d47f\n",
            "Successfully built pandarallel\n",
            "Installing collected packages: rdkit, dill, pandarallel, mne, pyhealth\n",
            "Successfully installed dill-0.3.6 mne-1.4.2 pandarallel-1.6.5 pyhealth-1.1.4 rdkit-2023.3.1\n"
          ]
        }
      ]
    },
    {
      "cell_type": "markdown",
      "source": [
        "Below we instantiate the MLP class that we will be using to train the model on EHR data. The code has been slightly modified from the [pyhealth](https://github.com/sunlabuiuc/PyHealth/blob/master/pyhealth/models/mlp.py) source code."
      ],
      "metadata": {
        "id": "1RI4fkOKiHYt"
      }
    },
    {
      "cell_type": "code",
      "source": [
        "from typing import Dict, List, Optional, Tuple\n",
        "\n",
        "import torch\n",
        "import torch.nn as nn\n",
        "\n",
        "from pyhealth.datasets import SampleEHRDataset\n",
        "from pyhealth.models import BaseModel\n",
        "\n",
        "\n",
        "class MLP(BaseModel):\n",
        "    \"\"\"Multi-layer perceptron model.\n",
        "\n",
        "    This model applies a separate MLP layer for each feature, and then concatenates\n",
        "    the final hidden states of each MLP layer. The concatenated hidden states are\n",
        "    then fed into a fully connected layer to make predictions.\n",
        "\n",
        "    Note:\n",
        "        We use separate MLP layers for different feature_keys.\n",
        "        Currentluy, we automatically support different input formats:\n",
        "            - code based input (need to use the embedding table later)\n",
        "            - float/int based value input\n",
        "        We follow the current convention for the rnn model:\n",
        "            - case 1. [code1, code2, code3, ...]\n",
        "                - we will assume the code follows the order; our model will encode\n",
        "                each code into a vector; we use mean/sum pooling and then MLP\n",
        "            - case 2. [[code1, code2]] or [[code1, code2], [code3, code4, code5], ...]\n",
        "                - we first use the embedding table to encode each code into a vector\n",
        "                and then use mean/sum pooling to get one vector for each sample; we then\n",
        "                use MLP layers\n",
        "            - case 3. [1.5, 2.0, 0.0]\n",
        "                - we run MLP directly\n",
        "            - case 4. [[1.5, 2.0, 0.0]] or [[1.5, 2.0, 0.0], [8, 1.2, 4.5], ...]\n",
        "                - This case only makes sense when each inner bracket has the same length;\n",
        "                we assume each dimension has the same meaning; we use mean/sum pooling\n",
        "                within each outer bracket and use MLP, similar to case 1 after embedding table\n",
        "            - case 5. [[[1.5, 2.0, 0.0]]] or [[[1.5, 2.0, 0.0], [8, 1.2, 4.5]], ...]\n",
        "                - This case only makes sense when each inner bracket has the same length;\n",
        "                we assume each dimension has the same meaning; we use mean/sum pooling\n",
        "                within each outer bracket and use MLP, similar to case 2 after embedding table\n",
        "\n",
        "    Args:\n",
        "        dataset: the dataset to train the model. It is used to query certain\n",
        "            information such as the set of all tokens.\n",
        "        feature_keys:  list of keys in samples to use as features,\n",
        "            e.g. [\"conditions\", \"procedures\"].\n",
        "        label_key: key in samples to use as label (e.g., \"drugs\").\n",
        "        mode: one of \"binary\", \"multiclass\", or \"multilabel\".\n",
        "        embedding_dim: the embedding dimension. Default is 128.\n",
        "        hidden_dim: the hidden dimension. Default is 128.\n",
        "        n_layers: the number of layers. Default is 2.\n",
        "        activation: the activation function. Default is \"relu\".\n",
        "        **kwargs: other parameters for the RNN layer.\n",
        "\n",
        "    Examples:\n",
        "        >>> from pyhealth.datasets import SampleEHRDataset\n",
        "        >>> samples = [\n",
        "        ...         {\n",
        "        ...             \"patient_id\": \"patient-0\",\n",
        "        ...             \"visit_id\": \"visit-0\",\n",
        "        ...             \"conditions\": [\"cond-33\", \"cond-86\", \"cond-80\"],\n",
        "        ...             \"procedures\": [1.0, 2.0, 3.5, 4],\n",
        "        ...             \"label\": 0,\n",
        "        ...         },\n",
        "        ...         {\n",
        "        ...             \"patient_id\": \"patient-0\",\n",
        "        ...             \"visit_id\": \"visit-0\",\n",
        "        ...             \"conditions\": [\"cond-33\", \"cond-86\", \"cond-80\"],\n",
        "        ...             \"procedures\": [5.0, 2.0, 3.5, 4],\n",
        "        ...             \"label\": 1,\n",
        "        ...         },\n",
        "        ...     ]\n",
        "        >>> dataset = SampleEHRDataset(samples=samples, dataset_name=\"test\")\n",
        "        >>>\n",
        "        >>> from pyhealth.models import MLP\n",
        "        >>> model = MLP(\n",
        "        ...         dataset=dataset,\n",
        "        ...         feature_keys=[\"conditions\", \"procedures\"],\n",
        "        ...         label_key=\"label\",\n",
        "        ...         mode=\"binary\",\n",
        "        ...     )\n",
        "        >>>\n",
        "        >>> from pyhealth.datasets import get_dataloader\n",
        "        >>> train_loader = get_dataloader(dataset, batch_size=2, shuffle=True)\n",
        "        >>> data_batch = next(iter(train_loader))\n",
        "        >>>\n",
        "        >>> ret = model(**data_batch)\n",
        "        >>> print(ret)\n",
        "        {\n",
        "            'loss': tensor(0.6659, grad_fn=<BinaryCrossEntropyWithLogitsBackward0>),\n",
        "            'y_prob': tensor([[0.5680],\n",
        "                            [0.5352]], grad_fn=<SigmoidBackward0>),\n",
        "            'y_true': tensor([[1.],\n",
        "                            [0.]]),\n",
        "            'logit': tensor([[0.2736],\n",
        "                            [0.1411]], grad_fn=<AddmmBackward0>)\n",
        "        }\n",
        "        >>>\n",
        "\n",
        "    \"\"\"\n",
        "\n",
        "    def __init__(\n",
        "        self,\n",
        "        dataset: SampleEHRDataset,\n",
        "        feature_keys: List[str],\n",
        "        label_key: str,\n",
        "        mode: str,\n",
        "        embedding_dim: int = 128,\n",
        "        hidden_dim: int = 128,\n",
        "        n_layers: int = 2,\n",
        "        activation: str = \"relu\",\n",
        "        **kwargs,\n",
        "    ):\n",
        "        super(MLP, self).__init__(\n",
        "            dataset=dataset,\n",
        "            feature_keys=feature_keys,\n",
        "            label_key=label_key,\n",
        "            mode=mode,\n",
        "        )\n",
        "        self.embedding_dim = embedding_dim\n",
        "        self.hidden_dim = hidden_dim\n",
        "        self.n_layers = n_layers\n",
        "\n",
        "        # validate kwargs for RNN layer\n",
        "        if \"input_size\" in kwargs:\n",
        "            raise ValueError(\"input_size is determined by embedding_dim\")\n",
        "        if \"hidden_size\" in kwargs:\n",
        "            raise ValueError(\"hidden_size is determined by hidden_dim\")\n",
        "\n",
        "        # the key of self.feat_tokenizers only contains the code based inputs\n",
        "        self.feat_tokenizers = {}\n",
        "        self.label_tokenizer = self.get_label_tokenizer()\n",
        "        # the key of self.embeddings only contains the code based inputs\n",
        "        self.embeddings = nn.ModuleDict()\n",
        "        # the key of self.linear_layers only contains the float/int based inputs\n",
        "        self.linear_layers = nn.ModuleDict()\n",
        "\n",
        "        # add feature MLP layers\n",
        "        for feature_key in self.feature_keys:\n",
        "            input_info = self.dataset.input_info[feature_key]\n",
        "            # sanity check\n",
        "            if input_info[\"type\"] not in [str, float, int]:\n",
        "                raise ValueError(\n",
        "                    \"MLP only supports str code, float and int as input types\"\n",
        "                )\n",
        "            elif (input_info[\"type\"] == str) and (input_info[\"dim\"] not in [1, 2, 3]):\n",
        "                raise ValueError(\n",
        "                    \"MLP only supports 1-dim or 2-dim str code as input types\"\n",
        "                )\n",
        "            elif (input_info[\"type\"] in [float, int]) and (\n",
        "                input_info[\"dim\"] not in [1, 2, 3]\n",
        "            ):\n",
        "                raise ValueError(\n",
        "                    \"MLP only supports 1-dim, 2-dim or 3-dim float and int as input types\"\n",
        "                )\n",
        "            # for code based input, we need Type\n",
        "            # for float/int based input, we need Type, input_dim\n",
        "            self.add_feature_transform_layer(feature_key, input_info)\n",
        "\n",
        "        if activation == \"relu\":\n",
        "            self.activation = nn.ReLU()\n",
        "        elif activation == \"tanh\":\n",
        "            self.activation = nn.Tanh()\n",
        "        elif activation == \"sigmoid\":\n",
        "            self.activation = nn.Sigmoid()\n",
        "        elif activation == \"leaky_relu\":\n",
        "            self.activation = nn.LeakyReLU()\n",
        "        elif activation == \"elu\":\n",
        "            self.activation = nn.ELU()\n",
        "        else:\n",
        "            raise ValueError(f\"Unsupported activation function {activation}\")\n",
        "\n",
        "        self.mlp = nn.ModuleDict()\n",
        "        for feature_key in feature_keys:\n",
        "            Modules = []\n",
        "            Modules.append(nn.Linear(self.embedding_dim, self.hidden_dim))\n",
        "            for _ in range(self.n_layers - 1):\n",
        "                Modules.append(self.activation)\n",
        "                Modules.append(nn.Linear(self.hidden_dim, self.hidden_dim))\n",
        "            self.mlp[feature_key] = nn.Sequential(*Modules)\n",
        "\n",
        "        output_size = self.get_output_size(self.label_tokenizer)\n",
        "        self.fc = nn.Linear(len(self.feature_keys) * self.hidden_dim, output_size)\n",
        "\n",
        "    @staticmethod\n",
        "    def mean_pooling(x, mask):\n",
        "        \"\"\"Mean pooling over the middle dimension of the tensor.\n",
        "        Args:\n",
        "            x: tensor of shape (batch_size, seq_len, embedding_dim)\n",
        "            mask: tensor of shape (batch_size, seq_len)\n",
        "        Returns:\n",
        "            x: tensor of shape (batch_size, embedding_dim)\n",
        "        Examples:\n",
        "            >>> x.shape\n",
        "            [128, 5, 32]\n",
        "            >>> mean_pooling(x).shape\n",
        "            [128, 32]\n",
        "        \"\"\"\n",
        "        return x.sum(dim=1) / mask.sum(dim=1, keepdim=True)\n",
        "\n",
        "    @staticmethod\n",
        "    def sum_pooling(x):\n",
        "        \"\"\"Mean pooling over the middle dimension of the tensor.\n",
        "        Args:\n",
        "            x: tensor of shape (batch_size, seq_len, embedding_dim)\n",
        "            mask: tensor of shape (batch_size, seq_len)\n",
        "        Returns:\n",
        "            x: tensor of shape (batch_size, embedding_dim)\n",
        "        Examples:\n",
        "            >>> x.shape\n",
        "            [128, 5, 32]\n",
        "            >>> sum_pooling(x).shape\n",
        "            [128, 32]\n",
        "        \"\"\"\n",
        "        return x.sum(dim=1)\n",
        "\n",
        "    def forward(self, **kwargs) -> Dict[str, torch.Tensor]:\n",
        "        \"\"\"Forward propagation.\n",
        "\n",
        "        The label `kwargs[self.label_key]` is a list of labels for each patient.\n",
        "\n",
        "        Args:\n",
        "            **kwargs: keyword arguments for the model. The keys must contain\n",
        "                all the feature keys and the label key.\n",
        "\n",
        "        Returns:\n",
        "            A dictionary with the following keys:\n",
        "                loss: a scalar tensor representing the loss.\n",
        "                y_prob: a tensor representing the predicted probabilities.\n",
        "                y_true: a tensor representing the true labels.\n",
        "        \"\"\"\n",
        "        patient_emb = []\n",
        "        for feature_key in self.feature_keys:\n",
        "            input_info = self.dataset.input_info[feature_key]\n",
        "            dim_, type_ = input_info[\"dim\"], input_info[\"type\"]\n",
        "\n",
        "            # for case 1: [code1, code2, code3, ...]\n",
        "            if (dim_ == 2) and (type_ == str):\n",
        "                x = self.feat_tokenizers[feature_key].batch_encode_2d(\n",
        "                    kwargs[feature_key]\n",
        "                )\n",
        "                # (patient, event)\n",
        "                x = torch.tensor(x, dtype=torch.long, device=self.device)\n",
        "                # (patient, event, embedding_dim)\n",
        "                x = self.embeddings[feature_key](x)\n",
        "                # (patient, event)\n",
        "                mask = torch.any(x !=0, dim=2)\n",
        "                # (patient, embedding_dim)\n",
        "                x = self.mean_pooling(x, mask)\n",
        "\n",
        "            # for case 2: [[code1, code2], [code3, ...], ...]\n",
        "            elif (dim_ == 3) and (type_ == str):\n",
        "                x = self.feat_tokenizers[feature_key].batch_encode_3d(\n",
        "                    kwargs[feature_key]\n",
        "                )\n",
        "                # (patient, visit, event)\n",
        "                x = torch.tensor(x, dtype=torch.long, device=self.device)\n",
        "                # (patient, visit, event, embedding_dim)\n",
        "                x = self.embeddings[feature_key](x)\n",
        "                # (patient, visit, embedding_dim)\n",
        "                x = torch.sum(x, dim=2)\n",
        "                # (patient, visit)\n",
        "                mask = torch.any(x !=0, dim=2)\n",
        "                # (patient, embedding_dim)\n",
        "                x = self.mean_pooling(x, mask)\n",
        "\n",
        "            # for case 3: [1.5, 2.0, 0.0]\n",
        "            elif (dim_ == 1) and (type_ in [float, int]):\n",
        "                # (patient, values)\n",
        "                x = torch.tensor(\n",
        "                    kwargs[feature_key], dtype=torch.float, device=self.device\n",
        "                )\n",
        "                # (patient, embedding_dim)\n",
        "                x = self.linear_layers[feature_key](x)\n",
        "\n",
        "            # for case 4: [[1.5, 2.0, 0.0], ...]\n",
        "            elif (dim_ == 2) and (type_ in [float, int]):\n",
        "                x, mask = self.padding2d(kwargs[feature_key])\n",
        "                # (patient, event, values)\n",
        "                x = torch.tensor(x, dtype=torch.float, device=self.device)\n",
        "                # (patient, event, embedding_dim)\n",
        "                x = self.linear_layers[feature_key](x)\n",
        "                # (patient, event)\n",
        "                mask = torch.tensor(mask, dtype=torch.bool, device=self.device)\n",
        "                # (patient, embedding_dim)\n",
        "                x = self.mean_pooling(x, mask)\n",
        "\n",
        "            # for case 5: [[[1.5, 2.0, 0.0], [1.8, 2.4, 6.0]], ...]\n",
        "            elif (dim_ == 3) and (type_ in [float, int]):\n",
        "                x, mask = self.padding3d(kwargs[feature_key])\n",
        "                # (patient, visit, event, values)\n",
        "                x = torch.tensor(x, dtype=torch.float, device=self.device)\n",
        "                # (patient, visit, embedding_dim)\n",
        "                x = self.linear_layers[feature_key](x)\n",
        "                # (patient, event)\n",
        "                mask = torch.tensor(mask, dtype=torch.bool, device=self.device)\n",
        "                # (patient, embedding_dim)\n",
        "                x = self.mean_pooling(x, mask)\n",
        "\n",
        "            else:\n",
        "                raise NotImplementedError\n",
        "\n",
        "            x = self.mlp[feature_key](x)\n",
        "            patient_emb.append(x)\n",
        "\n",
        "        patient_emb = torch.cat(patient_emb, dim=1)\n",
        "        # (patient, label_size)\n",
        "        logits = self.fc(patient_emb)\n",
        "        # obtain y_true, loss, y_prob\n",
        "        y_true = self.prepare_labels(kwargs[self.label_key], self.label_tokenizer)\n",
        "        loss = self.get_loss_function()(logits, y_true)\n",
        "        y_prob = self.prepare_y_prob(logits)\n",
        "        results = {\n",
        "            \"loss\": loss,\n",
        "            \"y_prob\": y_prob,\n",
        "            \"y_true\": y_true,\n",
        "            \"logit\": logits,\n",
        "        }\n",
        "        if kwargs.get(\"embed\", False):\n",
        "            results[\"embed\"] = patient_emb\n",
        "        return results"
      ],
      "metadata": {
        "id": "gDImiAEriBgG"
      },
      "execution_count": 3,
      "outputs": []
    },
    {
      "cell_type": "markdown",
      "source": [
        "## **1. Setting Up the Enivronment**"
      ],
      "metadata": {
        "id": "ydXUWnfABGYG"
      }
    },
    {
      "cell_type": "markdown",
      "source": [
        "### 1.1. Import utilities\n",
        "\n",
        "First, we need to import necessary libraries, modules, and functions we'll use throughout this tutorial. We are only using functions from the [pyhealth](https://github.com/sunlabuiuc/PyHealth) package, which implement dataset instantiation, processing, data loader creation and model training via [pytorch](https://pytorch.org/)."
      ],
      "metadata": {
        "id": "U9YiRmboBHPZ"
      }
    },
    {
      "cell_type": "code",
      "source": [
        "# Define random state\n",
        "random_state = 0\n",
        "\n",
        "# Import libraries, modules, and functions\n",
        "from pyhealth.datasets import MIMIC3Dataset\n",
        "from pyhealth.tasks import length_of_stay_prediction_mimic3_fn\n",
        "from pyhealth.datasets.splitter import split_by_patient\n",
        "from pyhealth.datasets import split_by_patient, get_dataloader\n",
        "from pyhealth.trainer import Trainer\n",
        "from pyhealth.medcode import InnerMap\n",
        "from pyhealth.metrics.multiclass import multiclass_metrics_fn"
      ],
      "metadata": {
        "id": "FQg2Y3aWBQBq",
        "outputId": "70eeff46-a427-426d-fc00-54615ba635a9",
        "colab": {
          "base_uri": "https://localhost:8080/"
        }
      },
      "execution_count": 4,
      "outputs": [
        {
          "output_type": "stream",
          "name": "stderr",
          "text": [
            "/usr/local/lib/python3.10/dist-packages/pyhealth/trainer.py:12: TqdmExperimentalWarning: Using `tqdm.autonotebook.tqdm` in notebook mode. Use `tqdm.tqdm` instead to force console mode (e.g. in jupyter console)\n",
            "  from tqdm.autonotebook import trange\n"
          ]
        }
      ]
    },
    {
      "cell_type": "markdown",
      "source": [
        "## **2. Loading and Preparing the Data**\n",
        "\n",
        "One of the first (and often most important) steps in a machine learning pipeline is preparing the data. Here, we will load an artificial dataset based on [MIMIC-III](https://physionet.org/content/mimiciii/1.4/) EHR data."
      ],
      "metadata": {
        "id": "8Hd3J9YFBinY"
      }
    },
    {
      "cell_type": "markdown",
      "source": [
        "### 2.1. Load EHR data\n",
        "\n",
        "For additional details about the datasets see [pyhealth.datasets](https://pyhealth.readthedocs.io/en/latest/api/datasets.html). The library currently provides [MIMIC3Dataset](https://pyhealth.readthedocs.io/en/latest/api/datasets/pyhealth.datasets.MIMIC3Dataset.html), [MIMIC4Dataset](https://pyhealth.readthedocs.io/en/latest/api/datasets/pyhealth.datasets.MIMIC4Dataset.html), [eICUDataset](https://pyhealth.readthedocs.io/en/latest/api/datasets/pyhealth.datasets.eICUDataset.html), [OMOPDataset](https://pyhealth.readthedocs.io/en/latest/api/datasets/pyhealth.datasets.OMOPDataset.html)."
      ],
      "metadata": {
        "id": "Z94BdeBNCd79"
      }
    },
    {
      "cell_type": "code",
      "source": [
        "mimic3_ds = MIMIC3Dataset(\n",
        "        root=\"https://storage.googleapis.com/pyhealth/Synthetic_MIMIC-III/\",\n",
        "        tables=[\"DIAGNOSES_ICD\", \"PROCEDURES_ICD\", \"PRESCRIPTIONS\"],\n",
        "        code_mapping={},\n",
        "        dev=True,\n",
        ")\n",
        "\n",
        "mimic3_ds.stat()"
      ],
      "metadata": {
        "colab": {
          "base_uri": "https://localhost:8080/",
          "height": 348
        },
        "id": "Hdmvzbz0Bnhc",
        "outputId": "0fe8f09a-3b81-4194-8b40-843bedf96334"
      },
      "execution_count": 5,
      "outputs": [
        {
          "output_type": "stream",
          "name": "stdout",
          "text": [
            "INFO: Pandarallel will run on 1 workers.\n",
            "INFO: Pandarallel will use Memory file system to transfer data between the main process and workers.\n",
            "finish basic patient information parsing : 1.9789574146270752s\n",
            "finish parsing DIAGNOSES_ICD : 1.519651174545288s\n",
            "finish parsing PROCEDURES_ICD : 1.0078527927398682s\n",
            "finish parsing PRESCRIPTIONS : 6.417688846588135s\n"
          ]
        },
        {
          "output_type": "stream",
          "name": "stderr",
          "text": [
            "Mapping codes: 100%|██████████| 1000/1000 [00:00<00:00, 42316.70it/s]"
          ]
        },
        {
          "output_type": "stream",
          "name": "stdout",
          "text": [
            "\n",
            "Statistics of base dataset (dev=True):\n",
            "\t- Dataset: MIMIC3Dataset\n",
            "\t- Number of patients: 1000\n",
            "\t- Number of visits: 1054\n",
            "\t- Number of visits per patient: 1.0540\n",
            "\t- Number of events per visit in DIAGNOSES_ICD: 9.2068\n",
            "\t- Number of events per visit in PROCEDURES_ICD: 3.0380\n",
            "\t- Number of events per visit in PRESCRIPTIONS: 29.2457\n",
            "\n"
          ]
        },
        {
          "output_type": "stream",
          "name": "stderr",
          "text": [
            "\n"
          ]
        },
        {
          "output_type": "execute_result",
          "data": {
            "text/plain": [
              "'\\nStatistics of base dataset (dev=True):\\n\\t- Dataset: MIMIC3Dataset\\n\\t- Number of patients: 1000\\n\\t- Number of visits: 1054\\n\\t- Number of visits per patient: 1.0540\\n\\t- Number of events per visit in DIAGNOSES_ICD: 9.2068\\n\\t- Number of events per visit in PROCEDURES_ICD: 3.0380\\n\\t- Number of events per visit in PRESCRIPTIONS: 29.2457\\n'"
            ],
            "application/vnd.google.colaboratory.intrinsic+json": {
              "type": "string"
            }
          },
          "metadata": {},
          "execution_count": 5
        }
      ]
    },
    {
      "cell_type": "markdown",
      "source": [
        "### 2.1. EHR data structure\n",
        "\n",
        "The dataset is organized in a hierarchical way where patients have multiple visits and each visit has multiple events. Each level has its own data, namely, patient data, visit data and event data (diagnosos, procedures and medications in the example above).\n",
        "\n",
        "The image below is taken from [pyhealth](https://pyhealth.readthedocs.io/en/latest/tutorials.html)"
      ],
      "metadata": {
        "id": "_5ICr-ScCtHj"
      }
    },
    {
      "cell_type": "markdown",
      "source": [
        "![image.png](data:image/png;base64,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)"
      ],
      "metadata": {
        "id": "np2YJSLjDXM0"
      }
    },
    {
      "cell_type": "markdown",
      "source": [
        "## 2.3 Dataset Information\n",
        "\n",
        "Below we examine the structure of the dataset, which is organized into patients, visits and events."
      ],
      "metadata": {
        "id": "ukTs3RGmdhLP"
      }
    },
    {
      "cell_type": "code",
      "source": [
        "mimic3_ds.info()"
      ],
      "metadata": {
        "colab": {
          "base_uri": "https://localhost:8080/"
        },
        "id": "O1pvC1gRCRbL",
        "outputId": "2e2515f9-4c1b-435e-e470-973432c1fa62"
      },
      "execution_count": 6,
      "outputs": [
        {
          "output_type": "stream",
          "name": "stdout",
          "text": [
            "\n",
            "dataset.patients: patient_id -> <Patient>\n",
            "\n",
            "<Patient>\n",
            "    - visits: visit_id -> <Visit> \n",
            "    - other patient-level info\n",
            "    \n",
            "    <Visit>\n",
            "        - event_list_dict: table_name -> List[Event]\n",
            "        - other visit-level info\n",
            "    \n",
            "        <Event>\n",
            "            - code: str\n",
            "            - other event-level info\n",
            "\n"
          ]
        }
      ]
    },
    {
      "cell_type": "code",
      "source": [
        "vars( mimic3_ds.patients['1'] )"
      ],
      "metadata": {
        "colab": {
          "base_uri": "https://localhost:8080/"
        },
        "id": "motb8mnTEHeV",
        "outputId": "ceb4615f-2d77-46f5-cd69-b3bb8999667c"
      },
      "execution_count": 7,
      "outputs": [
        {
          "output_type": "execute_result",
          "data": {
            "text/plain": [
              "{'patient_id': '1',\n",
              " 'birth_datetime': datetime.datetime(2102, 9, 7, 0, 0),\n",
              " 'death_datetime': None,\n",
              " 'gender': 'M',\n",
              " 'ethnicity': 'UNABLE TO OBTAIN',\n",
              " 'attr_dict': {},\n",
              " 'visits': OrderedDict([('100000',\n",
              "               Visit 100000 from patient 1 with 36 events from tables ['DIAGNOSES_ICD', 'PROCEDURES_ICD', 'PRESCRIPTIONS'])]),\n",
              " 'index_to_visit_id': {0: '100000'}}"
            ]
          },
          "metadata": {},
          "execution_count": 7
        }
      ]
    },
    {
      "cell_type": "code",
      "source": [
        "mimic3_ds.patients['1'].visits['100000']"
      ],
      "metadata": {
        "colab": {
          "base_uri": "https://localhost:8080/"
        },
        "id": "w0FHbEIZEiMK",
        "outputId": "1bffdf59-34f7-4a2e-8bd7-b1f1483d1f49"
      },
      "execution_count": 8,
      "outputs": [
        {
          "output_type": "execute_result",
          "data": {
            "text/plain": [
              "Visit 100000 from patient 1 with 36 events from tables ['DIAGNOSES_ICD', 'PROCEDURES_ICD', 'PRESCRIPTIONS']"
            ]
          },
          "metadata": {},
          "execution_count": 8
        }
      ]
    },
    {
      "cell_type": "code",
      "source": [
        "mimic3_ds.patients['1'].visits['100000'].get_event_list('DIAGNOSES_ICD')"
      ],
      "metadata": {
        "colab": {
          "base_uri": "https://localhost:8080/"
        },
        "id": "wmkADrEGEmyv",
        "outputId": "762fb210-10b4-4224-9450-9ca00746abea"
      },
      "execution_count": 9,
      "outputs": [
        {
          "output_type": "execute_result",
          "data": {
            "text/plain": [
              "[Event with ICD9CM code 86121 from table DIAGNOSES_ICD,\n",
              " Event with ICD9CM code V4589 from table DIAGNOSES_ICD,\n",
              " Event with ICD9CM code 25082 from table DIAGNOSES_ICD,\n",
              " Event with ICD9CM code 79902 from table DIAGNOSES_ICD,\n",
              " Event with ICD9CM code 19889 from table DIAGNOSES_ICD,\n",
              " Event with ICD9CM code 36201 from table DIAGNOSES_ICD,\n",
              " Event with ICD9CM code 99681 from table DIAGNOSES_ICD,\n",
              " Event with ICD9CM code 27802 from table DIAGNOSES_ICD,\n",
              " Event with ICD9CM code 30593 from table DIAGNOSES_ICD]"
            ]
          },
          "metadata": {},
          "execution_count": 9
        }
      ]
    },
    {
      "cell_type": "code",
      "source": [
        "mimic3_ds.patients['1'].visits['100000'].get_event_list('PROCEDURES_ICD')"
      ],
      "metadata": {
        "colab": {
          "base_uri": "https://localhost:8080/"
        },
        "id": "OY8__0UNHqPy",
        "outputId": "c9b70367-c74d-4717-a487-0267f05919b7"
      },
      "execution_count": 10,
      "outputs": [
        {
          "output_type": "execute_result",
          "data": {
            "text/plain": [
              "[Event with ICD9PROC code 3895 from table PROCEDURES_ICD,\n",
              " Event with ICD9PROC code 544 from table PROCEDURES_ICD,\n",
              " Event with ICD9PROC code 9618 from table PROCEDURES_ICD,\n",
              " Event with ICD9PROC code 8472 from table PROCEDURES_ICD]"
            ]
          },
          "metadata": {},
          "execution_count": 10
        }
      ]
    },
    {
      "cell_type": "code",
      "source": [
        "mimic3_ds.patients['1'].visits['100000'].get_event_list('PRESCRIPTIONS')"
      ],
      "metadata": {
        "colab": {
          "base_uri": "https://localhost:8080/"
        },
        "id": "Hu_QyoReGvr9",
        "outputId": "39c9713c-595c-4194-b499-97bb625f9de5"
      },
      "execution_count": 11,
      "outputs": [
        {
          "output_type": "execute_result",
          "data": {
            "text/plain": [
              "[Event with NDC code 00008092355 from table PRESCRIPTIONS,\n",
              " Event with NDC code 00338001702 from table PRESCRIPTIONS,\n",
              " Event with NDC code 00641040025 from table PRESCRIPTIONS,\n",
              " Event with NDC code 00517090125 from table PRESCRIPTIONS,\n",
              " Event with NDC code 00517391025 from table PRESCRIPTIONS,\n",
              " Event with NDC code 00338070341 from table PRESCRIPTIONS,\n",
              " Event with NDC code 00074233411 from table PRESCRIPTIONS,\n",
              " Event with NDC code 00182844789 from table PRESCRIPTIONS,\n",
              " Event with NDC code 63739008901 from table PRESCRIPTIONS,\n",
              " Event with NDC code 66689036430 from table PRESCRIPTIONS,\n",
              " Event with NDC code 00074241512 from table PRESCRIPTIONS,\n",
              " Event with NDC code 00074131230 from table PRESCRIPTIONS,\n",
              " Event with NDC code 00904526161 from table PRESCRIPTIONS,\n",
              " Event with NDC code 00006494300 from table PRESCRIPTIONS,\n",
              " Event with NDC code 00406051201 from table PRESCRIPTIONS,\n",
              " Event with NDC code 00004200278 from table PRESCRIPTIONS,\n",
              " Event with NDC code 00045025501 from table PRESCRIPTIONS,\n",
              " Event with NDC code 00085172202 from table PRESCRIPTIONS,\n",
              " Event with NDC code 00766145010 from table PRESCRIPTIONS,\n",
              " Event with NDC code 52959036100 from table PRESCRIPTIONS,\n",
              " Event with NDC code 00029608031 from table PRESCRIPTIONS,\n",
              " Event with NDC code 00310013239 from table PRESCRIPTIONS,\n",
              " Event with NDC code 51079068320 from table PRESCRIPTIONS]"
            ]
          },
          "metadata": {},
          "execution_count": 11
        }
      ]
    },
    {
      "cell_type": "code",
      "source": [
        "icd9cm = InnerMap.load(\"ICD9CM\")\n",
        "icd9proc = InnerMap.load(\"ICD9PROC\")\n",
        "# ndc = InnerMap.load(\"NDC\")\n",
        "\n",
        "print(icd9cm.lookup(\"86121\"))\n",
        "print(icd9proc.lookup(\"3895\"))\n",
        "# print(ndc.lookup(\"00008092355\"))"
      ],
      "metadata": {
        "colab": {
          "base_uri": "https://localhost:8080/"
        },
        "id": "3hMoevz0eh7O",
        "outputId": "5dd61c46-c861-47f5-f956-d1e82e0fe97a"
      },
      "execution_count": 12,
      "outputs": [
        {
          "output_type": "stream",
          "name": "stdout",
          "text": [
            "Contusion of lung without mention of open wound into thorax\n",
            "Venous catheterization for renal dialysis\n"
          ]
        }
      ]
    },
    {
      "cell_type": "markdown",
      "source": [
        "### 2.4 Define EHR Task\n",
        "\n",
        "Below we assigns a **task function** to the dataset for data loading [pyhealth.tasks](https://pyhealth.readthedocs.io/en/latest/api/tasks.html). The **task function** specifics how to process each pateint's data into a set of samples for the downstream machine learning models.\n",
        "\n",
        "We will be trying to predict length of stay (LOS). However, to be able to treat it as a classification problem we are binning LOS, specifically, 0: less than 1 day, 1-7: 1-7 days, 8: 8-14 days, and 9: longer than two weeks."
      ],
      "metadata": {
        "id": "uPn5QxsYH-5r"
      }
    },
    {
      "cell_type": "code",
      "source": [
        "# define task\n",
        "task_mimic3_ds = mimic3_ds.set_task(task_fn=length_of_stay_prediction_mimic3_fn)\n",
        "\n",
        "# stats info\n",
        "task_mimic3_ds.stat()"
      ],
      "metadata": {
        "colab": {
          "base_uri": "https://localhost:8080/",
          "height": 559
        },
        "id": "IJhQqyLKIRPV",
        "outputId": "403b60ea-e698-4816-910e-6468e3e301f0"
      },
      "execution_count": 13,
      "outputs": [
        {
          "output_type": "stream",
          "name": "stderr",
          "text": [
            "Generating samples for length_of_stay_prediction_mimic3_fn: 100%|██████████| 1000/1000 [00:00<00:00, 43826.25it/s]"
          ]
        },
        {
          "output_type": "stream",
          "name": "stdout",
          "text": [
            "Statistics of sample dataset:\n",
            "\t- Dataset: MIMIC3Dataset\n",
            "\t- Task: length_of_stay_prediction_mimic3_fn\n",
            "\t- Number of samples: 896\n",
            "\t- Number of patients: 886\n",
            "\t- Number of visits: 896\n",
            "\t- Number of visits per patient: 1.0113\n",
            "\t- conditions:\n",
            "\t\t- Number of conditions per sample: 9.7377\n",
            "\t\t- Number of unique conditions: 1699\n",
            "\t\t- Distribution of conditions (Top-10): [('4019', 324), ('41401', 167), ('25000', 151), ('4280', 147), ('5849', 121), ('2724', 118), ('42731', 110), ('51881', 89), ('53081', 88), ('2720', 85)]\n",
            "\t- procedures:\n",
            "\t\t- Number of procedures per sample: 3.5647\n",
            "\t\t- Number of unique procedures: 558\n",
            "\t\t- Distribution of procedures (Top-10): [('3893', 155), ('9671', 139), ('9604', 123), ('9904', 100), ('8856', 85), ('966', 64), ('3615', 61), ('3961', 59), ('3722', 58), ('3891', 55)]\n",
            "\t- drugs:\n",
            "\t\t- Number of drugs per sample: 32.5804\n",
            "\t\t- Number of unique drugs: 1911\n",
            "\t\t- Distribution of drugs (Top-10): [('00338004904', 388), ('00008084199', 362), ('00338004903', 317), ('00338001702', 305), ('00641040025', 285), ('00338004938', 271), ('00338004902', 269), ('63323026201', 268), ('00904516561', 252), ('00182844789', 242)]\n",
            "\t- label:\n",
            "\t\t- Number of label per sample: 1.0000\n",
            "\t\t- Number of unique label: 10\n",
            "\t\t- Distribution of label (Top-10): [(0, 360), (1, 109), (2, 94), (8, 85), (3, 63), (4, 44), (7, 43), (6, 43), (5, 42), (9, 13)]\n"
          ]
        },
        {
          "output_type": "stream",
          "name": "stderr",
          "text": [
            "\n"
          ]
        },
        {
          "output_type": "execute_result",
          "data": {
            "text/plain": [
              "\"Statistics of sample dataset:\\n\\t- Dataset: MIMIC3Dataset\\n\\t- Task: length_of_stay_prediction_mimic3_fn\\n\\t- Number of samples: 896\\n\\t- Number of patients: 886\\n\\t- Number of visits: 896\\n\\t- Number of visits per patient: 1.0113\\n\\t- conditions:\\n\\t\\t- Number of conditions per sample: 9.7377\\n\\t\\t- Number of unique conditions: 1699\\n\\t\\t- Distribution of conditions (Top-10): [('4019', 324), ('41401', 167), ('25000', 151), ('4280', 147), ('5849', 121), ('2724', 118), ('42731', 110), ('51881', 89), ('53081', 88), ('2720', 85)]\\n\\t- procedures:\\n\\t\\t- Number of procedures per sample: 3.5647\\n\\t\\t- Number of unique procedures: 558\\n\\t\\t- Distribution of procedures (Top-10): [('3893', 155), ('9671', 139), ('9604', 123), ('9904', 100), ('8856', 85), ('966', 64), ('3615', 61), ('3961', 59), ('3722', 58), ('3891', 55)]\\n\\t- drugs:\\n\\t\\t- Number of drugs per sample: 32.5804\\n\\t\\t- Number of unique drugs: 1911\\n\\t\\t- Distribution of drugs (Top-10): [('00338004904', 388), ('00008084199', 362), ('00338004903', 317), ('00338001702', 305), ('00641040025', 285), ('00338004938', 271), ('00338004902', 269), ('63323026201', 268), ('00904516561', 252), ('00182844789', 242)]\\n\\t- label:\\n\\t\\t- Number of label per sample: 1.0000\\n\\t\\t- Number of unique label: 10\\n\\t\\t- Distribution of label (Top-10): [(0, 360), (1, 109), (2, 94), (8, 85), (3, 63), (4, 44), (7, 43), (6, 43), (5, 42), (9, 13)]\""
            ],
            "application/vnd.google.colaboratory.intrinsic+json": {
              "type": "string"
            }
          },
          "metadata": {},
          "execution_count": 13
        }
      ]
    },
    {
      "cell_type": "markdown",
      "source": [
        "## 2.5 Data split\n",
        "\n",
        "Let us split the dataset into training, validation and test with proportions 80%, 10% and 10%, respectively. Then for each subset we can create data loaders."
      ],
      "metadata": {
        "id": "TqhCimc2I5hW"
      }
    },
    {
      "cell_type": "code",
      "source": [
        "# data split\n",
        "train_dataset, val_dataset, test_dataset = split_by_patient(task_mimic3_ds, [0.8, 0.1, 0.1])\n",
        "\n",
        "# create dataloaders (they are <torch.data.DataLoader> object)\n",
        "train_loader = get_dataloader(train_dataset, batch_size=64, shuffle=True)\n",
        "val_loader = get_dataloader(val_dataset, batch_size=64, shuffle=False)\n",
        "test_loader = get_dataloader(test_dataset, batch_size=64, shuffle=False)"
      ],
      "metadata": {
        "id": "lVmfUVGzJM8B"
      },
      "execution_count": 14,
      "outputs": []
    },
    {
      "cell_type": "markdown",
      "source": [
        "## 2.6 Define Model for Mortality Prediction\n",
        "\n",
        "For this example, we will use an MLP to predict binned LOS from diagnosis, procedures and medications."
      ],
      "metadata": {
        "id": "KrGXqms-JU0q"
      }
    },
    {
      "cell_type": "code",
      "source": [
        "model = MLP(\n",
        "    dataset=task_mimic3_ds,\n",
        "    # look up what are available for \"feature_keys\" and \"label_keys\" in dataset.samples[0]\n",
        "    feature_keys=[\"procedures\",\"conditions\",\"drugs\"],\n",
        "    label_key=\"label\",\n",
        "    mode=\"multiclass\",\n",
        "    num_layers=4,\n",
        ")"
      ],
      "metadata": {
        "id": "rotrza_dJhNV"
      },
      "execution_count": 22,
      "outputs": []
    },
    {
      "cell_type": "markdown",
      "source": [
        "## 2.7 Model Training\n",
        "\n",
        "We are training the model for 5 epochs using weighted jaccard as the metric on the validation set to monitor convergence."
      ],
      "metadata": {
        "id": "BgI2lEoXgxz3"
      }
    },
    {
      "cell_type": "code",
      "source": [
        "trainer = Trainer(model=model, metrics=[\"accuracy\", \"jaccard_weighted\"])\n",
        "\n",
        "trainer.train(\n",
        "    train_dataloader=train_loader,\n",
        "    val_dataloader=val_loader,\n",
        "    epochs=20,\n",
        "    monitor=\"jaccard_weighted\",\n",
        ")"
      ],
      "metadata": {
        "colab": {
          "base_uri": "https://localhost:8080/",
          "height": 1000,
          "referenced_widgets": [
            "3534d6e8c6814357aa9fc2f7cc2621bd",
            "4f333770123f413ba920db90fcbaffd6",
            "84d0d6522dc540ac940372e990e35803",
            "64256af05f4b4265b56f2fd39978b386",
            "912de91f9ff6421eab88a51a861323b3",
            "445c5db8516b45d8acc3b6299a4dae84",
            "31dc9ebcf2ba4abfbb33c2479c8c3933",
            "fefe9ca498cb44929a3553597b64f80c",
            "5d246779739b4faca72a5c7238535f14",
            "e64c8ce25e574fcd8b1daa244e269ee8",
            "dd65f5e632c54845bb88c3ea909d2b4d",
            "3a22dad77d0a43d4b2c8cab7b262a6da",
            "77290d3182f0497cbad8799ff0db04e0",
            "d945050bf30a4c2f9d6c29281578ad5d",
            "1933b4df1da3474b997a6d3e0eaf0ba7",
            "fbb8aa2f5524492ea86cd619b024c104",
            "f45021269d8a4243b97c34aa12b23b75",
            "f0f3461f52aa4288957a3beea5d88539",
            "4ec8dd2518aa4cc89f5ebc98bd0a598d",
            "339293aa0dd648ddabd17d89ea73cbb7",
            "39928662e1b94260859f674df270acf0",
            "2d01676d3d5a45dd8460b9ba6386bcbf",
            "a153eced6f8d4049a0c66728f9b32175",
            "d0f8fec021814298a5d5f7844125f9d0",
            "ac157c5f0c8f4a36b9ba24c46221d21d",
            "2055955accbd4057ad5aa53cc4cb4f3d",
            "fbcba07234b04e909f3b1466b1fc7b1f",
            "507b42d7f6954debb27135bbadc3e992",
            "57e63855ceb647138e0687547bb761c3",
            "1cdf6c41e78744c38d3d550e5faebd65",
            "0d7bc8b189954987b54d3e177dcefb58",
            "8ff0836a05fd491b840ddff8b224e225",
            "e5f455502d0b4c0490b1fbe1dea77314",
            "8b613f982fb540f98567b892e7dcb3cc",
            "4fd87f058709452fb326627a403fccf3",
            "56e660299b11459eaecaad292ea0ee19",
            "0c4886dce841481a918b6b491fe4d5fb",
            "f3725ad53bee491f94f30a0c67705cad",
            "8bb5d2d17e454c8d8b8bd0b9feb92f63",
            "d01c202fcf0e40e2b60dad8865bb1d4f",
            "354f9f43fd64419c80c94809ce41a08d",
            "db03694da5fc43c4af1a0cffc1161b6b",
            "f24400df333d48ed814e7eed4df9c24c",
            "2dbd0fdb273e4a6e80faf4758125cd1e",
            "b4d4ae59bc7a44a899a2db44988171fa",
            "f06eea122ef647d5ad97f833a2571dd2",
            "762f249705f44a0eb2be601b02e8d740",
            "70262710172d42d5884fc23b7ad1eba3",
            "1d5edadae0c647748eb9261fa709f512",
            "fe02d1b3812b41a88ed04ddf01387554",
            "0d4b18641d5e41579f93d8b3c908a8b6",
            "9e25e42f01204c48b8a76d4277f9c9df",
            "b6143051d7ff4a4ea60f0c68ad2a43d0",
            "b9147b50273b41d58c86a713666f5ee9",
            "5f1762dbe90c48668241cad63f50e35f",
            "031395cef39046deb8e9f3af9463ae8a",
            "ddb6574f0dfe4adb8b4b7925dcd8cd14",
            "e71714695e304a79bbb228c0407c3733",
            "03856c87d78d42b3a858fff2b1a54347",
            "2bc2456a6cfb426a90e6869e238cba16",
            "fc90be7efbea44759dbcbac6bf1617da",
            "4a107b82547f4e9e97b552bdc0f88457",
            "ae75677f1f5f435882a0eb0d6d2e7b5a",
            "bca02a7f386d46678048e5afebbd317d",
            "3d1e849e8b0a4551be1b5f1ab81661c7",
            "a260d9798d7c4023b096e9bffc16826f",
            "4391e8c7c9ac46c0a658646d0f3759c9",
            "9950a7f5a46d41ac87134c9de1caeee1",
            "96cfcd9efc1c4abc96220fae34871a09",
            "f5d0df96b2794dbdb51367905865a174",
            "b6eb4781dffd44c19aacbb40483df68e",
            "0f478feda90149569172775f7cc97215",
            "bb78cce3123840ffba9aae8e9ab8a290",
            "fdc96a641375479ead9599f39ca5ab25",
            "6a6ed803ba3d4e29a51c338b30cd6c38",
            "441bc3efb67a4ac0b00965387650c43e",
            "17a3ce07423940f1acfd66243b93c0e8",
            "6825b14d21c046e6b91bc5b1ab1a21c2",
            "0d461f3bcc7f486aaa32aeeeff2f783c",
            "6c31964c44ad4eca96f634058976aab4",
            "66a8f858a61646b99fd2498b48eb5cb7",
            "13546c4e965747f38ae850e6de5a7a92",
            "d4057cc8c80c463399d1a0caf36b6a3e",
            "e5ad200c4d804704b0a77538cccd9a52",
            "3588dbee4d4448639b26387f0dc3c624",
            "1256fd2ed62e49d0b466d36a2d6f2355",
            "8e0b4135bf25407181688630f547de87",
            "07de2637086e45dabc85929fe35ad8fd",
            "1339e42d875647a7a3a313ee5a66b5da",
            "e4dd9a189dfc4ef5876325c9939387cd",
            "363d72dc1d5e408797023d0ebbdc5910",
            "3272149d1d8f4c14ac616ddc55f5c5f0",
            "99116065825345b188ca634bf3421ff1",
            "453b02f05a734cfdb5d6c59003dce823",
            "bf0d49f9e1374ddeb7c25022e01a41b0",
            "f88aa73da44343e08d1074495fe29a4c",
            "c21d45dc250a445ca85e8920ceaef191",
            "9e8023c3bd8d4d5ea16c9e8e72f3a4c8",
            "456e935fe8194bcfb7e51cb456be425c",
            "07842568b4e14305bd106477442cfa5b",
            "5d3c125c9ba144a89eafebd1c704c02c",
            "efc17ac1d31a45d080af6c23488ae8f8",
            "afc24a32867a4249a2a5883f50d9da72",
            "e76f2863e74043ca862f658d02fe600d",
            "ec5b352afa3a424cb719bc817ccbf5db",
            "5e6bc68f17e840afb7556bb0dceb6865",
            "45611b441c18408191aa6724f6c234fe",
            "8e45caf62acf4a7cb5b6ea099435860e",
            "85d7c2d5a7754329b366ce8cc7638560",
            "e27a27d1ea55431db6441e989af5e142",
            "30c344cc8faf4a23a92105e20bbf7519",
            "85995338b791404785723a10000d4569",
            "54ad7830680b4afcbed176be5fc3f07d",
            "ccb08f326076438e80cd2ed67d79bcf1",
            "2aafcdd214d14537bbb8fc1672cda3ce",
            "b949a0fd41d84823a3c5bde6afa4909a",
            "f45d6ade5a9e4206b827baf4a6276792",
            "0579b94b1b75437ea86e06a1f324f5bf",
            "e8c5ce00bb9b422c8737bfc4c812d727",
            "173d3631fde648a0ae3f65254567853c",
            "c48ed3e39dd348ddadaa0709d0afa11f",
            "a303b65b49ee4bf4bb0cc4ca108059fe",
            "fa7f454c060c46ecae3b06e7ab48158f",
            "655d4f83d18a417ebadfc2b31fd11b44",
            "21d9273b724b4542ad65f0a9613469f0",
            "8d205e54618744158738eee06b16e15c",
            "ece415b2ef7244fea518c5b062b6eb09",
            "e17d995a41ab46cfbbe9ae9419429961",
            "f5c5de52c2044384bba8bf402f35248d",
            "0a249b9734ae40aab119b2b36ad8a791",
            "23db0a3ffa924ed4b089ac68fbe828bc",
            "1f971b5518ae4ed89e6d1630d0dede5f",
            "7c206dcd40ec454e93f6a2e209e61917",
            "404d5746624b46ee8ddd89ba0bc20c7d",
            "1d7194b1bfa24a83b78cb925d2c3a2f9",
            "601003f041ce4a389ad0f2aee48af80d",
            "cc9dd07561b84ae9ae139bc79b6cc247",
            "89d934b1046044a394bc0c26d20e605f",
            "4703c44717f04163be1fe7a75bf7f709",
            "fbb272b47af14022b02a1d3e5bfa59fb",
            "23e6ebc5b9dc40719885dfdec5487ab5",
            "8de8af86b95548bfa6852d22502ec126",
            "b3e83d8a83e5455cb922a1da041e08f4",
            "dbf1df4034f4400f9a2a882d07c8051f",
            "9db4236efec8483eac49fa149a12c415",
            "d98254b8cf164bc99d33bc77d5fe06a8",
            "7cd4b7559c3e43ceb308749ae10324af",
            "c1b6bee74455438691bce7e7f457e74f",
            "b4b6cc2a2e9245dfb10887eb6d225597",
            "dc9f752f348a46b9befeb3d8c1b2ba4d",
            "ddfd6a568af44d329452584722a13029",
            "b1722ab2fd5948169a01a4ff0cbf44f8",
            "6fde09c0c2ea4829ba297ecdc6ecf221",
            "2330296d4d884d1f86b033947f37272a",
            "92a33584f3b043edbfdcaf153b93db34",
            "d7949592a14248baa9b80755e5abea42",
            "c2de0123acd1414cbdffbe1711043ced",
            "86ca4d794a9145b9abf452b3febc7c02",
            "6e0672e9447445ae9780b7c5d8a088b7",
            "62de6a0d19c043dab27aea230fcaa1b6",
            "526821805bb34548b3d4372cf05180d5",
            "402c0118682243ca8522ea978a9b8f1f",
            "1a957d71a1ef41a28a3c3f6838467a38",
            "ebd7640771d248b5bcdbe679bbfabcfc",
            "23985487bc694a18b58ce9354f3b86b2",
            "8293cf2266a64ae380c40f325ff76e08",
            "00853878bfc74da2aa0feeb24a080976",
            "c4f9c2b4b4c3413e91302cce936c1b04",
            "643a0401264042fa9332a7d783252a1f",
            "407f7ef957c24e48b473b7b2cd6226a6",
            "a8154c8cf7f243759e01001be6c2b6d2",
            "e9932c955f434e589956c0df59a52fb1",
            "86eb02b691c7465b8eae861d939c3811",
            "87f1bb9803bb43819b53e9f5bbb1c484",
            "e913514189274dcf9f200f4a2bdbb8b9",
            "36a84b5516cf48798b7f8eb907e52e4c",
            "e31e4f2f7b1f45f69910259115b5e2d6",
            "9e5c115c005b4bc8a29d62168da4cbb8",
            "787caa7f2b8b45768ecb1a533d9670e7",
            "db8a15e2e6984ea4b42de0cf14a86cb8",
            "3c91615a202b4d94931f4c74679fadd8",
            "917230c650194f14a32010e553da9017",
            "605e4b69e6a2495b9494146832c5b490",
            "824355fd14e24412a84450646ca25487",
            "008429d052744ff1a5207db81c9efb6c",
            "f5f2dca5a41546dface05041dea92814",
            "121e12f39b244da7aeed490fd1b0edbf",
            "08b4cccbcb1a4d39bca312bb84d7c46b",
            "7a330f7f75e64fbdafd0c2a0e1128425",
            "34e1cf96a1ab4e3082c82ad6f061dfc4",
            "7803bde7ea7f4c0f974ad61df76eeca5",
            "73b6e021af484f6bb81608269eef4d76",
            "f8b2f8a6c3b84503a41f69b367640cab",
            "0e645d0d283f440f9933eabe3e7ae67e",
            "63bb95be0375419c9fb1180e40f4b52f",
            "720f259e9daf40c7a4e3a832475f1a45",
            "29bc2e8ec6fb47edbf4c679c3edc9fd7",
            "6c97fd89cf554a58b19e9493d71d2813",
            "74ecad5ecb364100a3d9e8aa4b2257bc",
            "4c586c39d7244b33a426c0b3302d83e4",
            "8a094fb29be84cb0a93609f8a91f16e2",
            "f7ba0494f1394734918577b74b0437e5",
            "7112791eab9d44f7873d6637a4f7a91d",
            "07f86803bcbd4231ad3bd9a699723cd5",
            "5a30980dc41d419b9e37e38ef3854605",
            "c6f8bc04a4084e7db8d7aef52be81bbd",
            "e79993d70dae49748e9cb85d735844cb",
            "b5d3082276d2456b95f9be26edd4cea5",
            "0d907e5158594852b9c73fe22c4ae5b4",
            "c6eef231fd7b46e180ffb964d943589b",
            "7ab0d67d7c3b4354adfe1643dfb3ee17",
            "d14541f2043144488725045c473c5451",
            "6524d7ca646b4740930be3ec372f9a19",
            "0350d1f91868409abb527a6aea22876a",
            "4e84cd7d216b427398206e3414c32cf8",
            "51e4e9ed2ac540b2a83a97fcac883e02",
            "888d6a55178543119d0e278630b36781",
            "07354511badb48639be220be2459c7c9",
            "5b42bb7a8511414ab743f787aef187e9",
            "75ba7f73cb9e4ad7a1b312bae1fb9e2d"
          ]
        },
        "id": "IOS_qcY-Mx7I",
        "outputId": "98c1cde5-00a6-4e0c-b426-4de15340c0c9"
      },
      "execution_count": 23,
      "outputs": [
        {
          "output_type": "stream",
          "name": "stdout",
          "text": [
            "MLP(\n",
            "  (embeddings): ModuleDict(\n",
            "    (procedures): Embedding(560, 128, padding_idx=0)\n",
            "    (conditions): Embedding(1701, 128, padding_idx=0)\n",
            "    (drugs): Embedding(1913, 128, padding_idx=0)\n",
            "  )\n",
            "  (linear_layers): ModuleDict()\n",
            "  (activation): ReLU()\n",
            "  (mlp): ModuleDict(\n",
            "    (procedures): Sequential(\n",
            "      (0): Linear(in_features=128, out_features=128, bias=True)\n",
            "      (1): ReLU()\n",
            "      (2): Linear(in_features=128, out_features=128, bias=True)\n",
            "    )\n",
            "    (conditions): Sequential(\n",
            "      (0): Linear(in_features=128, out_features=128, bias=True)\n",
            "      (1): ReLU()\n",
            "      (2): Linear(in_features=128, out_features=128, bias=True)\n",
            "    )\n",
            "    (drugs): Sequential(\n",
            "      (0): Linear(in_features=128, out_features=128, bias=True)\n",
            "      (1): ReLU()\n",
            "      (2): Linear(in_features=128, out_features=128, bias=True)\n",
            "    )\n",
            "  )\n",
            "  (fc): Linear(in_features=384, out_features=10, bias=True)\n",
            ")\n"
          ]
        },
        {
          "output_type": "stream",
          "name": "stderr",
          "text": [
            "INFO:pyhealth.trainer:MLP(\n",
            "  (embeddings): ModuleDict(\n",
            "    (procedures): Embedding(560, 128, padding_idx=0)\n",
            "    (conditions): Embedding(1701, 128, padding_idx=0)\n",
            "    (drugs): Embedding(1913, 128, padding_idx=0)\n",
            "  )\n",
            "  (linear_layers): ModuleDict()\n",
            "  (activation): ReLU()\n",
            "  (mlp): ModuleDict(\n",
            "    (procedures): Sequential(\n",
            "      (0): Linear(in_features=128, out_features=128, bias=True)\n",
            "      (1): ReLU()\n",
            "      (2): Linear(in_features=128, out_features=128, bias=True)\n",
            "    )\n",
            "    (conditions): Sequential(\n",
            "      (0): Linear(in_features=128, out_features=128, bias=True)\n",
            "      (1): ReLU()\n",
            "      (2): Linear(in_features=128, out_features=128, bias=True)\n",
            "    )\n",
            "    (drugs): Sequential(\n",
            "      (0): Linear(in_features=128, out_features=128, bias=True)\n",
            "      (1): ReLU()\n",
            "      (2): Linear(in_features=128, out_features=128, bias=True)\n",
            "    )\n",
            "  )\n",
            "  (fc): Linear(in_features=384, out_features=10, bias=True)\n",
            ")\n"
          ]
        },
        {
          "output_type": "stream",
          "name": "stdout",
          "text": [
            "Metrics: ['accuracy', 'jaccard_weighted']\n"
          ]
        },
        {
          "output_type": "stream",
          "name": "stderr",
          "text": [
            "INFO:pyhealth.trainer:Metrics: ['accuracy', 'jaccard_weighted']\n"
          ]
        },
        {
          "output_type": "stream",
          "name": "stdout",
          "text": [
            "Device: cpu\n"
          ]
        },
        {
          "output_type": "stream",
          "name": "stderr",
          "text": [
            "INFO:pyhealth.trainer:Device: cpu\n"
          ]
        },
        {
          "output_type": "stream",
          "name": "stdout",
          "text": [
            "\n"
          ]
        },
        {
          "output_type": "stream",
          "name": "stderr",
          "text": [
            "INFO:pyhealth.trainer:\n"
          ]
        },
        {
          "output_type": "stream",
          "name": "stdout",
          "text": [
            "Training:\n"
          ]
        },
        {
          "output_type": "stream",
          "name": "stderr",
          "text": [
            "INFO:pyhealth.trainer:Training:\n"
          ]
        },
        {
          "output_type": "stream",
          "name": "stdout",
          "text": [
            "Batch size: 64\n"
          ]
        },
        {
          "output_type": "stream",
          "name": "stderr",
          "text": [
            "INFO:pyhealth.trainer:Batch size: 64\n"
          ]
        },
        {
          "output_type": "stream",
          "name": "stdout",
          "text": [
            "Optimizer: <class 'torch.optim.adam.Adam'>\n"
          ]
        },
        {
          "output_type": "stream",
          "name": "stderr",
          "text": [
            "INFO:pyhealth.trainer:Optimizer: <class 'torch.optim.adam.Adam'>\n"
          ]
        },
        {
          "output_type": "stream",
          "name": "stdout",
          "text": [
            "Optimizer params: {'lr': 0.001}\n"
          ]
        },
        {
          "output_type": "stream",
          "name": "stderr",
          "text": [
            "INFO:pyhealth.trainer:Optimizer params: {'lr': 0.001}\n"
          ]
        },
        {
          "output_type": "stream",
          "name": "stdout",
          "text": [
            "Weight decay: 0.0\n"
          ]
        },
        {
          "output_type": "stream",
          "name": "stderr",
          "text": [
            "INFO:pyhealth.trainer:Weight decay: 0.0\n"
          ]
        },
        {
          "output_type": "stream",
          "name": "stdout",
          "text": [
            "Max grad norm: None\n"
          ]
        },
        {
          "output_type": "stream",
          "name": "stderr",
          "text": [
            "INFO:pyhealth.trainer:Max grad norm: None\n"
          ]
        },
        {
          "output_type": "stream",
          "name": "stdout",
          "text": [
            "Val dataloader: <torch.utils.data.dataloader.DataLoader object at 0x7fa4c98da950>\n"
          ]
        },
        {
          "output_type": "stream",
          "name": "stderr",
          "text": [
            "INFO:pyhealth.trainer:Val dataloader: <torch.utils.data.dataloader.DataLoader object at 0x7fa4c98da950>\n"
          ]
        },
        {
          "output_type": "stream",
          "name": "stdout",
          "text": [
            "Monitor: jaccard_weighted\n"
          ]
        },
        {
          "output_type": "stream",
          "name": "stderr",
          "text": [
            "INFO:pyhealth.trainer:Monitor: jaccard_weighted\n"
          ]
        },
        {
          "output_type": "stream",
          "name": "stdout",
          "text": [
            "Monitor criterion: max\n"
          ]
        },
        {
          "output_type": "stream",
          "name": "stderr",
          "text": [
            "INFO:pyhealth.trainer:Monitor criterion: max\n"
          ]
        },
        {
          "output_type": "stream",
          "name": "stdout",
          "text": [
            "Epochs: 20\n"
          ]
        },
        {
          "output_type": "stream",
          "name": "stderr",
          "text": [
            "INFO:pyhealth.trainer:Epochs: 20\n"
          ]
        },
        {
          "output_type": "stream",
          "name": "stdout",
          "text": [
            "\n"
          ]
        },
        {
          "output_type": "stream",
          "name": "stderr",
          "text": [
            "INFO:pyhealth.trainer:\n"
          ]
        },
        {
          "output_type": "display_data",
          "data": {
            "text/plain": [
              "Epoch 0 / 20:   0%|          | 0/12 [00:00<?, ?it/s]"
            ],
            "application/vnd.jupyter.widget-view+json": {
              "version_major": 2,
              "version_minor": 0,
              "model_id": "3534d6e8c6814357aa9fc2f7cc2621bd"
            }
          },
          "metadata": {}
        },
        {
          "output_type": "stream",
          "name": "stdout",
          "text": [
            "--- Train epoch-0, step-12 ---\n"
          ]
        },
        {
          "output_type": "stream",
          "name": "stderr",
          "text": [
            "INFO:pyhealth.trainer:--- Train epoch-0, step-12 ---\n"
          ]
        },
        {
          "output_type": "stream",
          "name": "stdout",
          "text": [
            "loss: 2.1398\n"
          ]
        },
        {
          "output_type": "stream",
          "name": "stderr",
          "text": [
            "INFO:pyhealth.trainer:loss: 2.1398\n",
            "Evaluation: 100%|██████████| 2/2 [00:00<00:00, 156.30it/s]\n"
          ]
        },
        {
          "output_type": "stream",
          "name": "stdout",
          "text": [
            "--- Eval epoch-0, step-12 ---\n"
          ]
        },
        {
          "output_type": "stream",
          "name": "stderr",
          "text": [
            "INFO:pyhealth.trainer:--- Eval epoch-0, step-12 ---\n"
          ]
        },
        {
          "output_type": "stream",
          "name": "stdout",
          "text": [
            "accuracy: 0.3297\n"
          ]
        },
        {
          "output_type": "stream",
          "name": "stderr",
          "text": [
            "INFO:pyhealth.trainer:accuracy: 0.3297\n"
          ]
        },
        {
          "output_type": "stream",
          "name": "stdout",
          "text": [
            "jaccard_weighted: 0.1732\n"
          ]
        },
        {
          "output_type": "stream",
          "name": "stderr",
          "text": [
            "INFO:pyhealth.trainer:jaccard_weighted: 0.1732\n"
          ]
        },
        {
          "output_type": "stream",
          "name": "stdout",
          "text": [
            "loss: 2.0577\n"
          ]
        },
        {
          "output_type": "stream",
          "name": "stderr",
          "text": [
            "INFO:pyhealth.trainer:loss: 2.0577\n"
          ]
        },
        {
          "output_type": "stream",
          "name": "stdout",
          "text": [
            "New best jaccard_weighted score (0.1732) at epoch-0, step-12\n"
          ]
        },
        {
          "output_type": "stream",
          "name": "stderr",
          "text": [
            "INFO:pyhealth.trainer:New best jaccard_weighted score (0.1732) at epoch-0, step-12\n"
          ]
        },
        {
          "output_type": "stream",
          "name": "stdout",
          "text": [
            "\n"
          ]
        },
        {
          "output_type": "stream",
          "name": "stderr",
          "text": [
            "INFO:pyhealth.trainer:\n"
          ]
        },
        {
          "output_type": "display_data",
          "data": {
            "text/plain": [
              "Epoch 1 / 20:   0%|          | 0/12 [00:00<?, ?it/s]"
            ],
            "application/vnd.jupyter.widget-view+json": {
              "version_major": 2,
              "version_minor": 0,
              "model_id": "3a22dad77d0a43d4b2c8cab7b262a6da"
            }
          },
          "metadata": {}
        },
        {
          "output_type": "stream",
          "name": "stdout",
          "text": [
            "--- Train epoch-1, step-24 ---\n"
          ]
        },
        {
          "output_type": "stream",
          "name": "stderr",
          "text": [
            "INFO:pyhealth.trainer:--- Train epoch-1, step-24 ---\n"
          ]
        },
        {
          "output_type": "stream",
          "name": "stdout",
          "text": [
            "loss: 1.6484\n"
          ]
        },
        {
          "output_type": "stream",
          "name": "stderr",
          "text": [
            "INFO:pyhealth.trainer:loss: 1.6484\n",
            "Evaluation: 100%|██████████| 2/2 [00:00<00:00, 252.57it/s]"
          ]
        },
        {
          "output_type": "stream",
          "name": "stdout",
          "text": [
            "--- Eval epoch-1, step-24 ---\n"
          ]
        },
        {
          "output_type": "stream",
          "name": "stderr",
          "text": [
            "\n",
            "INFO:pyhealth.trainer:--- Eval epoch-1, step-24 ---\n"
          ]
        },
        {
          "output_type": "stream",
          "name": "stdout",
          "text": [
            "accuracy: 0.3407\n"
          ]
        },
        {
          "output_type": "stream",
          "name": "stderr",
          "text": [
            "INFO:pyhealth.trainer:accuracy: 0.3407\n"
          ]
        },
        {
          "output_type": "stream",
          "name": "stdout",
          "text": [
            "jaccard_weighted: 0.1860\n"
          ]
        },
        {
          "output_type": "stream",
          "name": "stderr",
          "text": [
            "INFO:pyhealth.trainer:jaccard_weighted: 0.1860\n"
          ]
        },
        {
          "output_type": "stream",
          "name": "stdout",
          "text": [
            "loss: 2.0832\n"
          ]
        },
        {
          "output_type": "stream",
          "name": "stderr",
          "text": [
            "INFO:pyhealth.trainer:loss: 2.0832\n"
          ]
        },
        {
          "output_type": "stream",
          "name": "stdout",
          "text": [
            "New best jaccard_weighted score (0.1860) at epoch-1, step-24\n"
          ]
        },
        {
          "output_type": "stream",
          "name": "stderr",
          "text": [
            "INFO:pyhealth.trainer:New best jaccard_weighted score (0.1860) at epoch-1, step-24\n"
          ]
        },
        {
          "output_type": "stream",
          "name": "stdout",
          "text": [
            "\n"
          ]
        },
        {
          "output_type": "stream",
          "name": "stderr",
          "text": [
            "INFO:pyhealth.trainer:\n"
          ]
        },
        {
          "output_type": "display_data",
          "data": {
            "text/plain": [
              "Epoch 2 / 20:   0%|          | 0/12 [00:00<?, ?it/s]"
            ],
            "application/vnd.jupyter.widget-view+json": {
              "version_major": 2,
              "version_minor": 0,
              "model_id": "a153eced6f8d4049a0c66728f9b32175"
            }
          },
          "metadata": {}
        },
        {
          "output_type": "stream",
          "name": "stdout",
          "text": [
            "--- Train epoch-2, step-36 ---\n"
          ]
        },
        {
          "output_type": "stream",
          "name": "stderr",
          "text": [
            "INFO:pyhealth.trainer:--- Train epoch-2, step-36 ---\n"
          ]
        },
        {
          "output_type": "stream",
          "name": "stdout",
          "text": [
            "loss: 1.3747\n"
          ]
        },
        {
          "output_type": "stream",
          "name": "stderr",
          "text": [
            "INFO:pyhealth.trainer:loss: 1.3747\n",
            "Evaluation: 100%|██████████| 2/2 [00:00<00:00, 184.97it/s]\n"
          ]
        },
        {
          "output_type": "stream",
          "name": "stdout",
          "text": [
            "--- Eval epoch-2, step-36 ---\n"
          ]
        },
        {
          "output_type": "stream",
          "name": "stderr",
          "text": [
            "INFO:pyhealth.trainer:--- Eval epoch-2, step-36 ---\n"
          ]
        },
        {
          "output_type": "stream",
          "name": "stdout",
          "text": [
            "accuracy: 0.3516\n"
          ]
        },
        {
          "output_type": "stream",
          "name": "stderr",
          "text": [
            "INFO:pyhealth.trainer:accuracy: 0.3516\n"
          ]
        },
        {
          "output_type": "stream",
          "name": "stdout",
          "text": [
            "jaccard_weighted: 0.1867\n"
          ]
        },
        {
          "output_type": "stream",
          "name": "stderr",
          "text": [
            "INFO:pyhealth.trainer:jaccard_weighted: 0.1867\n"
          ]
        },
        {
          "output_type": "stream",
          "name": "stdout",
          "text": [
            "loss: 2.0157\n"
          ]
        },
        {
          "output_type": "stream",
          "name": "stderr",
          "text": [
            "INFO:pyhealth.trainer:loss: 2.0157\n"
          ]
        },
        {
          "output_type": "stream",
          "name": "stdout",
          "text": [
            "New best jaccard_weighted score (0.1867) at epoch-2, step-36\n"
          ]
        },
        {
          "output_type": "stream",
          "name": "stderr",
          "text": [
            "INFO:pyhealth.trainer:New best jaccard_weighted score (0.1867) at epoch-2, step-36\n"
          ]
        },
        {
          "output_type": "stream",
          "name": "stdout",
          "text": [
            "\n"
          ]
        },
        {
          "output_type": "stream",
          "name": "stderr",
          "text": [
            "INFO:pyhealth.trainer:\n"
          ]
        },
        {
          "output_type": "display_data",
          "data": {
            "text/plain": [
              "Epoch 3 / 20:   0%|          | 0/12 [00:00<?, ?it/s]"
            ],
            "application/vnd.jupyter.widget-view+json": {
              "version_major": 2,
              "version_minor": 0,
              "model_id": "8b613f982fb540f98567b892e7dcb3cc"
            }
          },
          "metadata": {}
        },
        {
          "output_type": "stream",
          "name": "stdout",
          "text": [
            "--- Train epoch-3, step-48 ---\n"
          ]
        },
        {
          "output_type": "stream",
          "name": "stderr",
          "text": [
            "INFO:pyhealth.trainer:--- Train epoch-3, step-48 ---\n"
          ]
        },
        {
          "output_type": "stream",
          "name": "stdout",
          "text": [
            "loss: 1.0617\n"
          ]
        },
        {
          "output_type": "stream",
          "name": "stderr",
          "text": [
            "INFO:pyhealth.trainer:loss: 1.0617\n",
            "Evaluation: 100%|██████████| 2/2 [00:00<00:00, 231.92it/s]\n"
          ]
        },
        {
          "output_type": "stream",
          "name": "stdout",
          "text": [
            "--- Eval epoch-3, step-48 ---\n"
          ]
        },
        {
          "output_type": "stream",
          "name": "stderr",
          "text": [
            "INFO:pyhealth.trainer:--- Eval epoch-3, step-48 ---\n"
          ]
        },
        {
          "output_type": "stream",
          "name": "stdout",
          "text": [
            "accuracy: 0.3297\n"
          ]
        },
        {
          "output_type": "stream",
          "name": "stderr",
          "text": [
            "INFO:pyhealth.trainer:accuracy: 0.3297\n"
          ]
        },
        {
          "output_type": "stream",
          "name": "stdout",
          "text": [
            "jaccard_weighted: 0.1801\n"
          ]
        },
        {
          "output_type": "stream",
          "name": "stderr",
          "text": [
            "INFO:pyhealth.trainer:jaccard_weighted: 0.1801\n"
          ]
        },
        {
          "output_type": "stream",
          "name": "stdout",
          "text": [
            "loss: 2.1288\n"
          ]
        },
        {
          "output_type": "stream",
          "name": "stderr",
          "text": [
            "INFO:pyhealth.trainer:loss: 2.1288\n"
          ]
        },
        {
          "output_type": "stream",
          "name": "stdout",
          "text": [
            "\n"
          ]
        },
        {
          "output_type": "stream",
          "name": "stderr",
          "text": [
            "INFO:pyhealth.trainer:\n"
          ]
        },
        {
          "output_type": "display_data",
          "data": {
            "text/plain": [
              "Epoch 4 / 20:   0%|          | 0/12 [00:00<?, ?it/s]"
            ],
            "application/vnd.jupyter.widget-view+json": {
              "version_major": 2,
              "version_minor": 0,
              "model_id": "b4d4ae59bc7a44a899a2db44988171fa"
            }
          },
          "metadata": {}
        },
        {
          "output_type": "stream",
          "name": "stdout",
          "text": [
            "--- Train epoch-4, step-60 ---\n"
          ]
        },
        {
          "output_type": "stream",
          "name": "stderr",
          "text": [
            "INFO:pyhealth.trainer:--- Train epoch-4, step-60 ---\n"
          ]
        },
        {
          "output_type": "stream",
          "name": "stdout",
          "text": [
            "loss: 0.7865\n"
          ]
        },
        {
          "output_type": "stream",
          "name": "stderr",
          "text": [
            "INFO:pyhealth.trainer:loss: 0.7865\n",
            "Evaluation: 100%|██████████| 2/2 [00:00<00:00, 169.52it/s]"
          ]
        },
        {
          "output_type": "stream",
          "name": "stdout",
          "text": [
            "--- Eval epoch-4, step-60 ---\n"
          ]
        },
        {
          "output_type": "stream",
          "name": "stderr",
          "text": [
            "\n",
            "INFO:pyhealth.trainer:--- Eval epoch-4, step-60 ---\n"
          ]
        },
        {
          "output_type": "stream",
          "name": "stdout",
          "text": [
            "accuracy: 0.2967\n"
          ]
        },
        {
          "output_type": "stream",
          "name": "stderr",
          "text": [
            "INFO:pyhealth.trainer:accuracy: 0.2967\n"
          ]
        },
        {
          "output_type": "stream",
          "name": "stdout",
          "text": [
            "jaccard_weighted: 0.1890\n"
          ]
        },
        {
          "output_type": "stream",
          "name": "stderr",
          "text": [
            "INFO:pyhealth.trainer:jaccard_weighted: 0.1890\n"
          ]
        },
        {
          "output_type": "stream",
          "name": "stdout",
          "text": [
            "loss: 2.2475\n"
          ]
        },
        {
          "output_type": "stream",
          "name": "stderr",
          "text": [
            "INFO:pyhealth.trainer:loss: 2.2475\n"
          ]
        },
        {
          "output_type": "stream",
          "name": "stdout",
          "text": [
            "New best jaccard_weighted score (0.1890) at epoch-4, step-60\n"
          ]
        },
        {
          "output_type": "stream",
          "name": "stderr",
          "text": [
            "INFO:pyhealth.trainer:New best jaccard_weighted score (0.1890) at epoch-4, step-60\n"
          ]
        },
        {
          "output_type": "stream",
          "name": "stdout",
          "text": [
            "\n"
          ]
        },
        {
          "output_type": "stream",
          "name": "stderr",
          "text": [
            "INFO:pyhealth.trainer:\n"
          ]
        },
        {
          "output_type": "display_data",
          "data": {
            "text/plain": [
              "Epoch 5 / 20:   0%|          | 0/12 [00:00<?, ?it/s]"
            ],
            "application/vnd.jupyter.widget-view+json": {
              "version_major": 2,
              "version_minor": 0,
              "model_id": "031395cef39046deb8e9f3af9463ae8a"
            }
          },
          "metadata": {}
        },
        {
          "output_type": "stream",
          "name": "stdout",
          "text": [
            "--- Train epoch-5, step-72 ---\n"
          ]
        },
        {
          "output_type": "stream",
          "name": "stderr",
          "text": [
            "INFO:pyhealth.trainer:--- Train epoch-5, step-72 ---\n"
          ]
        },
        {
          "output_type": "stream",
          "name": "stdout",
          "text": [
            "loss: 0.5340\n"
          ]
        },
        {
          "output_type": "stream",
          "name": "stderr",
          "text": [
            "INFO:pyhealth.trainer:loss: 0.5340\n",
            "Evaluation: 100%|██████████| 2/2 [00:00<00:00, 147.51it/s]\n"
          ]
        },
        {
          "output_type": "stream",
          "name": "stdout",
          "text": [
            "--- Eval epoch-5, step-72 ---\n"
          ]
        },
        {
          "output_type": "stream",
          "name": "stderr",
          "text": [
            "INFO:pyhealth.trainer:--- Eval epoch-5, step-72 ---\n"
          ]
        },
        {
          "output_type": "stream",
          "name": "stdout",
          "text": [
            "accuracy: 0.2967\n"
          ]
        },
        {
          "output_type": "stream",
          "name": "stderr",
          "text": [
            "INFO:pyhealth.trainer:accuracy: 0.2967\n"
          ]
        },
        {
          "output_type": "stream",
          "name": "stdout",
          "text": [
            "jaccard_weighted: 0.1833\n"
          ]
        },
        {
          "output_type": "stream",
          "name": "stderr",
          "text": [
            "INFO:pyhealth.trainer:jaccard_weighted: 0.1833\n"
          ]
        },
        {
          "output_type": "stream",
          "name": "stdout",
          "text": [
            "loss: 2.3723\n"
          ]
        },
        {
          "output_type": "stream",
          "name": "stderr",
          "text": [
            "INFO:pyhealth.trainer:loss: 2.3723\n"
          ]
        },
        {
          "output_type": "stream",
          "name": "stdout",
          "text": [
            "\n"
          ]
        },
        {
          "output_type": "stream",
          "name": "stderr",
          "text": [
            "INFO:pyhealth.trainer:\n"
          ]
        },
        {
          "output_type": "display_data",
          "data": {
            "text/plain": [
              "Epoch 6 / 20:   0%|          | 0/12 [00:00<?, ?it/s]"
            ],
            "application/vnd.jupyter.widget-view+json": {
              "version_major": 2,
              "version_minor": 0,
              "model_id": "4391e8c7c9ac46c0a658646d0f3759c9"
            }
          },
          "metadata": {}
        },
        {
          "output_type": "stream",
          "name": "stdout",
          "text": [
            "--- Train epoch-6, step-84 ---\n"
          ]
        },
        {
          "output_type": "stream",
          "name": "stderr",
          "text": [
            "INFO:pyhealth.trainer:--- Train epoch-6, step-84 ---\n"
          ]
        },
        {
          "output_type": "stream",
          "name": "stdout",
          "text": [
            "loss: 0.3422\n"
          ]
        },
        {
          "output_type": "stream",
          "name": "stderr",
          "text": [
            "INFO:pyhealth.trainer:loss: 0.3422\n",
            "Evaluation: 100%|██████████| 2/2 [00:00<00:00, 157.55it/s]\n"
          ]
        },
        {
          "output_type": "stream",
          "name": "stdout",
          "text": [
            "--- Eval epoch-6, step-84 ---\n"
          ]
        },
        {
          "output_type": "stream",
          "name": "stderr",
          "text": [
            "INFO:pyhealth.trainer:--- Eval epoch-6, step-84 ---\n"
          ]
        },
        {
          "output_type": "stream",
          "name": "stdout",
          "text": [
            "accuracy: 0.3187\n"
          ]
        },
        {
          "output_type": "stream",
          "name": "stderr",
          "text": [
            "INFO:pyhealth.trainer:accuracy: 0.3187\n"
          ]
        },
        {
          "output_type": "stream",
          "name": "stdout",
          "text": [
            "jaccard_weighted: 0.1990\n"
          ]
        },
        {
          "output_type": "stream",
          "name": "stderr",
          "text": [
            "INFO:pyhealth.trainer:jaccard_weighted: 0.1990\n"
          ]
        },
        {
          "output_type": "stream",
          "name": "stdout",
          "text": [
            "loss: 2.5377\n"
          ]
        },
        {
          "output_type": "stream",
          "name": "stderr",
          "text": [
            "INFO:pyhealth.trainer:loss: 2.5377\n"
          ]
        },
        {
          "output_type": "stream",
          "name": "stdout",
          "text": [
            "New best jaccard_weighted score (0.1990) at epoch-6, step-84\n"
          ]
        },
        {
          "output_type": "stream",
          "name": "stderr",
          "text": [
            "INFO:pyhealth.trainer:New best jaccard_weighted score (0.1990) at epoch-6, step-84\n"
          ]
        },
        {
          "output_type": "stream",
          "name": "stdout",
          "text": [
            "\n"
          ]
        },
        {
          "output_type": "stream",
          "name": "stderr",
          "text": [
            "INFO:pyhealth.trainer:\n"
          ]
        },
        {
          "output_type": "display_data",
          "data": {
            "text/plain": [
              "Epoch 7 / 20:   0%|          | 0/12 [00:00<?, ?it/s]"
            ],
            "application/vnd.jupyter.widget-view+json": {
              "version_major": 2,
              "version_minor": 0,
              "model_id": "6825b14d21c046e6b91bc5b1ab1a21c2"
            }
          },
          "metadata": {}
        },
        {
          "output_type": "stream",
          "name": "stdout",
          "text": [
            "--- Train epoch-7, step-96 ---\n"
          ]
        },
        {
          "output_type": "stream",
          "name": "stderr",
          "text": [
            "INFO:pyhealth.trainer:--- Train epoch-7, step-96 ---\n"
          ]
        },
        {
          "output_type": "stream",
          "name": "stdout",
          "text": [
            "loss: 0.2203\n"
          ]
        },
        {
          "output_type": "stream",
          "name": "stderr",
          "text": [
            "INFO:pyhealth.trainer:loss: 0.2203\n",
            "Evaluation: 100%|██████████| 2/2 [00:00<00:00, 177.84it/s]"
          ]
        },
        {
          "output_type": "stream",
          "name": "stdout",
          "text": [
            "--- Eval epoch-7, step-96 ---\n"
          ]
        },
        {
          "output_type": "stream",
          "name": "stderr",
          "text": [
            "\n",
            "INFO:pyhealth.trainer:--- Eval epoch-7, step-96 ---\n"
          ]
        },
        {
          "output_type": "stream",
          "name": "stdout",
          "text": [
            "accuracy: 0.3297\n"
          ]
        },
        {
          "output_type": "stream",
          "name": "stderr",
          "text": [
            "INFO:pyhealth.trainer:accuracy: 0.3297\n"
          ]
        },
        {
          "output_type": "stream",
          "name": "stdout",
          "text": [
            "jaccard_weighted: 0.2100\n"
          ]
        },
        {
          "output_type": "stream",
          "name": "stderr",
          "text": [
            "INFO:pyhealth.trainer:jaccard_weighted: 0.2100\n"
          ]
        },
        {
          "output_type": "stream",
          "name": "stdout",
          "text": [
            "loss: 2.7164\n"
          ]
        },
        {
          "output_type": "stream",
          "name": "stderr",
          "text": [
            "INFO:pyhealth.trainer:loss: 2.7164\n"
          ]
        },
        {
          "output_type": "stream",
          "name": "stdout",
          "text": [
            "New best jaccard_weighted score (0.2100) at epoch-7, step-96\n"
          ]
        },
        {
          "output_type": "stream",
          "name": "stderr",
          "text": [
            "INFO:pyhealth.trainer:New best jaccard_weighted score (0.2100) at epoch-7, step-96\n"
          ]
        },
        {
          "output_type": "stream",
          "name": "stdout",
          "text": [
            "\n"
          ]
        },
        {
          "output_type": "stream",
          "name": "stderr",
          "text": [
            "INFO:pyhealth.trainer:\n"
          ]
        },
        {
          "output_type": "display_data",
          "data": {
            "text/plain": [
              "Epoch 8 / 20:   0%|          | 0/12 [00:00<?, ?it/s]"
            ],
            "application/vnd.jupyter.widget-view+json": {
              "version_major": 2,
              "version_minor": 0,
              "model_id": "1339e42d875647a7a3a313ee5a66b5da"
            }
          },
          "metadata": {}
        },
        {
          "output_type": "stream",
          "name": "stdout",
          "text": [
            "--- Train epoch-8, step-108 ---\n"
          ]
        },
        {
          "output_type": "stream",
          "name": "stderr",
          "text": [
            "INFO:pyhealth.trainer:--- Train epoch-8, step-108 ---\n"
          ]
        },
        {
          "output_type": "stream",
          "name": "stdout",
          "text": [
            "loss: 0.1277\n"
          ]
        },
        {
          "output_type": "stream",
          "name": "stderr",
          "text": [
            "INFO:pyhealth.trainer:loss: 0.1277\n",
            "Evaluation: 100%|██████████| 2/2 [00:00<00:00, 172.29it/s]"
          ]
        },
        {
          "output_type": "stream",
          "name": "stdout",
          "text": [
            "--- Eval epoch-8, step-108 ---\n"
          ]
        },
        {
          "output_type": "stream",
          "name": "stderr",
          "text": [
            "\n",
            "INFO:pyhealth.trainer:--- Eval epoch-8, step-108 ---\n"
          ]
        },
        {
          "output_type": "stream",
          "name": "stdout",
          "text": [
            "accuracy: 0.3297\n"
          ]
        },
        {
          "output_type": "stream",
          "name": "stderr",
          "text": [
            "INFO:pyhealth.trainer:accuracy: 0.3297\n"
          ]
        },
        {
          "output_type": "stream",
          "name": "stdout",
          "text": [
            "jaccard_weighted: 0.2054\n"
          ]
        },
        {
          "output_type": "stream",
          "name": "stderr",
          "text": [
            "INFO:pyhealth.trainer:jaccard_weighted: 0.2054\n"
          ]
        },
        {
          "output_type": "stream",
          "name": "stdout",
          "text": [
            "loss: 2.8844\n"
          ]
        },
        {
          "output_type": "stream",
          "name": "stderr",
          "text": [
            "INFO:pyhealth.trainer:loss: 2.8844\n"
          ]
        },
        {
          "output_type": "stream",
          "name": "stdout",
          "text": [
            "\n"
          ]
        },
        {
          "output_type": "stream",
          "name": "stderr",
          "text": [
            "INFO:pyhealth.trainer:\n"
          ]
        },
        {
          "output_type": "display_data",
          "data": {
            "text/plain": [
              "Epoch 9 / 20:   0%|          | 0/12 [00:00<?, ?it/s]"
            ],
            "application/vnd.jupyter.widget-view+json": {
              "version_major": 2,
              "version_minor": 0,
              "model_id": "07842568b4e14305bd106477442cfa5b"
            }
          },
          "metadata": {}
        },
        {
          "output_type": "stream",
          "name": "stdout",
          "text": [
            "--- Train epoch-9, step-120 ---\n"
          ]
        },
        {
          "output_type": "stream",
          "name": "stderr",
          "text": [
            "INFO:pyhealth.trainer:--- Train epoch-9, step-120 ---\n"
          ]
        },
        {
          "output_type": "stream",
          "name": "stdout",
          "text": [
            "loss: 0.0750\n"
          ]
        },
        {
          "output_type": "stream",
          "name": "stderr",
          "text": [
            "INFO:pyhealth.trainer:loss: 0.0750\n",
            "Evaluation: 100%|██████████| 2/2 [00:00<00:00, 187.03it/s]"
          ]
        },
        {
          "output_type": "stream",
          "name": "stdout",
          "text": [
            "--- Eval epoch-9, step-120 ---\n"
          ]
        },
        {
          "output_type": "stream",
          "name": "stderr",
          "text": [
            "\n",
            "INFO:pyhealth.trainer:--- Eval epoch-9, step-120 ---\n"
          ]
        },
        {
          "output_type": "stream",
          "name": "stdout",
          "text": [
            "accuracy: 0.3297\n"
          ]
        },
        {
          "output_type": "stream",
          "name": "stderr",
          "text": [
            "INFO:pyhealth.trainer:accuracy: 0.3297\n"
          ]
        },
        {
          "output_type": "stream",
          "name": "stdout",
          "text": [
            "jaccard_weighted: 0.2034\n"
          ]
        },
        {
          "output_type": "stream",
          "name": "stderr",
          "text": [
            "INFO:pyhealth.trainer:jaccard_weighted: 0.2034\n"
          ]
        },
        {
          "output_type": "stream",
          "name": "stdout",
          "text": [
            "loss: 3.0529\n"
          ]
        },
        {
          "output_type": "stream",
          "name": "stderr",
          "text": [
            "INFO:pyhealth.trainer:loss: 3.0529\n"
          ]
        },
        {
          "output_type": "stream",
          "name": "stdout",
          "text": [
            "\n"
          ]
        },
        {
          "output_type": "stream",
          "name": "stderr",
          "text": [
            "INFO:pyhealth.trainer:\n"
          ]
        },
        {
          "output_type": "display_data",
          "data": {
            "text/plain": [
              "Epoch 10 / 20:   0%|          | 0/12 [00:00<?, ?it/s]"
            ],
            "application/vnd.jupyter.widget-view+json": {
              "version_major": 2,
              "version_minor": 0,
              "model_id": "30c344cc8faf4a23a92105e20bbf7519"
            }
          },
          "metadata": {}
        },
        {
          "output_type": "stream",
          "name": "stdout",
          "text": [
            "--- Train epoch-10, step-132 ---\n"
          ]
        },
        {
          "output_type": "stream",
          "name": "stderr",
          "text": [
            "INFO:pyhealth.trainer:--- Train epoch-10, step-132 ---\n"
          ]
        },
        {
          "output_type": "stream",
          "name": "stdout",
          "text": [
            "loss: 0.0526\n"
          ]
        },
        {
          "output_type": "stream",
          "name": "stderr",
          "text": [
            "INFO:pyhealth.trainer:loss: 0.0526\n",
            "Evaluation: 100%|██████████| 2/2 [00:00<00:00, 175.38it/s]\n"
          ]
        },
        {
          "output_type": "stream",
          "name": "stdout",
          "text": [
            "--- Eval epoch-10, step-132 ---\n"
          ]
        },
        {
          "output_type": "stream",
          "name": "stderr",
          "text": [
            "INFO:pyhealth.trainer:--- Eval epoch-10, step-132 ---\n"
          ]
        },
        {
          "output_type": "stream",
          "name": "stdout",
          "text": [
            "accuracy: 0.3187\n"
          ]
        },
        {
          "output_type": "stream",
          "name": "stderr",
          "text": [
            "INFO:pyhealth.trainer:accuracy: 0.3187\n"
          ]
        },
        {
          "output_type": "stream",
          "name": "stdout",
          "text": [
            "jaccard_weighted: 0.1984\n"
          ]
        },
        {
          "output_type": "stream",
          "name": "stderr",
          "text": [
            "INFO:pyhealth.trainer:jaccard_weighted: 0.1984\n"
          ]
        },
        {
          "output_type": "stream",
          "name": "stdout",
          "text": [
            "loss: 3.1496\n"
          ]
        },
        {
          "output_type": "stream",
          "name": "stderr",
          "text": [
            "INFO:pyhealth.trainer:loss: 3.1496\n"
          ]
        },
        {
          "output_type": "stream",
          "name": "stdout",
          "text": [
            "\n"
          ]
        },
        {
          "output_type": "stream",
          "name": "stderr",
          "text": [
            "INFO:pyhealth.trainer:\n"
          ]
        },
        {
          "output_type": "display_data",
          "data": {
            "text/plain": [
              "Epoch 11 / 20:   0%|          | 0/12 [00:00<?, ?it/s]"
            ],
            "application/vnd.jupyter.widget-view+json": {
              "version_major": 2,
              "version_minor": 0,
              "model_id": "a303b65b49ee4bf4bb0cc4ca108059fe"
            }
          },
          "metadata": {}
        },
        {
          "output_type": "stream",
          "name": "stdout",
          "text": [
            "--- Train epoch-11, step-144 ---\n"
          ]
        },
        {
          "output_type": "stream",
          "name": "stderr",
          "text": [
            "INFO:pyhealth.trainer:--- Train epoch-11, step-144 ---\n"
          ]
        },
        {
          "output_type": "stream",
          "name": "stdout",
          "text": [
            "loss: 0.0355\n"
          ]
        },
        {
          "output_type": "stream",
          "name": "stderr",
          "text": [
            "INFO:pyhealth.trainer:loss: 0.0355\n",
            "Evaluation: 100%|██████████| 2/2 [00:00<00:00, 177.22it/s]\n"
          ]
        },
        {
          "output_type": "stream",
          "name": "stdout",
          "text": [
            "--- Eval epoch-11, step-144 ---\n"
          ]
        },
        {
          "output_type": "stream",
          "name": "stderr",
          "text": [
            "INFO:pyhealth.trainer:--- Eval epoch-11, step-144 ---\n"
          ]
        },
        {
          "output_type": "stream",
          "name": "stdout",
          "text": [
            "accuracy: 0.3187\n"
          ]
        },
        {
          "output_type": "stream",
          "name": "stderr",
          "text": [
            "INFO:pyhealth.trainer:accuracy: 0.3187\n"
          ]
        },
        {
          "output_type": "stream",
          "name": "stdout",
          "text": [
            "jaccard_weighted: 0.2011\n"
          ]
        },
        {
          "output_type": "stream",
          "name": "stderr",
          "text": [
            "INFO:pyhealth.trainer:jaccard_weighted: 0.2011\n"
          ]
        },
        {
          "output_type": "stream",
          "name": "stdout",
          "text": [
            "loss: 3.2688\n"
          ]
        },
        {
          "output_type": "stream",
          "name": "stderr",
          "text": [
            "INFO:pyhealth.trainer:loss: 3.2688\n"
          ]
        },
        {
          "output_type": "stream",
          "name": "stdout",
          "text": [
            "\n"
          ]
        },
        {
          "output_type": "stream",
          "name": "stderr",
          "text": [
            "INFO:pyhealth.trainer:\n"
          ]
        },
        {
          "output_type": "display_data",
          "data": {
            "text/plain": [
              "Epoch 12 / 20:   0%|          | 0/12 [00:00<?, ?it/s]"
            ],
            "application/vnd.jupyter.widget-view+json": {
              "version_major": 2,
              "version_minor": 0,
              "model_id": "7c206dcd40ec454e93f6a2e209e61917"
            }
          },
          "metadata": {}
        },
        {
          "output_type": "stream",
          "name": "stdout",
          "text": [
            "--- Train epoch-12, step-156 ---\n"
          ]
        },
        {
          "output_type": "stream",
          "name": "stderr",
          "text": [
            "INFO:pyhealth.trainer:--- Train epoch-12, step-156 ---\n"
          ]
        },
        {
          "output_type": "stream",
          "name": "stdout",
          "text": [
            "loss: 0.0262\n"
          ]
        },
        {
          "output_type": "stream",
          "name": "stderr",
          "text": [
            "INFO:pyhealth.trainer:loss: 0.0262\n",
            "Evaluation: 100%|██████████| 2/2 [00:00<00:00, 175.10it/s]"
          ]
        },
        {
          "output_type": "stream",
          "name": "stdout",
          "text": [
            "--- Eval epoch-12, step-156 ---\n"
          ]
        },
        {
          "output_type": "stream",
          "name": "stderr",
          "text": [
            "\n",
            "INFO:pyhealth.trainer:--- Eval epoch-12, step-156 ---\n"
          ]
        },
        {
          "output_type": "stream",
          "name": "stdout",
          "text": [
            "accuracy: 0.3077\n"
          ]
        },
        {
          "output_type": "stream",
          "name": "stderr",
          "text": [
            "INFO:pyhealth.trainer:accuracy: 0.3077\n"
          ]
        },
        {
          "output_type": "stream",
          "name": "stdout",
          "text": [
            "jaccard_weighted: 0.1941\n"
          ]
        },
        {
          "output_type": "stream",
          "name": "stderr",
          "text": [
            "INFO:pyhealth.trainer:jaccard_weighted: 0.1941\n"
          ]
        },
        {
          "output_type": "stream",
          "name": "stdout",
          "text": [
            "loss: 3.3569\n"
          ]
        },
        {
          "output_type": "stream",
          "name": "stderr",
          "text": [
            "INFO:pyhealth.trainer:loss: 3.3569\n"
          ]
        },
        {
          "output_type": "stream",
          "name": "stdout",
          "text": [
            "\n"
          ]
        },
        {
          "output_type": "stream",
          "name": "stderr",
          "text": [
            "INFO:pyhealth.trainer:\n"
          ]
        },
        {
          "output_type": "display_data",
          "data": {
            "text/plain": [
              "Epoch 13 / 20:   0%|          | 0/12 [00:00<?, ?it/s]"
            ],
            "application/vnd.jupyter.widget-view+json": {
              "version_major": 2,
              "version_minor": 0,
              "model_id": "dbf1df4034f4400f9a2a882d07c8051f"
            }
          },
          "metadata": {}
        },
        {
          "output_type": "stream",
          "name": "stdout",
          "text": [
            "--- Train epoch-13, step-168 ---\n"
          ]
        },
        {
          "output_type": "stream",
          "name": "stderr",
          "text": [
            "INFO:pyhealth.trainer:--- Train epoch-13, step-168 ---\n"
          ]
        },
        {
          "output_type": "stream",
          "name": "stdout",
          "text": [
            "loss: 0.0203\n"
          ]
        },
        {
          "output_type": "stream",
          "name": "stderr",
          "text": [
            "INFO:pyhealth.trainer:loss: 0.0203\n",
            "Evaluation: 100%|██████████| 2/2 [00:00<00:00, 155.54it/s]"
          ]
        },
        {
          "output_type": "stream",
          "name": "stdout",
          "text": [
            "--- Eval epoch-13, step-168 ---\n"
          ]
        },
        {
          "output_type": "stream",
          "name": "stderr",
          "text": [
            "\n",
            "INFO:pyhealth.trainer:--- Eval epoch-13, step-168 ---\n"
          ]
        },
        {
          "output_type": "stream",
          "name": "stdout",
          "text": [
            "accuracy: 0.2967\n"
          ]
        },
        {
          "output_type": "stream",
          "name": "stderr",
          "text": [
            "INFO:pyhealth.trainer:accuracy: 0.2967\n"
          ]
        },
        {
          "output_type": "stream",
          "name": "stdout",
          "text": [
            "jaccard_weighted: 0.1855\n"
          ]
        },
        {
          "output_type": "stream",
          "name": "stderr",
          "text": [
            "INFO:pyhealth.trainer:jaccard_weighted: 0.1855\n"
          ]
        },
        {
          "output_type": "stream",
          "name": "stdout",
          "text": [
            "loss: 3.4159\n"
          ]
        },
        {
          "output_type": "stream",
          "name": "stderr",
          "text": [
            "INFO:pyhealth.trainer:loss: 3.4159\n"
          ]
        },
        {
          "output_type": "stream",
          "name": "stdout",
          "text": [
            "\n"
          ]
        },
        {
          "output_type": "stream",
          "name": "stderr",
          "text": [
            "INFO:pyhealth.trainer:\n"
          ]
        },
        {
          "output_type": "display_data",
          "data": {
            "text/plain": [
              "Epoch 14 / 20:   0%|          | 0/12 [00:00<?, ?it/s]"
            ],
            "application/vnd.jupyter.widget-view+json": {
              "version_major": 2,
              "version_minor": 0,
              "model_id": "92a33584f3b043edbfdcaf153b93db34"
            }
          },
          "metadata": {}
        },
        {
          "output_type": "stream",
          "name": "stdout",
          "text": [
            "--- Train epoch-14, step-180 ---\n"
          ]
        },
        {
          "output_type": "stream",
          "name": "stderr",
          "text": [
            "INFO:pyhealth.trainer:--- Train epoch-14, step-180 ---\n"
          ]
        },
        {
          "output_type": "stream",
          "name": "stdout",
          "text": [
            "loss: 0.0157\n"
          ]
        },
        {
          "output_type": "stream",
          "name": "stderr",
          "text": [
            "INFO:pyhealth.trainer:loss: 0.0157\n",
            "Evaluation: 100%|██████████| 2/2 [00:00<00:00, 165.49it/s]"
          ]
        },
        {
          "output_type": "stream",
          "name": "stdout",
          "text": [
            "--- Eval epoch-14, step-180 ---\n"
          ]
        },
        {
          "output_type": "stream",
          "name": "stderr",
          "text": [
            "\n",
            "INFO:pyhealth.trainer:--- Eval epoch-14, step-180 ---\n"
          ]
        },
        {
          "output_type": "stream",
          "name": "stdout",
          "text": [
            "accuracy: 0.3077\n"
          ]
        },
        {
          "output_type": "stream",
          "name": "stderr",
          "text": [
            "INFO:pyhealth.trainer:accuracy: 0.3077\n"
          ]
        },
        {
          "output_type": "stream",
          "name": "stdout",
          "text": [
            "jaccard_weighted: 0.1911\n"
          ]
        },
        {
          "output_type": "stream",
          "name": "stderr",
          "text": [
            "INFO:pyhealth.trainer:jaccard_weighted: 0.1911\n"
          ]
        },
        {
          "output_type": "stream",
          "name": "stdout",
          "text": [
            "loss: 3.5203\n"
          ]
        },
        {
          "output_type": "stream",
          "name": "stderr",
          "text": [
            "INFO:pyhealth.trainer:loss: 3.5203\n"
          ]
        },
        {
          "output_type": "stream",
          "name": "stdout",
          "text": [
            "\n"
          ]
        },
        {
          "output_type": "stream",
          "name": "stderr",
          "text": [
            "INFO:pyhealth.trainer:\n"
          ]
        },
        {
          "output_type": "display_data",
          "data": {
            "text/plain": [
              "Epoch 15 / 20:   0%|          | 0/12 [00:00<?, ?it/s]"
            ],
            "application/vnd.jupyter.widget-view+json": {
              "version_major": 2,
              "version_minor": 0,
              "model_id": "8293cf2266a64ae380c40f325ff76e08"
            }
          },
          "metadata": {}
        },
        {
          "output_type": "stream",
          "name": "stdout",
          "text": [
            "--- Train epoch-15, step-192 ---\n"
          ]
        },
        {
          "output_type": "stream",
          "name": "stderr",
          "text": [
            "INFO:pyhealth.trainer:--- Train epoch-15, step-192 ---\n"
          ]
        },
        {
          "output_type": "stream",
          "name": "stdout",
          "text": [
            "loss: 0.0128\n"
          ]
        },
        {
          "output_type": "stream",
          "name": "stderr",
          "text": [
            "INFO:pyhealth.trainer:loss: 0.0128\n",
            "Evaluation: 100%|██████████| 2/2 [00:00<00:00, 155.68it/s]"
          ]
        },
        {
          "output_type": "stream",
          "name": "stdout",
          "text": [
            "--- Eval epoch-15, step-192 ---\n"
          ]
        },
        {
          "output_type": "stream",
          "name": "stderr",
          "text": [
            "\n",
            "INFO:pyhealth.trainer:--- Eval epoch-15, step-192 ---\n"
          ]
        },
        {
          "output_type": "stream",
          "name": "stdout",
          "text": [
            "accuracy: 0.3077\n"
          ]
        },
        {
          "output_type": "stream",
          "name": "stderr",
          "text": [
            "INFO:pyhealth.trainer:accuracy: 0.3077\n"
          ]
        },
        {
          "output_type": "stream",
          "name": "stdout",
          "text": [
            "jaccard_weighted: 0.1901\n"
          ]
        },
        {
          "output_type": "stream",
          "name": "stderr",
          "text": [
            "INFO:pyhealth.trainer:jaccard_weighted: 0.1901\n"
          ]
        },
        {
          "output_type": "stream",
          "name": "stdout",
          "text": [
            "loss: 3.5827\n"
          ]
        },
        {
          "output_type": "stream",
          "name": "stderr",
          "text": [
            "INFO:pyhealth.trainer:loss: 3.5827\n"
          ]
        },
        {
          "output_type": "stream",
          "name": "stdout",
          "text": [
            "\n"
          ]
        },
        {
          "output_type": "stream",
          "name": "stderr",
          "text": [
            "INFO:pyhealth.trainer:\n"
          ]
        },
        {
          "output_type": "display_data",
          "data": {
            "text/plain": [
              "Epoch 16 / 20:   0%|          | 0/12 [00:00<?, ?it/s]"
            ],
            "application/vnd.jupyter.widget-view+json": {
              "version_major": 2,
              "version_minor": 0,
              "model_id": "e31e4f2f7b1f45f69910259115b5e2d6"
            }
          },
          "metadata": {}
        },
        {
          "output_type": "stream",
          "name": "stdout",
          "text": [
            "--- Train epoch-16, step-204 ---\n"
          ]
        },
        {
          "output_type": "stream",
          "name": "stderr",
          "text": [
            "INFO:pyhealth.trainer:--- Train epoch-16, step-204 ---\n"
          ]
        },
        {
          "output_type": "stream",
          "name": "stdout",
          "text": [
            "loss: 0.0113\n"
          ]
        },
        {
          "output_type": "stream",
          "name": "stderr",
          "text": [
            "INFO:pyhealth.trainer:loss: 0.0113\n",
            "Evaluation: 100%|██████████| 2/2 [00:00<00:00, 167.20it/s]\n"
          ]
        },
        {
          "output_type": "stream",
          "name": "stdout",
          "text": [
            "--- Eval epoch-16, step-204 ---\n"
          ]
        },
        {
          "output_type": "stream",
          "name": "stderr",
          "text": [
            "INFO:pyhealth.trainer:--- Eval epoch-16, step-204 ---\n"
          ]
        },
        {
          "output_type": "stream",
          "name": "stdout",
          "text": [
            "accuracy: 0.3187\n"
          ]
        },
        {
          "output_type": "stream",
          "name": "stderr",
          "text": [
            "INFO:pyhealth.trainer:accuracy: 0.3187\n"
          ]
        },
        {
          "output_type": "stream",
          "name": "stdout",
          "text": [
            "jaccard_weighted: 0.2003\n"
          ]
        },
        {
          "output_type": "stream",
          "name": "stderr",
          "text": [
            "INFO:pyhealth.trainer:jaccard_weighted: 0.2003\n"
          ]
        },
        {
          "output_type": "stream",
          "name": "stdout",
          "text": [
            "loss: 3.6128\n"
          ]
        },
        {
          "output_type": "stream",
          "name": "stderr",
          "text": [
            "INFO:pyhealth.trainer:loss: 3.6128\n"
          ]
        },
        {
          "output_type": "stream",
          "name": "stdout",
          "text": [
            "\n"
          ]
        },
        {
          "output_type": "stream",
          "name": "stderr",
          "text": [
            "INFO:pyhealth.trainer:\n"
          ]
        },
        {
          "output_type": "display_data",
          "data": {
            "text/plain": [
              "Epoch 17 / 20:   0%|          | 0/12 [00:00<?, ?it/s]"
            ],
            "application/vnd.jupyter.widget-view+json": {
              "version_major": 2,
              "version_minor": 0,
              "model_id": "08b4cccbcb1a4d39bca312bb84d7c46b"
            }
          },
          "metadata": {}
        },
        {
          "output_type": "stream",
          "name": "stdout",
          "text": [
            "--- Train epoch-17, step-216 ---\n"
          ]
        },
        {
          "output_type": "stream",
          "name": "stderr",
          "text": [
            "INFO:pyhealth.trainer:--- Train epoch-17, step-216 ---\n"
          ]
        },
        {
          "output_type": "stream",
          "name": "stdout",
          "text": [
            "loss: 0.0094\n"
          ]
        },
        {
          "output_type": "stream",
          "name": "stderr",
          "text": [
            "INFO:pyhealth.trainer:loss: 0.0094\n",
            "Evaluation: 100%|██████████| 2/2 [00:00<00:00, 145.49it/s]\n"
          ]
        },
        {
          "output_type": "stream",
          "name": "stdout",
          "text": [
            "--- Eval epoch-17, step-216 ---\n"
          ]
        },
        {
          "output_type": "stream",
          "name": "stderr",
          "text": [
            "INFO:pyhealth.trainer:--- Eval epoch-17, step-216 ---\n"
          ]
        },
        {
          "output_type": "stream",
          "name": "stdout",
          "text": [
            "accuracy: 0.3297\n"
          ]
        },
        {
          "output_type": "stream",
          "name": "stderr",
          "text": [
            "INFO:pyhealth.trainer:accuracy: 0.3297\n"
          ]
        },
        {
          "output_type": "stream",
          "name": "stdout",
          "text": [
            "jaccard_weighted: 0.2078\n"
          ]
        },
        {
          "output_type": "stream",
          "name": "stderr",
          "text": [
            "INFO:pyhealth.trainer:jaccard_weighted: 0.2078\n"
          ]
        },
        {
          "output_type": "stream",
          "name": "stdout",
          "text": [
            "loss: 3.6692\n"
          ]
        },
        {
          "output_type": "stream",
          "name": "stderr",
          "text": [
            "INFO:pyhealth.trainer:loss: 3.6692\n"
          ]
        },
        {
          "output_type": "stream",
          "name": "stdout",
          "text": [
            "\n"
          ]
        },
        {
          "output_type": "stream",
          "name": "stderr",
          "text": [
            "INFO:pyhealth.trainer:\n"
          ]
        },
        {
          "output_type": "display_data",
          "data": {
            "text/plain": [
              "Epoch 18 / 20:   0%|          | 0/12 [00:00<?, ?it/s]"
            ],
            "application/vnd.jupyter.widget-view+json": {
              "version_major": 2,
              "version_minor": 0,
              "model_id": "74ecad5ecb364100a3d9e8aa4b2257bc"
            }
          },
          "metadata": {}
        },
        {
          "output_type": "stream",
          "name": "stdout",
          "text": [
            "--- Train epoch-18, step-228 ---\n"
          ]
        },
        {
          "output_type": "stream",
          "name": "stderr",
          "text": [
            "INFO:pyhealth.trainer:--- Train epoch-18, step-228 ---\n"
          ]
        },
        {
          "output_type": "stream",
          "name": "stdout",
          "text": [
            "loss: 0.0085\n"
          ]
        },
        {
          "output_type": "stream",
          "name": "stderr",
          "text": [
            "INFO:pyhealth.trainer:loss: 0.0085\n",
            "Evaluation: 100%|██████████| 2/2 [00:00<00:00, 155.81it/s]"
          ]
        },
        {
          "output_type": "stream",
          "name": "stdout",
          "text": [
            "--- Eval epoch-18, step-228 ---\n"
          ]
        },
        {
          "output_type": "stream",
          "name": "stderr",
          "text": [
            "\n",
            "INFO:pyhealth.trainer:--- Eval epoch-18, step-228 ---\n"
          ]
        },
        {
          "output_type": "stream",
          "name": "stdout",
          "text": [
            "accuracy: 0.3187\n"
          ]
        },
        {
          "output_type": "stream",
          "name": "stderr",
          "text": [
            "INFO:pyhealth.trainer:accuracy: 0.3187\n"
          ]
        },
        {
          "output_type": "stream",
          "name": "stdout",
          "text": [
            "jaccard_weighted: 0.1974\n"
          ]
        },
        {
          "output_type": "stream",
          "name": "stderr",
          "text": [
            "INFO:pyhealth.trainer:jaccard_weighted: 0.1974\n"
          ]
        },
        {
          "output_type": "stream",
          "name": "stdout",
          "text": [
            "loss: 3.7349\n"
          ]
        },
        {
          "output_type": "stream",
          "name": "stderr",
          "text": [
            "INFO:pyhealth.trainer:loss: 3.7349\n"
          ]
        },
        {
          "output_type": "stream",
          "name": "stdout",
          "text": [
            "\n"
          ]
        },
        {
          "output_type": "stream",
          "name": "stderr",
          "text": [
            "INFO:pyhealth.trainer:\n"
          ]
        },
        {
          "output_type": "display_data",
          "data": {
            "text/plain": [
              "Epoch 19 / 20:   0%|          | 0/12 [00:00<?, ?it/s]"
            ],
            "application/vnd.jupyter.widget-view+json": {
              "version_major": 2,
              "version_minor": 0,
              "model_id": "c6eef231fd7b46e180ffb964d943589b"
            }
          },
          "metadata": {}
        },
        {
          "output_type": "stream",
          "name": "stdout",
          "text": [
            "--- Train epoch-19, step-240 ---\n"
          ]
        },
        {
          "output_type": "stream",
          "name": "stderr",
          "text": [
            "INFO:pyhealth.trainer:--- Train epoch-19, step-240 ---\n"
          ]
        },
        {
          "output_type": "stream",
          "name": "stdout",
          "text": [
            "loss: 0.0073\n"
          ]
        },
        {
          "output_type": "stream",
          "name": "stderr",
          "text": [
            "INFO:pyhealth.trainer:loss: 0.0073\n",
            "Evaluation: 100%|██████████| 2/2 [00:00<00:00, 170.10it/s]"
          ]
        },
        {
          "output_type": "stream",
          "name": "stdout",
          "text": [
            "--- Eval epoch-19, step-240 ---\n"
          ]
        },
        {
          "output_type": "stream",
          "name": "stderr",
          "text": [
            "\n",
            "INFO:pyhealth.trainer:--- Eval epoch-19, step-240 ---\n"
          ]
        },
        {
          "output_type": "stream",
          "name": "stdout",
          "text": [
            "accuracy: 0.3187\n"
          ]
        },
        {
          "output_type": "stream",
          "name": "stderr",
          "text": [
            "INFO:pyhealth.trainer:accuracy: 0.3187\n"
          ]
        },
        {
          "output_type": "stream",
          "name": "stdout",
          "text": [
            "jaccard_weighted: 0.1974\n"
          ]
        },
        {
          "output_type": "stream",
          "name": "stderr",
          "text": [
            "INFO:pyhealth.trainer:jaccard_weighted: 0.1974\n"
          ]
        },
        {
          "output_type": "stream",
          "name": "stdout",
          "text": [
            "loss: 3.7757\n"
          ]
        },
        {
          "output_type": "stream",
          "name": "stderr",
          "text": [
            "INFO:pyhealth.trainer:loss: 3.7757\n"
          ]
        },
        {
          "output_type": "stream",
          "name": "stdout",
          "text": [
            "Loaded best model\n"
          ]
        },
        {
          "output_type": "stream",
          "name": "stderr",
          "text": [
            "INFO:pyhealth.trainer:Loaded best model\n"
          ]
        }
      ]
    },
    {
      "cell_type": "markdown",
      "source": [
        "## 2.8 Model Evaluation\n",
        "\n",
        "Performance on the test set will be evaluated in terms of accuracy, F1, and Cohen's kappa."
      ],
      "metadata": {
        "id": "lNidzxc3hTu6"
      }
    },
    {
      "cell_type": "code",
      "source": [
        "# option 1: use our built-in evaluation metric\n",
        "score = trainer.evaluate(test_loader)\n",
        "print (score)\n",
        "\n",
        "# option 2: use our pyhealth.metrics to evaluate\n",
        "y_true, y_prob, loss = trainer.inference(test_loader)\n",
        "multiclass_metrics_fn(y_true, y_prob, metrics=[\"accuracy\", \"f1_macro\", \"f1_micro\", \"cohen_kappa\"])"
      ],
      "metadata": {
        "colab": {
          "base_uri": "https://localhost:8080/"
        },
        "id": "CjvZKaUXM5lQ",
        "outputId": "4fe0f730-a1fc-42c8-a243-82e216567002"
      },
      "execution_count": 24,
      "outputs": [
        {
          "output_type": "stream",
          "name": "stderr",
          "text": [
            "Evaluation: 100%|██████████| 2/2 [00:00<00:00, 169.50it/s]\n"
          ]
        },
        {
          "output_type": "stream",
          "name": "stdout",
          "text": [
            "{'accuracy': 0.2967032967032967, 'jaccard_weighted': 0.16100322144278187, 'loss': 2.66255259513855}\n"
          ]
        },
        {
          "output_type": "stream",
          "name": "stderr",
          "text": [
            "Evaluation: 100%|██████████| 2/2 [00:00<00:00, 201.42it/s]\n"
          ]
        },
        {
          "output_type": "execute_result",
          "data": {
            "text/plain": [
              "{'accuracy': 0.2967032967032967,\n",
              " 'f1_macro': 0.1370194454593432,\n",
              " 'f1_micro': 0.2967032967032967,\n",
              " 'cohen_kappa': 0.06816000000000011}"
            ]
          },
          "metadata": {},
          "execution_count": 24
        }
      ]
    }
  ]
}